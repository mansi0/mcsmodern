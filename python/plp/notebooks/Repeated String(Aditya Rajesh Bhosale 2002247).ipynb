{
 "cells": [
  {
   "cell_type": "markdown",
   "metadata": {},
   "source": [
    "# Repeated String\n",
    "### Lilah has a string, s, of lowercase English letters that she repeated infinitely many times.\n",
    "### Given an integer, n, find and print the number of letter a's in the first n letters of Lilah's infinite string.\n",
    "### Input Format\n",
    "### The first line contains a single string, s.\n",
    "### The second line contains an integer, n.\n",
    "### Constraints\n",
    "### 1 ≤ | s | ≤ 100\n",
    "### 1 ≤ n ≤ 10^2\n",
    "### For 25% of the test cases, n ≤ 10^6.\n",
    "### Output Format\n",
    "### Print a single integer denoting the number of letter a's in the first n letters of the infinite string created by\n",
    "### repeating s infinitely many times.\n",
    "### Sample Input 0\n",
    "### aba\n",
    "### 10\n",
    "### Sample Output 0\n",
    "### 7\n",
    "### Explanation 0\n",
    "### The first n=0 letters of the infinite string are abaabaabaa . Because there are 7 a's, we print 7 on a\n",
    "### new line.\n",
    "### Sample Input 1\n",
    "### a\n",
    "### 1000000000000\n",
    "### Sample Output 1\n",
    "### 1000000000000\n",
    "### Explanation 1\n",
    "### Because all of the first n=1000000000000 letters of the infinite string are a , we print 1000000000000\n",
    "### on a new line"
   ]
  },
  {
   "cell_type": "code",
   "execution_count": 3,
   "metadata": {},
   "outputs": [
    {
     "name": "stdout",
     "output_type": "stream",
     "text": [
      "Enter String : aba\n",
      "Enter n : 10\n",
      "\n",
      "Occurance of 'a' = 7 times\n"
     ]
    }
   ],
   "source": [
    "import sys\n",
    "s = input(\"Enter String : \")\n",
    "\n",
    "if len(s) < 1 and len(s) >100 :\n",
    "    print(\"Length of string must be in range of 1-100\")\n",
    "    sys.exit(-1)\n",
    "\n",
    "n = int(input(\"Enter n : \"))\n",
    "if n<1 and n>10**12:\n",
    "    print(\"Value of n must be in range of 1-10^12\")\n",
    "    sys.exit(-1)    \n",
    "\n",
    "cnt = i = 0\n",
    "str1 = \"\"\n",
    "if len(s) == 1:\n",
    "    if s[0]=='a':\n",
    "        cnt = n\n",
    "    else:\n",
    "        cnt = 0\n",
    "else:\n",
    "    while(True):\n",
    "        if len(str1) == n:\n",
    "            break\n",
    "        str1 += s[i]\n",
    "        \n",
    "        if s[i] == 'a':\n",
    "            cnt += 1\n",
    "        i+=1\n",
    "        if i == len(s):\n",
    "            i = 0\n",
    "\n",
    "print(\"\\nOccurance of 'a' =\",cnt,\"times\")           "
   ]
  },
  {
   "cell_type": "code",
   "execution_count": 6,
   "metadata": {},
   "outputs": [
    {
     "name": "stdout",
     "output_type": "stream",
     "text": [
      "Enter String : a\n",
      "Enter n : 1000000000000\n",
      "\n",
      "Occurance of 'a' = 1000000000000 times\n"
     ]
    }
   ],
   "source": [
    "import sys\n",
    "s = input(\"Enter String : \")\n",
    "\n",
    "if len(s) < 1 and len(s) >100 :\n",
    "    print(\"Length of string must be in range of 1-100\")\n",
    "    sys.exit(-1)\n",
    "\n",
    "n = int(input(\"Enter n : \"))\n",
    "if n<1 and n>10**12:\n",
    "    print(\"Value of n must be in range of 1-10^12\")\n",
    "    sys.exit(-1)    \n",
    "    \n",
    "cnt = i = 0\n",
    "str1 = \"\"\n",
    "if len(s) == 1:\n",
    "    if s[0]=='a':\n",
    "        cnt = n\n",
    "    else:\n",
    "        cnt = 0\n",
    "else:\n",
    "    while(True):\n",
    "        if len(str1) == n:\n",
    "            break\n",
    "        str1 += s[i]\n",
    "        \n",
    "        if s[i] == 'a':\n",
    "            cnt += 1\n",
    "        i+=1\n",
    "        if i == len(s):\n",
    "            i = 0\n",
    "\n",
    "print(\"\\nOccurance of 'a' =\",cnt,\"times\")  "
   ]
  },
  {
   "cell_type": "code",
   "execution_count": 7,
   "metadata": {},
   "outputs": [
    {
     "name": "stdout",
     "output_type": "stream",
     "text": [
      "Enter String : b\n",
      "Enter n : 1111111111\n",
      "\n",
      "Occurance of 'a' = 0 times\n"
     ]
    }
   ],
   "source": [
    "import sys\n",
    "s = input(\"Enter String : \")\n",
    "\n",
    "if len(s) < 1 and len(s) >100 :\n",
    "    print(\"Length of string must be in range of 1-100\")\n",
    "    sys.exit(-1)\n",
    "\n",
    "n = int(input(\"Enter n : \"))\n",
    "if n<1 and n>10**12:\n",
    "    print(\"Value of n must be in range of 1-10^12\")\n",
    "    sys.exit(-1)    \n",
    "    \n",
    "cnt = i = 0\n",
    "str1 = \"\"\n",
    "if len(s) == 1:\n",
    "    if s[0]=='a':\n",
    "        cnt = n\n",
    "    else:\n",
    "        cnt = 0\n",
    "else:\n",
    "    while(True):\n",
    "        if len(str1) == n:\n",
    "            break\n",
    "        str1 += s[i]\n",
    "        \n",
    "        if s[i] == 'a':\n",
    "            cnt += 1\n",
    "        i+=1\n",
    "        if i == len(s):\n",
    "            i = 0\n",
    "\n",
    "print(\"\\nOccurance of 'a' =\",cnt,\"times\")  "
   ]
  },
  {
   "cell_type": "code",
   "execution_count": null,
   "metadata": {},
   "outputs": [],
   "source": []
  }
 ],
 "metadata": {
  "kernelspec": {
   "display_name": "Python 3",
   "language": "python",
   "name": "python3"
  },
  "language_info": {
   "codemirror_mode": {
    "name": "ipython",
    "version": 3
   },
   "file_extension": ".py",
   "mimetype": "text/x-python",
   "name": "python",
   "nbconvert_exporter": "python",
   "pygments_lexer": "ipython3",
   "version": "3.7.6"
  }
 },
 "nbformat": 4,
 "nbformat_minor": 4
}
