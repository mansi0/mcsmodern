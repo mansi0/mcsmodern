{
 "cells": [
  {
   "cell_type": "markdown",
   "metadata": {},
   "source": [
    "## 1. Write a Python program to calculate the length of a string."
   ]
  },
  {
   "cell_type": "code",
   "execution_count": 18,
   "metadata": {},
   "outputs": [
    {
     "name": "stdout",
     "output_type": "stream",
     "text": [
      "Enter String:mansi\n",
      "5\n"
     ]
    }
   ],
   "source": [
    "s = input(\"Enter String:\")\n",
    "print(len(s))    #Build in function"
   ]
  },
  {
   "cell_type": "code",
   "execution_count": 17,
   "metadata": {},
   "outputs": [
    {
     "name": "stdout",
     "output_type": "stream",
     "text": [
      "Enter String:mansi\n",
      "5\n"
     ]
    }
   ],
   "source": [
    "s = input(\"Enter String:\")\n",
    "l = 0\n",
    "for i in s :\n",
    "    l += 1\n",
    "print(l)"
   ]
  },
  {
   "cell_type": "code",
   "execution_count": 16,
   "metadata": {},
   "outputs": [
    {
     "name": "stdout",
     "output_type": "stream",
     "text": [
      "Enter String:mansi\n",
      "5\n"
     ]
    }
   ],
   "source": [
    "s = input(\"Enter String:\")\n",
    "l = 0\n",
    "while s[l:] :\n",
    "    l+= 1\n",
    "print(l)"
   ]
  },
  {
   "cell_type": "markdown",
   "metadata": {},
   "source": [
    "## 2. Check if given string is palindrome."
   ]
  },
  {
   "cell_type": "code",
   "execution_count": 19,
   "metadata": {},
   "outputs": [
    {
     "name": "stdout",
     "output_type": "stream",
     "text": [
      "Enter String:madam\n",
      "String is palindrome\n"
     ]
    }
   ],
   "source": [
    "s = input(\"Enter String:\")\n",
    "str = \"\" \n",
    "for i in s: \n",
    "    str = i + str               #reverse string\n",
    "if s == rev :                   #compare original string and reverse string\n",
    "    print(\"String is palindrome\")\n",
    "else :\n",
    "    print(\"String is not palindrome\")"
   ]
  },
  {
   "cell_type": "code",
   "execution_count": 20,
   "metadata": {},
   "outputs": [
    {
     "name": "stdout",
     "output_type": "stream",
     "text": [
      "Enter String:madam\n",
      "String is palindrome\n"
     ]
    }
   ],
   "source": [
    "s = input(\"Enter String:\")\n",
    "rev = s[::-1]                   #reverse string\n",
    "if s == rev :                   #compare original string and reverse string\n",
    "    print(\"String is palindrome\")\n",
    "else :\n",
    "    print(\"String is not palindrome\")"
   ]
  },
  {
   "cell_type": "code",
   "execution_count": 5,
   "metadata": {},
   "outputs": [
    {
     "name": "stdout",
     "output_type": "stream",
     "text": [
      "Enter String:abcd\n",
      "String is not palindrome\n"
     ]
    }
   ],
   "source": [
    "s = input(\"Enter String:\")\n",
    "def palindrome(s):\n",
    "    for i in range(0 ,int(len(s)/2)) :        #Traverse string upto len/2\n",
    "        if s[i] != s[len(s)-(i+1)] :          #compare start letter with last letter and so on...\n",
    "            return False\n",
    "        else :\n",
    "            return True\n",
    "        \n",
    "ans = palindrome(s)\n",
    "if ans :\n",
    "    print(\"String is palindrome\")\n",
    "else :\n",
    "    print(\"String is not palindrome\")"
   ]
  },
  {
   "cell_type": "markdown",
   "metadata": {},
   "source": [
    "## 3. Write a Python program to get a string made of the first 2 and the last 2 chars from agiven a string. If the string length is less than 2, return instead of the empty string.\n",
    "#### Sample String : ‘Learning Python’\n",
    "#### Expected Result : ‘Leon’\n",
    "#### Sample String : 'Pi'\n",
    "#### Expected Result : 'PiPi'\n",
    "#### Sample String : ' S'\n",
    "#### Expected Result : Empty String"
   ]
  },
  {
   "cell_type": "code",
   "execution_count": 17,
   "metadata": {},
   "outputs": [
    {
     "name": "stdout",
     "output_type": "stream",
     "text": [
      "Enter String:mansi mandhare\n",
      "mare\n"
     ]
    }
   ],
   "source": [
    "s = input(\"Enter String:\")\n",
    "if len(s) < 2 :\n",
    "    print(\"\")\n",
    "else :\n",
    "    print(s[0:2]+s[len(s)-2 :len(s)])"
   ]
  },
  {
   "cell_type": "code",
   "execution_count": 16,
   "metadata": {},
   "outputs": [
    {
     "name": "stdout",
     "output_type": "stream",
     "text": [
      "Enter String:pipi\n",
      "pipi"
     ]
    }
   ],
   "source": [
    "s = input(\"Enter String:\")\n",
    "if len(s) >1 :\n",
    "    for i in range(0,2) :\n",
    "        print(s[i],end=\"\")\n",
    "    for i in range(len(s)-2,len(s)) :\n",
    "        print(s[i],end=\"\")"
   ]
  },
  {
   "cell_type": "markdown",
   "metadata": {},
   "source": [
    "## 4. Write a Python program to get a string from a given string where all occurrences of its first char have been changed to \" Dollar sign \", except the first char itself.\n",
    "#### Sample String : 'restart'\n",
    "#### Expected Result : 'resta$t'"
   ]
  },
  {
   "cell_type": "code",
   "execution_count": 22,
   "metadata": {},
   "outputs": [
    {
     "name": "stdout",
     "output_type": "stream",
     "text": [
      "Enter String:restart\n",
      "resta$t\n"
     ]
    }
   ],
   "source": [
    "s = input(\"Enter String:\")\n",
    "first = s[0]                       #save first letter into variable\n",
    "for i in range(1 , len(s)) :       # traverse the string\n",
    "    if s[i] == first :\n",
    "        s = s[:i] + '$' + s[i+1:]  # Replace all occurances in string by $\n",
    "print(s)"
   ]
  },
  {
   "cell_type": "code",
   "execution_count": 23,
   "metadata": {},
   "outputs": [
    {
     "name": "stdout",
     "output_type": "stream",
     "text": [
      "Enter String:restart\n",
      "resta$t\n"
     ]
    }
   ],
   "source": [
    "def change_char(str1):\n",
    "  char = str1[0]\n",
    "  str1 = str1.replace(char, '$')   # replace all occurances of 1st char into $ including 1st character\n",
    "  str1 = char + str1[1:]           # Delete first $ sign from string ; Append first character \n",
    "                                   # which saved in another variable\n",
    "\n",
    "  return str1\n",
    "\n",
    "s = input(\"Enter String:\")\n",
    "print(change_char(s))"
   ]
  },
  {
   "cell_type": "markdown",
   "metadata": {},
   "source": [
    "### 5.Write a Python program to get a single string from two given strings, separated by a space and swap the first two characters of each string. \n",
    "#### Sample String : 'abc', 'xyz'\n",
    "#### Expected Result : 'xyc abz'"
   ]
  },
  {
   "cell_type": "code",
   "execution_count": 26,
   "metadata": {},
   "outputs": [
    {
     "name": "stdout",
     "output_type": "stream",
     "text": [
      "Enter 1st String:abc\n",
      "Enter 2nd String:xyz\n",
      "xyc abz\n"
     ]
    }
   ],
   "source": [
    "s1 = input(\"Enter 1st String:\")\n",
    "s2 = input(\"Enter 2nd String:\")\n",
    "s3 = s2[:2] + s1[2:] + \" \" + s1[:2] + s2[2:]\n",
    "print(s3)"
   ]
  },
  {
   "cell_type": "markdown",
   "metadata": {},
   "source": [
    "### 6. Write a Python program to add 'ing' at the end of a given string (length should be at least 3). If the given string already ends with 'ing' then add 'ly' instead. If the string length of the given string is less than 3, leave it unchanged.\n",
    "#### Sample String : 'abc'\n",
    "#### Expected Result : 'abcing'\n",
    "#### Sample String : 'string'\n",
    "#### Expected Result : 'stringly'"
   ]
  },
  {
   "cell_type": "code",
   "execution_count": 31,
   "metadata": {},
   "outputs": [
    {
     "name": "stdout",
     "output_type": "stream",
     "text": [
      "Enter String:string\n",
      "stringly\n"
     ]
    }
   ],
   "source": [
    "s = input(\"Enter String:\")\n",
    "if len(s) > 2 :\n",
    "    if(s[-3 :] == 'ing') :             # check given string already ends with ing \n",
    "        s = s + \"ly\"                   # if yes append ly\n",
    "    else :\n",
    "        s = s + \"ing\"                  # append ing to string having length at least 3\n",
    "print(s)\n",
    "    "
   ]
  },
  {
   "cell_type": "markdown",
   "metadata": {},
   "source": [
    "### 7. Write a Python program to find the first appearance of the substring 'not' and 'poor' from a given string, if 'bad' follows the 'poor', replace the whole 'not'...'poor' substring with 'good'. Return the resulting string.\n",
    "#### Sample String : 'The music is not that poor!'\n",
    "#### Expected Result : 'The music is good!'"
   ]
  },
  {
   "cell_type": "code",
   "execution_count": 1,
   "metadata": {},
   "outputs": [
    {
     "name": "stdout",
     "output_type": "stream",
     "text": [
      "Enter String:The music is not that poor!\n"
     ]
    },
    {
     "data": {
      "text/plain": [
       "'The music is good!'"
      ]
     },
     "execution_count": 1,
     "metadata": {},
     "output_type": "execute_result"
    }
   ],
   "source": [
    "def not_poor(str1):\n",
    "  snot = str1.find('not')\n",
    "  spoor = str1.find('poor')\n",
    "  \n",
    "\n",
    "  if spoor > snot and snot>0 and spoor>0:\n",
    "    str1 = str1.replace(str1[snot:(spoor+4)], 'good')\n",
    "    return str1\n",
    "  else:\n",
    "    return str1\n",
    "s = input(\"Enter String:\")\n",
    "print(not_poor(s))"
   ]
  },
  {
   "cell_type": "markdown",
   "metadata": {},
   "source": [
    "### 8. Write a Python function that takes a list of words and returns the length of the longest one."
   ]
  },
  {
   "cell_type": "code",
   "execution_count": 24,
   "metadata": {},
   "outputs": [
    {
     "name": "stdout",
     "output_type": "stream",
     "text": [
      "Enter string:mansi mandhare msccs\n",
      "longest word:mandhare\n"
     ]
    }
   ],
   "source": [
    "string = input(\"Enter string:\")\n",
    "longest = 0\n",
    "longest_word\n",
    "for word in string.split() :\n",
    "    if len(word) > longest :\n",
    "        longest = len(word)\n",
    "        longest_word = word\n",
    "        \n",
    "print(\"longest word:\"+longest_word)    "
   ]
  },
  {
   "cell_type": "code",
   "execution_count": 21,
   "metadata": {},
   "outputs": [
    {
     "name": "stdout",
     "output_type": "stream",
     "text": [
      "Enter how many words in list :4\n",
      "Enter word:abc\n",
      "Enter word:sky\n",
      "Enter word:cream\n",
      "Enter word:python\n",
      "longest word:python\n"
     ]
    }
   ],
   "source": [
    "list1 = []\n",
    "\n",
    "n = int(input(\"Enter how many words in list :\"))     #accept the list content\n",
    "for i in range(0,n) :\n",
    "    word = input(\"Enter word:\")\n",
    "    list1.append(word)\n",
    "    \n",
    "longest_word = max(list1, key = len)     \n",
    "print(\"longest word:\"+longest_word)"
   ]
  },
  {
   "cell_type": "code",
   "execution_count": 22,
   "metadata": {},
   "outputs": [
    {
     "name": "stdout",
     "output_type": "stream",
     "text": [
      "Enter how many words in list :4\n",
      "Enter word:python\n",
      "Enter word:java\n",
      "Enter word:c\n",
      "Enter word:c++\n",
      "python\n"
     ]
    }
   ],
   "source": [
    "def find_longest_word(words_list):\n",
    "    word_len = []\n",
    "    for n in words_list:\n",
    "        word_len.append((len(n), n))\n",
    "    word_len.sort()\n",
    "    return word_len[-1][1]\n",
    "\n",
    "\n",
    "n = int(input(\"Enter how many words in list :\"))     #accept the list content\n",
    "for i in range(0,n) :\n",
    "    word = input(\"Enter word:\")\n",
    "    list1.append(word)\n",
    "\n",
    "print(find_longest_word(list1))                      #call to find_longest_word_function"
   ]
  },
  {
   "cell_type": "markdown",
   "metadata": {},
   "source": [
    "## 9. Write a Python program to remove the n th index character from a nonempty string."
   ]
  },
  {
   "cell_type": "code",
   "execution_count": 26,
   "metadata": {},
   "outputs": [
    {
     "name": "stdout",
     "output_type": "stream",
     "text": [
      "Enter a string :mansi\n",
      "Enter index :3\n",
      "mani\n"
     ]
    }
   ],
   "source": [
    "s = input(\"Enter a string :\")\n",
    "index = int(input(\"Enter index :\"))\n",
    "s = s[0:index]+s[index+1:]\n",
    "print(s)\n"
   ]
  },
  {
   "cell_type": "markdown",
   "metadata": {},
   "source": [
    "## 10. Write a Python program to change a given string to a new string where the first and last chars have been exchanged."
   ]
  },
  {
   "cell_type": "code",
   "execution_count": 29,
   "metadata": {},
   "outputs": [
    {
     "name": "stdout",
     "output_type": "stream",
     "text": [
      "Enter a string :mansi\n",
      "iansm\n"
     ]
    }
   ],
   "source": [
    "s = input(\"Enter a string :\")\n",
    "new_string = s[len(s)-1:] + s[1:len(s)-1] + s[0:1]\n",
    "print(new_string)"
   ]
  },
  {
   "cell_type": "markdown",
   "metadata": {},
   "source": [
    "## 11. Write a Python program to remove the characters which have odd index values of a given string.\n"
   ]
  },
  {
   "cell_type": "code",
   "execution_count": 37,
   "metadata": {},
   "outputs": [
    {
     "name": "stdout",
     "output_type": "stream",
     "text": [
      "Enter a string :mansi\n",
      "mni\n"
     ]
    }
   ],
   "source": [
    "s = input(\"Enter a string :\")\n",
    "index = 0;\n",
    "new_string\n",
    "for i in s :\n",
    "    if(index % 2 == 0 ) :\n",
    "        new_string += i\n",
    "    index += 1\n",
    "        \n",
    "print(new_string)\n",
    "        \n",
    "    "
   ]
  },
  {
   "cell_type": "markdown",
   "metadata": {},
   "source": [
    "## 12.Write a Python program to count the occurrences of each word in a given sentence."
   ]
  },
  {
   "cell_type": "code",
   "execution_count": 41,
   "metadata": {},
   "outputs": [
    {
     "name": "stdout",
     "output_type": "stream",
     "text": [
      "Enter string:hey hi hi hellow python book hi book\n",
      "{'hey': 1, 'hi': 3, 'hellow': 1, 'python': 1, 'book': 2}\n"
     ]
    }
   ],
   "source": [
    "string = input(\"Enter string:\")\n",
    "counts = dict()\n",
    "words = string.split()         #convert string into list\n",
    "for word in words:\n",
    "        if word in counts:\n",
    "            counts[word] += 1\n",
    "        else:\n",
    "            counts[word] = 1\n",
    "print(counts)\n",
    "        \n"
   ]
  },
  {
   "cell_type": "markdown",
   "metadata": {},
   "source": [
    "## 13. Write a Python script that takes input from the user and displays that input back in upper and lower cases."
   ]
  },
  {
   "cell_type": "code",
   "execution_count": 42,
   "metadata": {},
   "outputs": [
    {
     "name": "stdout",
     "output_type": "stream",
     "text": [
      "Enter string:mansi\n",
      "lower case: mansi\n",
      "uppercase:  MANSI\n"
     ]
    }
   ],
   "source": [
    "string = input(\"Enter string:\")\n",
    "print(\"lower case:\",string.lower())\n",
    "print(\"uppercase: \",string.upper())"
   ]
  },
  {
   "cell_type": "markdown",
   "metadata": {},
   "source": [
    "## 14. Write a Python program that accepts a comma separated sequence of words as input and prints the unique words in sorted form (alphanumerically).\n",
    "#### Sample Words : red, white, black, red, green, black\n",
    "#### Expected Result : black, green, red, white, red"
   ]
  },
  {
   "cell_type": "code",
   "execution_count": 53,
   "metadata": {},
   "outputs": [
    {
     "name": "stdout",
     "output_type": "stream",
     "text": [
      "Enter string in comma separated sequence:red,white,black,red,green,black\n",
      "['black', 'green', 'red', 'white']\n"
     ]
    }
   ],
   "source": [
    "string = input(\"Enter string in comma separated sequence:\").split(\",\") #convert into list\n",
    "color = set(string)              #convert into set for unique values\n",
    "\n",
    "print(sorted(color))             #sort alphanumerically\n"
   ]
  },
  {
   "cell_type": "markdown",
   "metadata": {},
   "source": [
    "## 15.Write a Python function to create the HTML string with tags around the word(s).\n",
    "Sample function and result :\n",
    "add_tags('i', 'Python 3.7') -> '<i>Python 3.7</i>'\n",
    "add_tags('b', 'Python 3.7 Tutorial') -> '<b>Python 3.7 Tutorial </b>'"
   ]
  },
  {
   "cell_type": "markdown",
   "metadata": {},
   "source": [
    "## 16. Write a Python function to insert a string in the middle of a string.\n",
    "#### Sample function and result :\n",
    "#### insert_sting_middle('[[]]<<>>', 'Python') -> [[Python]]\n",
    "#### insert_sting_middle('{{}}', 'Jython') -> {{Jython}}"
   ]
  },
  {
   "cell_type": "markdown",
   "metadata": {},
   "source": [
    "## 17. Write a Python function to get a string made of 4 copies of the last two characters of a specified string (length must be at least 2)"
   ]
  },
  {
   "cell_type": "code",
   "execution_count": 56,
   "metadata": {},
   "outputs": [
    {
     "name": "stdout",
     "output_type": "stream",
     "text": [
      "Enter string:mansi\n",
      "sisisisi\n"
     ]
    }
   ],
   "source": [
    "string = input(\"Enter string:\")\n",
    "if len(string) >2 :\n",
    "    last=string[len(string)-2:]*4\n",
    "    print(last)"
   ]
  },
  {
   "cell_type": "markdown",
   "metadata": {},
   "source": [
    "18. Sample function and result :\n",
    "insert_end('Python') -> onononon\n",
    "insert_end('Exercises') -> eseseses\n",
    "Write a Python function to get a string made of its first three characters of a specified\n",
    "string. If the length of the string is less than 3 then return the original string."
   ]
  },
  {
   "cell_type": "markdown",
   "metadata": {},
   "source": [
    "## 20. Write a Python program to get the last part of a string before a specified character."
   ]
  },
  {
   "cell_type": "code",
   "execution_count": 57,
   "metadata": {},
   "outputs": [
    {
     "name": "stdout",
     "output_type": "stream",
     "text": [
      "Enter string:mansi_123\n",
      "Enter special char: _\n",
      "123\n"
     ]
    }
   ],
   "source": [
    "string = input(\"Enter string:\")\n",
    "char = input(\"Enter special char: \")\n",
    "index = string.find(char)\n",
    "print(string[index+1 :])"
   ]
  },
  {
   "cell_type": "markdown",
   "metadata": {},
   "source": [
    "## 21. Write a Python function to reverses a string if it's length is a multiple of 4."
   ]
  },
  {
   "cell_type": "code",
   "execution_count": 61,
   "metadata": {},
   "outputs": [
    {
     "name": "stdout",
     "output_type": "stream",
     "text": [
      "Enter string:abcdabcd\n",
      "dcbadcba\n"
     ]
    }
   ],
   "source": [
    "string = input(\"Enter string:\")\n",
    "if len(string) % 4 == 0 :\n",
    "    rev = string[::-1]\n",
    "    print(rev)"
   ]
  },
  {
   "cell_type": "markdown",
   "metadata": {},
   "source": [
    "## 22. Write a Python function to convert a given string to all uppercase if it contains at least 2 uppercase characters in the first 4 characters."
   ]
  },
  {
   "cell_type": "code",
   "execution_count": 66,
   "metadata": {},
   "outputs": [
    {
     "name": "stdout",
     "output_type": "stream",
     "text": [
      "Enter string:MAnsi\n",
      "MANSI\n"
     ]
    }
   ],
   "source": [
    "string = input(\"Enter string:\")\n",
    "count = 0\n",
    "for c in string[:4] :\n",
    "    if c.isupper() :\n",
    "        count += 1\n",
    "if count >= 2 :\n",
    "    print(string.upper())\n",
    "    "
   ]
  },
  {
   "cell_type": "markdown",
   "metadata": {},
   "source": [
    "## 23. Write a Python program to sort a string lexicographically."
   ]
  },
  {
   "cell_type": "code",
   "execution_count": 67,
   "metadata": {},
   "outputs": [
    {
     "name": "stdout",
     "output_type": "stream",
     "text": [
      "Enter string:mansi123\n",
      "['1', '2', '3', 'a', 'i', 'm', 'n', 's']\n"
     ]
    }
   ],
   "source": [
    "string = input(\"Enter string:\")\n",
    "print(sorted(string))"
   ]
  },
  {
   "cell_type": "markdown",
   "metadata": {},
   "source": [
    "## 24. Write a Python program to remove a newline in Python."
   ]
  },
  {
   "cell_type": "code",
   "execution_count": 70,
   "metadata": {},
   "outputs": [
    {
     "name": "stdout",
     "output_type": "stream",
     "text": [
      "mansi\n"
     ]
    }
   ],
   "source": [
    "string = \"mansi\\n\"\n",
    "print(string.rstrip()) #remove blankspace or blankline"
   ]
  },
  {
   "cell_type": "markdown",
   "metadata": {},
   "source": [
    "## 25. Write a Python program to check whether a string starts with specified characters."
   ]
  },
  {
   "cell_type": "code",
   "execution_count": 73,
   "metadata": {},
   "outputs": [
    {
     "name": "stdout",
     "output_type": "stream",
     "text": [
      "Enter string:_mansi\n",
      "Enter specified character :_\n",
      "True\n"
     ]
    }
   ],
   "source": [
    "string = input(\"Enter string:\")\n",
    "char = input(\"Enter specified character :\")\n",
    "if char == string[0:1] :\n",
    "    print(True)\n",
    "else : print(False)"
   ]
  },
  {
   "cell_type": "markdown",
   "metadata": {},
   "source": [
    "## 31. Write a Python program to print the following floating numbers upto 2 decimal places."
   ]
  },
  {
   "cell_type": "code",
   "execution_count": 76,
   "metadata": {},
   "outputs": [
    {
     "name": "stdout",
     "output_type": "stream",
     "text": [
      "\n",
      "Original Number:  3.1415926\n",
      "Formatted Number with sign: 3.14\n"
     ]
    }
   ],
   "source": [
    "x = 3.1415926\n",
    "print(\"\\nOriginal Number: \", x)\n",
    "print(\"Formatted Number with sign: \"+\"{:.2f}\".format(x));"
   ]
  },
  {
   "cell_type": "markdown",
   "metadata": {},
   "source": [
    "## 32. Write a Python program to print the following floating numbers upto 2 decimal places with a sign."
   ]
  },
  {
   "cell_type": "code",
   "execution_count": 78,
   "metadata": {},
   "outputs": [
    {
     "name": "stdout",
     "output_type": "stream",
     "text": [
      "\n",
      "Original Number:  3.1415926\n",
      "Formatted Number with sign: +3.14\n",
      "\n",
      "Original Number:  -12.9999\n",
      "Formatted Number with sign: -13.00\n"
     ]
    }
   ],
   "source": [
    "x = 3.1415926\n",
    "y = -12.9999\n",
    "print(\"\\nOriginal Number: \", x)\n",
    "print(\"Formatted Number with sign: \"+\"{:+.2f}\".format(x));\n",
    "print(\"\\nOriginal Number: \", y)\n",
    "print(\"Formatted Number with sign: \"+\"{:+.2f}\".format(y));"
   ]
  },
  {
   "cell_type": "markdown",
   "metadata": {},
   "source": [
    "## 33. Write a Python program to print the following floating numbers with no decimal places."
   ]
  },
  {
   "cell_type": "code",
   "execution_count": 80,
   "metadata": {},
   "outputs": [
    {
     "name": "stdout",
     "output_type": "stream",
     "text": [
      "\n",
      "Original Number:  3.1415926\n",
      "Formatted Number with no decimal places: 3\n",
      "Original Number:  -12.9999\n",
      "Formatted Number with no decimal places: -13\n"
     ]
    }
   ],
   "source": [
    "x = 3.1415926\n",
    "y = -12.9999\n",
    "print(\"\\nOriginal Number: \", x)\n",
    "print(\"Formatted Number with no decimal places: \"+\"{:.0f}\".format(x));\n",
    "print(\"Original Number: \", y)\n",
    "print(\"Formatted Number with no decimal places: \"+\"{:.0f}\".format(y));"
   ]
  },
  {
   "cell_type": "markdown",
   "metadata": {},
   "source": [
    "## 34. Write a Python program to print the following integers with zeros on the left of specified width."
   ]
  },
  {
   "cell_type": "code",
   "execution_count": 81,
   "metadata": {},
   "outputs": [
    {
     "name": "stdout",
     "output_type": "stream",
     "text": [
      "num :  0078\n",
      "num2 : 00009009\n"
     ]
    }
   ],
   "source": [
    "num = 78\n",
    "num2 = 9009\n",
    "\n",
    "print('num : '+' {:0>4d}'.format(num))\n",
    "print('num2 : '+'{:0>8d}'.format(num2))"
   ]
  },
  {
   "cell_type": "markdown",
   "metadata": {},
   "source": [
    "## 35. Write a Python program to print the following integers with '*' on the right of specified width."
   ]
  },
  {
   "cell_type": "code",
   "execution_count": 83,
   "metadata": {},
   "outputs": [
    {
     "name": "stdout",
     "output_type": "stream",
     "text": [
      "num :  78**\n",
      "num2 : 9009****\n"
     ]
    }
   ],
   "source": [
    "num = 78\n",
    "num2 = 9009\n",
    "\n",
    "print('num : '+' {:*<4d}'.format(num))\n",
    "print('num2 : '+'{:*<8d}'.format(num2))"
   ]
  },
  {
   "cell_type": "markdown",
   "metadata": {},
   "source": [
    "## 36. Write a Python program to display a number with a comma separator."
   ]
  },
  {
   "cell_type": "code",
   "execution_count": 84,
   "metadata": {},
   "outputs": [
    {
     "name": "stdout",
     "output_type": "stream",
     "text": [
      "num :  78\n",
      "num2 : 9,009\n"
     ]
    }
   ],
   "source": [
    "num = 78\n",
    "num2 = 9009\n",
    "\n",
    "print('num : '+' {:,}'.format(num))\n",
    "print('num2 : '+'{:,}'.format(num2))"
   ]
  },
  {
   "cell_type": "markdown",
   "metadata": {},
   "source": [
    "## 37. Write a Python program to format a number with a percentage."
   ]
  },
  {
   "cell_type": "code",
   "execution_count": 85,
   "metadata": {},
   "outputs": [
    {
     "name": "stdout",
     "output_type": "stream",
     "text": [
      "num :  78.00%\n",
      "num2 : 90.00%\n"
     ]
    }
   ],
   "source": [
    "num = 0.78\n",
    "num2 = 0.90\n",
    "\n",
    "print('num : '+' {:.2%}'.format(num))\n",
    "print('num2 : '+'{:.2%}'.format(num2))"
   ]
  },
  {
   "cell_type": "markdown",
   "metadata": {},
   "source": [
    "## 38. Write a Python program to display a number in left, right and center aligned of width 10."
   ]
  },
  {
   "cell_type": "code",
   "execution_count": 86,
   "metadata": {},
   "outputs": [
    {
     "name": "stdout",
     "output_type": "stream",
     "text": [
      "num left :   78       \n",
      "num right :         78\n",
      "num center :     78    \n"
     ]
    }
   ],
   "source": [
    "num = 78\n",
    "\n",
    "\n",
    "print('num left : '+' {:< 10d}'.format(num))\n",
    "print('num right : '+'{:10d}'.format(num))\n",
    "print('num center : '+'{:^10d}'.format(num))"
   ]
  },
  {
   "cell_type": "markdown",
   "metadata": {},
   "source": [
    "## 39. Write a Python program to count occurrences of a substring in a string."
   ]
  },
  {
   "cell_type": "code",
   "execution_count": 87,
   "metadata": {},
   "outputs": [
    {
     "name": "stdout",
     "output_type": "stream",
     "text": [
      "2\n"
     ]
    }
   ],
   "source": [
    "string = \"hi hey welcome in python club! hii\"\n",
    "print(string.count(\"hi\"))"
   ]
  },
  {
   "cell_type": "markdown",
   "metadata": {},
   "source": [
    "## 40. Write a Python program to reverse a string."
   ]
  },
  {
   "cell_type": "code",
   "execution_count": 88,
   "metadata": {},
   "outputs": [
    {
     "name": "stdout",
     "output_type": "stream",
     "text": [
      "Enter a string :mansi\n",
      "isnam\n"
     ]
    }
   ],
   "source": [
    "string = input(\"Enter a string :\")\n",
    "print(string[::-1])"
   ]
  },
  {
   "cell_type": "markdown",
   "metadata": {},
   "source": [
    "## 41. Write a Python program to reverse words in a string."
   ]
  },
  {
   "cell_type": "code",
   "execution_count": 98,
   "metadata": {},
   "outputs": [
    {
     "name": "stdout",
     "output_type": "stream",
     "text": [
      "dog. lazy the over jumps fox brown quick The\n"
     ]
    }
   ],
   "source": [
    "def reverse_string_words(text):\n",
    "    for line in text.split('\\n'):\n",
    "        return(' '.join(line.split()[::-1]))\n",
    "print(reverse_string_words(\"The quick brown fox jumps over the lazy dog.\"))\n"
   ]
  },
  {
   "cell_type": "markdown",
   "metadata": {},
   "source": [
    "## 42. Write a Python program to strip a set of characters from a string."
   ]
  },
  {
   "cell_type": "code",
   "execution_count": 100,
   "metadata": {},
   "outputs": [
    {
     "name": "stdout",
     "output_type": "stream",
     "text": [
      "\n",
      "Original String: \n",
      "The quick brown fox jumps over the lazy dog.\n",
      "After stripping a,e,i,o,u\n",
      "Th qck brwn fx jmps vr th lzy dg.\n",
      "\n"
     ]
    }
   ],
   "source": [
    "def strip_chars(str, chars):\n",
    "    return \"\".join(c for c in str if c not in chars)\n",
    "\n",
    "print(\"\\nOriginal String: \")\n",
    "print(\"The quick brown fox jumps over the lazy dog.\")\n",
    "print(\"After stripping a,e,i,o,u\")      \n",
    "print(strip_chars(\"The quick brown fox jumps over the lazy dog.\", \"aeiou\"))\n",
    "print()"
   ]
  },
  {
   "cell_type": "markdown",
   "metadata": {},
   "source": [
    "## 45. Write a Python program to print the square and cube symbol in the area of a rectangle and volume of a cylinder."
   ]
  },
  {
   "cell_type": "code",
   "execution_count": 101,
   "metadata": {},
   "outputs": [
    {
     "name": "stdout",
     "output_type": "stream",
     "text": [
      "The area of the rectangle is 1256.66cm²\n",
      "The volume of the cylinder is 1254.725cm³\n"
     ]
    }
   ],
   "source": [
    "area = 1256.66\n",
    "volume = 1254.725\n",
    "decimals = 2\n",
    "print(\"The area of the rectangle is {0:.{1}f}cm\\u00b2\".format(area, decimals))\n",
    "decimals = 3\n",
    "print(\"The volume of the cylinder is {0:.{1}f}cm\\u00b3\".format(volume, decimals))"
   ]
  },
  {
   "cell_type": "markdown",
   "metadata": {},
   "source": [
    "## 46. Write a Python program to print the index of the character in a string."
   ]
  },
  {
   "cell_type": "code",
   "execution_count": 102,
   "metadata": {},
   "outputs": [
    {
     "name": "stdout",
     "output_type": "stream",
     "text": [
      "character :  J  position :  0\n",
      "character :  a  position :  1\n",
      "character :  v  position :  2\n",
      "character :  a  position :  3\n",
      "character :     position :  4\n",
      "character :  i  position :  5\n",
      "character :  s  position :  6\n",
      "character :     position :  7\n",
      "character :  O  position :  8\n",
      "character :  O  position :  9\n",
      "character :  P  position :  10\n"
     ]
    }
   ],
   "source": [
    "s1 = \"Java is OOP\"\n",
    "\n",
    "for index, char in enumerate(s1):\n",
    "    print('character : ', char + '  position : ',index)"
   ]
  },
  {
   "cell_type": "markdown",
   "metadata": {},
   "source": [
    "## 47.Write a Python program to check if a string contains all letters of the alphabet."
   ]
  },
  {
   "cell_type": "code",
   "execution_count": 105,
   "metadata": {},
   "outputs": [
    {
     "name": "stdout",
     "output_type": "stream",
     "text": [
      "True\n"
     ]
    }
   ],
   "source": [
    "import string\n",
    "\n",
    "allInOne = set(string.ascii_lowercase)\n",
    "s1 = 'The quick brown fox jumps over the lazy dog'\n",
    "print(set(s1.lower()) >= allInOne)"
   ]
  },
  {
   "cell_type": "markdown",
   "metadata": {},
   "source": [
    "## 48. Write a Python program to convert a string in a list."
   ]
  },
  {
   "cell_type": "code",
   "execution_count": 106,
   "metadata": {},
   "outputs": [
    {
     "name": "stdout",
     "output_type": "stream",
     "text": [
      "Enter string :mansi Mandhare\n",
      "['mansi', 'Mandhare']\n"
     ]
    }
   ],
   "source": [
    "string = input(\"Enter string :\")\n",
    "list = string.split(\" \")\n",
    "print(list)"
   ]
  },
  {
   "cell_type": "markdown",
   "metadata": {},
   "source": [
    "## 49. Write a Python program to lowercase first n characters in a string."
   ]
  },
  {
   "cell_type": "code",
   "execution_count": 108,
   "metadata": {},
   "outputs": [
    {
     "name": "stdout",
     "output_type": "stream",
     "text": [
      "Enter string :MANSIASD\n",
      "ENter index:3\n",
      "manSIASD\n"
     ]
    }
   ],
   "source": [
    "string = input(\"Enter string :\")\n",
    "n = int(input(\"ENter index:\"))\n",
    "string = string[0:n].lower()+string[n:]\n",
    "print(string)\n"
   ]
  },
  {
   "cell_type": "markdown",
   "metadata": {},
   "source": [
    "## 50. Write a Python program to swap comma and dot in a string.\n",
    "Sample string: \"32.054,23\"\n",
    "Expected Output: \"32,054.23\""
   ]
  },
  {
   "cell_type": "code",
   "execution_count": 109,
   "metadata": {},
   "outputs": [
    {
     "name": "stdout",
     "output_type": "stream",
     "text": [
      "14.625.498, 002\n"
     ]
    }
   ],
   "source": [
    "def Replace(str1): \n",
    "    str1 = str1.replace(', ', 'third') \n",
    "    str1 = str1.replace('.', ', ') \n",
    "    str1 = str1.replace('third', '.') \n",
    "    return str1 \n",
    "      \n",
    "string = \"14, 625, 498.002\"\n",
    "print(Replace(string)) "
   ]
  },
  {
   "cell_type": "markdown",
   "metadata": {},
   "source": [
    "## 51. Write a Python program to count and display the vowels of a given text."
   ]
  },
  {
   "cell_type": "code",
   "execution_count": 111,
   "metadata": {},
   "outputs": [
    {
     "name": "stdout",
     "output_type": "stream",
     "text": [
      "5\n",
      "['a', 'i', 'a', 'a', 'e']\n"
     ]
    }
   ],
   "source": [
    "def vowel(text):\n",
    "    vowels = \"aeiuoAEIOU\"\n",
    "    print(len([letter for letter in text if letter in vowels]))\n",
    "    print([letter for letter in text if letter in vowels])\n",
    "vowel(\"MansiMandhare\")"
   ]
  },
  {
   "cell_type": "markdown",
   "metadata": {},
   "source": [
    "## 52. Write a Python program to split a string on the last occurrence of the delimiter."
   ]
  },
  {
   "cell_type": "code",
   "execution_count": 113,
   "metadata": {},
   "outputs": [
    {
     "name": "stdout",
     "output_type": "stream",
     "text": [
      "['Mansi,Mandhare', 'Msccs']\n"
     ]
    }
   ],
   "source": [
    "str1 = \"Mansi,Mandhare,Msccs\"\n",
    "print(str1.rsplit(',', 1))\n"
   ]
  },
  {
   "cell_type": "markdown",
   "metadata": {},
   "source": [
    "## 57. Write a Python program to find the first repeated word in a given string."
   ]
  },
  {
   "cell_type": "code",
   "execution_count": 115,
   "metadata": {},
   "outputs": [
    {
     "name": "stdout",
     "output_type": "stream",
     "text": [
      "Enter the String : ab ca bc ca as\n",
      "ca\n"
     ]
    }
   ],
   "source": [
    "def find(result):\n",
    "    t1 = set()\n",
    "    for w in result.split():\n",
    "        if w in t1:\n",
    "            return w\n",
    "        else:\n",
    "            t1.add(w)\n",
    "    return 'None'        \n",
    "            \n",
    "\n",
    "print(find(input('Enter the String : ')))"
   ]
  },
  {
   "cell_type": "markdown",
   "metadata": {},
   "source": [
    "## 59.Write a Python program to remove spaces from a given string.\n"
   ]
  },
  {
   "cell_type": "code",
   "execution_count": 116,
   "metadata": {},
   "outputs": [
    {
     "name": "stdout",
     "output_type": "stream",
     "text": [
      "Enter the string : hii python\n",
      "hiipython\n"
     ]
    }
   ],
   "source": [
    "def removeSpace(s1):\n",
    "    s1 = s1.replace(' ','')\n",
    "    return s1\n",
    "\n",
    "print(removeSpace(input('Enter the string : ')))"
   ]
  },
  {
   "cell_type": "markdown",
   "metadata": {},
   "source": [
    "## 62.Write a Python program to capitalize first and last letters of each word of a given string.\n"
   ]
  },
  {
   "cell_type": "code",
   "execution_count": 117,
   "metadata": {},
   "outputs": [
    {
     "name": "stdout",
     "output_type": "stream",
     "text": [
      "NeW YeaR NeW PossibiliteS\n"
     ]
    }
   ],
   "source": [
    "def captalize(s1):\n",
    "    s1 = s1.title()\n",
    "    result = \"\"\n",
    "    \n",
    "    for w in s1.split():\n",
    "        result += w[:-1] + w[-1].upper() + \" \"\n",
    "    return result[:-1]\n",
    "\n",
    "print(captalize(\"new year new possibilites\"))"
   ]
  },
  {
   "cell_type": "markdown",
   "metadata": {},
   "source": [
    "## 64.Write a Python program to compute sum of digits of a given string."
   ]
  },
  {
   "cell_type": "code",
   "execution_count": 118,
   "metadata": {},
   "outputs": [
    {
     "name": "stdout",
     "output_type": "stream",
     "text": [
      "17\n"
     ]
    }
   ],
   "source": [
    "def sumOfDigit(s1):\n",
    "    sumDigit = 0\n",
    "    for x in s1:\n",
    "        if x.isdigit() == True:\n",
    "            z = int(x)\n",
    "            sumDigit = sumDigit + z\n",
    "    return sumDigit        \n",
    "\n",
    "print(sumOfDigit('G8oP9remium'))"
   ]
  },
  {
   "cell_type": "markdown",
   "metadata": {},
   "source": [
    "## 65. Write a Python program to remove leading zeros from an IP address."
   ]
  },
  {
   "cell_type": "code",
   "execution_count": 120,
   "metadata": {},
   "outputs": [
    {
     "name": "stdout",
     "output_type": "stream",
     "text": [
      "127.1.278.18\n"
     ]
    }
   ],
   "source": [
    "import re\n",
    "\n",
    "ip = '127.01.278.018'\n",
    "ipnum = re.sub('\\.[0]*','.',ip)\n",
    "print(ipnum)"
   ]
  },
  {
   "cell_type": "code",
   "execution_count": null,
   "metadata": {},
   "outputs": [],
   "source": []
  }
 ],
 "metadata": {
  "kernelspec": {
   "display_name": "Python 3",
   "language": "python",
   "name": "python3"
  },
  "language_info": {
   "codemirror_mode": {
    "name": "ipython",
    "version": 3
   },
   "file_extension": ".py",
   "mimetype": "text/x-python",
   "name": "python",
   "nbconvert_exporter": "python",
   "pygments_lexer": "ipython3",
   "version": "3.7.6"
  }
 },
 "nbformat": 4,
 "nbformat_minor": 4
}
