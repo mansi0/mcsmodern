{
 "cells": [
  {
   "cell_type": "markdown",
   "metadata": {},
   "source": [
    "1. Write a program GetGA.py that uses the GettheAddresses.txt to grab a text file containing the Gettysburg Address. Have the program write this to a file named ga.txt.\n",
    "\n",
    "\n",
    "\n",
    "\n",
    "\n",
    "6. Analyze a chaotic one-dimensional map: Write a program OneDMapAnalyze.py that reads the data in onedmap.txt. Calculate the mean value of the iterates, printing the result to the terminal; again annotate the output so that it is understandable. Determine the fraction of iterates that have x > 0.5. Also, print out that result."
   ]
  },
  {
   "cell_type": "code",
   "execution_count": 24,
   "metadata": {},
   "outputs": [],
   "source": [
    "with open('GettheAdresses.txt') as f:\n",
    "    with open(\"ga.txt\", \"w\") as f1:\n",
    "        for line in f:\n",
    "            f1.write(line)\n",
    "\n"
   ]
  },
  {
   "cell_type": "markdown",
   "metadata": {},
   "source": [
    "## 2. Write a program WordLineCounts.py that counts the number of lines and words in ga.txt, printing the resulting counts to the terminal. Annotate the output so that it is understandable:\n",
    "\n",
    "#### Count statistics in file ga.txt\n",
    "\n",
    "#### The number of words is ###.\n",
    "\n",
    "#### The number of lines is ###."
   ]
  },
  {
   "cell_type": "code",
   "execution_count": 8,
   "metadata": {},
   "outputs": [
    {
     "name": "stdout",
     "output_type": "stream",
     "text": [
      "This is the number of lines and words in the file\n",
      "24 278\n"
     ]
    }
   ],
   "source": [
    "file = open(\"ga.txt\",\"r\") \n",
    "lineCounter = 0\n",
    "wordCounter = 0\n",
    "  \n",
    "# Reading from file \n",
    "Content = file.read() \n",
    "CoList = Content.split(\"\\n\") \n",
    "\n",
    "for i in CoList: \n",
    "    if i: \n",
    "        lineCounter += 1\n",
    "        coWord = i.split(\" \")\n",
    "        for j in coWord :\n",
    "            if j :\n",
    "                wordCounter += 1\n",
    "        \n",
    "          \n",
    "print(\"This is the number of lines and words in the file\") \n",
    "print(lineCounter,wordCounter) "
   ]
  },
  {
   "cell_type": "markdown",
   "metadata": {},
   "source": [
    "## 3. Write a program VowelCounts.py that reads in ga.txt and counts the number of each kind of vowel, printing the results for each vowel to the terminal. Annotate the output so that it is understandable.\n"
   ]
  },
  {
   "cell_type": "code",
   "execution_count": 9,
   "metadata": {},
   "outputs": [
    {
     "name": "stdout",
     "output_type": "stream",
     "text": [
      "This is the number of vowels in file\n",
      "449\n"
     ]
    }
   ],
   "source": [
    "file = open(\"ga.txt\",\"r\") \n",
    "vowelCounter = 0\n",
    "\n",
    "Content = file.read() \n",
    "\n",
    "for i in Content :\n",
    "    if i in ('a','e','i','o','u','A','E','I','O','U') :\n",
    "        vowelCounter += 1\n",
    "print(\"This is the number of vowels in file\") \n",
    "print(vowelCounter)"
   ]
  },
  {
   "cell_type": "markdown",
   "metadata": {},
   "source": [
    "## 4. Write a program SortFile.py that reads in and alphabetically sorts the lines (not individual words) in ga.txt and outputs those lines to a new file ga_sorted.txt.\n"
   ]
  },
  {
   "cell_type": "code",
   "execution_count": 17,
   "metadata": {},
   "outputs": [],
   "source": [
    "file1 = open(\"ga.txt\",\"r\")\n",
    "sort1 = open(\"ga_sorted.txt\",\"w\")\n",
    "data=sorted(file1)\n",
    "for line in data:\n",
    "    sort1.write(line)\n",
    "file1.close()\n",
    "sort1.close()"
   ]
  },
  {
   "cell_type": "markdown",
   "metadata": {},
   "source": [
    "## 5. Iterate a chaotic one-dimensional map: Write a program OneDMapIterate.py that iterates the function f(x) = 4.0 x ( 1 - x ). First, set the initial condition x = 0.3. Then apply f(x) repeatedly to each new x. Iterate for 100 steps, printing on each line the iteration number and the successive x values to file onedmap.txt.\n"
   ]
  },
  {
   "cell_type": "code",
   "execution_count": 25,
   "metadata": {},
   "outputs": [],
   "source": [
    "file1 = open(\"onedmap.txt\",\"w\")\n",
    "x=0.3\n",
    "for i in range(1,101):\n",
    "    x=4.0*(1-x)\n",
    "    file1.write(\"Value of X at {} iteration is {}\".format(i,x))\n",
    "    file1.write(\"\\n\")\n",
    "file1.close()\n"
   ]
  },
  {
   "cell_type": "code",
   "execution_count": null,
   "metadata": {},
   "outputs": [],
   "source": []
  }
 ],
 "metadata": {
  "kernelspec": {
   "display_name": "Python 3",
   "language": "python",
   "name": "python3"
  },
  "language_info": {
   "codemirror_mode": {
    "name": "ipython",
    "version": 3
   },
   "file_extension": ".py",
   "mimetype": "text/x-python",
   "name": "python",
   "nbconvert_exporter": "python",
   "pygments_lexer": "ipython3",
   "version": "3.7.6"
  }
 },
 "nbformat": 4,
 "nbformat_minor": 4
}
