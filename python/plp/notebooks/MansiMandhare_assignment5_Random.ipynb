{
 "cells": [
  {
   "cell_type": "markdown",
   "metadata": {},
   "source": [
    "## 1. Python Program to Count the Number of Vowels Present in a String using Sets\n",
    "\n",
    "\n",
    "\n",
    "\n",
    "\n",
    "\n"
   ]
  },
  {
   "cell_type": "code",
   "execution_count": 11,
   "metadata": {},
   "outputs": [
    {
     "name": "stdout",
     "output_type": "stream",
     "text": [
      "Enter String :mansi\n",
      "2\n"
     ]
    }
   ],
   "source": [
    "str1 = input(\"Enter String :\")\n",
    "print(len(set(str1).intersection( ('a','e','i','o','u') )))"
   ]
  },
  {
   "cell_type": "markdown",
   "metadata": {},
   "source": [
    "## 2. Python Program to Check Common Letters in Two Input Strings\n"
   ]
  },
  {
   "cell_type": "code",
   "execution_count": 13,
   "metadata": {},
   "outputs": [
    {
     "name": "stdout",
     "output_type": "stream",
     "text": [
      "Enter 1st string : mansi\n",
      "Enter 2nd string : mandhare\n",
      "{'a', 'm', 'n'}\n"
     ]
    }
   ],
   "source": [
    "str1 = input(\"Enter 1st string : \")\n",
    "str2 = input(\"Enter 2nd string : \")\n",
    "print(set(str1).intersection( set(str2) ))"
   ]
  },
  {
   "cell_type": "markdown",
   "metadata": {},
   "source": [
    "## 3. Python Program that Displays which Letters are in the First String but not in the Second"
   ]
  },
  {
   "cell_type": "code",
   "execution_count": 14,
   "metadata": {},
   "outputs": [
    {
     "name": "stdout",
     "output_type": "stream",
     "text": [
      "Enter 1st string : mansi\n",
      "Enter 2nd string : mandhare\n",
      "{'i', 's'}\n"
     ]
    }
   ],
   "source": [
    "str1 = input(\"Enter 1st string : \")\n",
    "str2 = input(\"Enter 2nd string : \")\n",
    "print(set(str1) - ( set(str2) ))"
   ]
  },
  {
   "cell_type": "markdown",
   "metadata": {},
   "source": [
    "## 4. Python Program that Displays which Letters are Present in Both the Strings"
   ]
  },
  {
   "cell_type": "code",
   "execution_count": 16,
   "metadata": {},
   "outputs": [
    {
     "name": "stdout",
     "output_type": "stream",
     "text": [
      "Enter 1st string : mansi\n",
      "Enter 2nd string : mandhare\n",
      "{'a', 'm', 'n'}\n"
     ]
    }
   ],
   "source": [
    "str1 = input(\"Enter 1st string : \")\n",
    "str2 = input(\"Enter 2nd string : \")\n",
    "print(set(str1).intersection( set(str2) ))"
   ]
  },
  {
   "cell_type": "markdown",
   "metadata": {},
   "source": [
    "## 5. Python Program that Displays which Letters are in the Two Strings but not in Both"
   ]
  },
  {
   "cell_type": "code",
   "execution_count": 17,
   "metadata": {},
   "outputs": [
    {
     "name": "stdout",
     "output_type": "stream",
     "text": [
      "Enter 1st string : mansi\n",
      "Enter 2nd string : mandhare\n",
      "{'h', 'e', 's', 'i', 'd', 'r'}\n"
     ]
    }
   ],
   "source": [
    "str1 = input(\"Enter 1st string : \")\n",
    "str2 = input(\"Enter 2nd string : \")\n",
    "print(set(str1)^( set(str2) ))"
   ]
  },
  {
   "cell_type": "code",
   "execution_count": null,
   "metadata": {},
   "outputs": [],
   "source": []
  }
 ],
 "metadata": {
  "kernelspec": {
   "display_name": "Python 3",
   "language": "python",
   "name": "python3"
  },
  "language_info": {
   "codemirror_mode": {
    "name": "ipython",
    "version": 3
   },
   "file_extension": ".py",
   "mimetype": "text/x-python",
   "name": "python",
   "nbconvert_exporter": "python",
   "pygments_lexer": "ipython3",
   "version": "3.7.6"
  }
 },
 "nbformat": 4,
 "nbformat_minor": 4
}
