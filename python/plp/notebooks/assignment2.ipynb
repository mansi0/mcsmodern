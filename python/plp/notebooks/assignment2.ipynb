{
 "cells": [
  {
   "cell_type": "markdown",
   "metadata": {},
   "source": [
    "#### 1"
   ]
  },
  {
   "cell_type": "code",
   "execution_count": 1,
   "metadata": {},
   "outputs": [
    {
     "name": "stdout",
     "output_type": "stream",
     "text": [
      "Enter String: qwer\n",
      "Length of the string:   4\n"
     ]
    }
   ],
   "source": [
    "str = input(\"Enter String: \")\n",
    "print(\"Length of the string:  \", len(str))"
   ]
  },
  {
   "cell_type": "markdown",
   "metadata": {},
   "source": [
    "#### 2"
   ]
  },
  {
   "cell_type": "code",
   "execution_count": 8,
   "metadata": {},
   "outputs": [
    {
     "name": "stdout",
     "output_type": "stream",
     "text": [
      "Enter String to check palindrome:  madam\n",
      "Yes, the string is pallindrome\n"
     ]
    }
   ],
   "source": [
    "def isPallindrome(s):\n",
    "    return str == s[::-1]\n",
    "\n",
    "str = input(\"Enter String to check palindrome:  \")\n",
    "result = isPallindrome(str)\n",
    "\n",
    "if result:\n",
    "    print(\"Yes, the string is pallindrome\")\n",
    "else:\n",
    "    print(\"No, given string is not pallindrome\")"
   ]
  },
  {
   "cell_type": "markdown",
   "metadata": {},
   "source": [
    "#### 4"
   ]
  },
  {
   "cell_type": "code",
   "execution_count": 7,
   "metadata": {},
   "outputs": [
    {
     "name": "stdout",
     "output_type": "stream",
     "text": [
      "resta$t\n"
     ]
    }
   ],
   "source": [
    "def ChangeChar(ch1):\n",
    "    str1 = ch1[0]\n",
    "    ch1 = ch1.replace(str1, '$')\n",
    "    ch1 = str1 + ch1[1:]\n",
    "    \n",
    "    return ch1\n",
    "print(ChangeChar('restart'))\n",
    "    "
   ]
  },
  {
   "cell_type": "markdown",
   "metadata": {},
   "source": [
    "#### 5"
   ]
  },
  {
   "cell_type": "code",
   "execution_count": 9,
   "metadata": {},
   "outputs": [
    {
     "name": "stdout",
     "output_type": "stream",
     "text": [
      "xyc abz\n"
     ]
    }
   ],
   "source": [
    "def interChange(str1, str2):\n",
    "    str1a = str2[:2] + str1[2:]\n",
    "    str2b = str1[:2] + str2[2:]\n",
    "    \n",
    "    return str1a + ' ' + str2b\n",
    "print(interChange('abc', 'xyz'))"
   ]
  },
  {
   "cell_type": "markdown",
   "metadata": {},
   "source": [
    "#### 6"
   ]
  },
  {
   "cell_type": "code",
   "execution_count": 10,
   "metadata": {},
   "outputs": [
    {
     "name": "stdout",
     "output_type": "stream",
     "text": [
      "ab\n",
      "abcing\n",
      "stringly\n"
     ]
    }
   ],
   "source": [
    "def addString(str1):\n",
    "    length = len(str1)\n",
    "    \n",
    "    if length > 2:\n",
    "        if str1[-3:] == 'ing':\n",
    "            str1 += 'ly'\n",
    "        else:\n",
    "            str1 += 'ing'\n",
    "            \n",
    "    return str1\n",
    "print(addString('ab'))\n",
    "print(addString('abc'))\n",
    "print(addString('string'))"
   ]
  },
  {
   "cell_type": "markdown",
   "metadata": {},
   "source": [
    "#### 7"
   ]
  },
  {
   "cell_type": "code",
   "execution_count": 2,
   "metadata": {},
   "outputs": [
    {
     "name": "stdout",
     "output_type": "stream",
     "text": [
      "The lyrics is good!\n"
     ]
    }
   ],
   "source": [
    "def printString(s1):\n",
    "    \n",
    "    '''If the substring exists inside the string, \n",
    "    it returns the index of the first occurence \n",
    "    of the substring.\n",
    "    Else return -1'''\n",
    "    \n",
    "    resultNot = s1.find('not')\n",
    "    resultBad = s1.find('poor')\n",
    "    \n",
    "    #print(resultNot)\n",
    "    #print(resultBad)\n",
    "    \n",
    "    if resultNot < resultBad:\n",
    "        s1 = s1.replace(s1[resultNot:(resultBad+4)],'good')\n",
    "        \n",
    "    return s1    \n",
    "\n",
    "print(printString('The lyrics is not that poor!'))"
   ]
  },
  {
   "cell_type": "markdown",
   "metadata": {},
   "source": [
    "#### 8"
   ]
  },
  {
   "cell_type": "code",
   "execution_count": 13,
   "metadata": {},
   "outputs": [
    {
     "name": "stdout",
     "output_type": "stream",
     "text": [
      "Enter the wordsnetHunter exploitDB overflow\n",
      "longest word :  netHunter\n"
     ]
    }
   ],
   "source": [
    "def longestWord(inputString):\n",
    "   # print(longest)\n",
    "    #print(longestWord)\n",
    "    longest = 0\n",
    "    for word in inputString.split():\n",
    "        if len(word) > longest:\n",
    "            longest = len(word)\n",
    "            lw = word\n",
    "    return lw       \n",
    "\n",
    "\n",
    "inputString = input(\"Enter the words\")\n",
    "print('longest word : ', longestWord(inputString))"
   ]
  },
  {
   "cell_type": "markdown",
   "metadata": {},
   "source": [
    "#### 9"
   ]
  },
  {
   "cell_type": "code",
   "execution_count": 17,
   "metadata": {},
   "outputs": [
    {
     "name": "stdout",
     "output_type": "stream",
     "text": [
      "ENter the string : Application\n",
      "Enter the index number which you want to remove : 3\n",
      "Modified String is :  Appication\n"
     ]
    }
   ],
   "source": [
    "def modifyString(n,inputString):\n",
    "    \n",
    "    num = int(n)\n",
    "    b4String = inputString[:num]\n",
    "    lastString = inputString[num+1:]\n",
    "    return b4String + lastString   \n",
    "\n",
    "\n",
    "\n",
    "inputString = input('ENter the string : ')\n",
    "n = input('Enter the index number which you want to remove : ')\n",
    "\n",
    "print('Modified String is : ', modifyString(n,inputString))"
   ]
  },
  {
   "cell_type": "markdown",
   "metadata": {},
   "source": [
    "#### 10"
   ]
  },
  {
   "cell_type": "code",
   "execution_count": 21,
   "metadata": {},
   "outputs": [
    {
     "name": "stdout",
     "output_type": "stream",
     "text": [
      "Enter the String : cool\n",
      "New String is :  looc\n"
     ]
    }
   ],
   "source": [
    "def interChange(inputString):\n",
    "    if len(inputString) < 2:\n",
    "        return inputString\n",
    "    return inputString[-1] + inputString[1:-1] + inputString[0]\n",
    "\n",
    "inputString = input('Enter the String : ')\n",
    "print('New String is : ', interChange(inputString))"
   ]
  },
  {
   "cell_type": "markdown",
   "metadata": {},
   "source": [
    "#### 11"
   ]
  },
  {
   "cell_type": "code",
   "execution_count": 20,
   "metadata": {},
   "outputs": [
    {
     "name": "stdout",
     "output_type": "stream",
     "text": [
      "ENter the String : GOOD\n",
      "New String is :  GO\n"
     ]
    }
   ],
   "source": [
    "def oddOut(inputString):\n",
    "    result = ''\n",
    "    for i in range(len(inputString)):\n",
    "        if(i % 2 == 0):\n",
    "            result = result + inputString[i]\n",
    "    return result        \n",
    "\n",
    "\n",
    "inputString = input('ENter the String : ')\n",
    "print('New String is : ', oddOut(inputString))"
   ]
  },
  {
   "cell_type": "markdown",
   "metadata": {},
   "source": [
    "#### 13"
   ]
  },
  {
   "cell_type": "code",
   "execution_count": 22,
   "metadata": {},
   "outputs": [
    {
     "name": "stdout",
     "output_type": "stream",
     "text": [
      "Enter the input String : hello\n",
      "UpperCase :  HELLO\n",
      "LowerCase :  hello\n"
     ]
    }
   ],
   "source": [
    "inputString = input('Enter the input String : ')\n",
    "print(\"UpperCase : \", inputString.upper())\n",
    "print(\"LowerCase : \", inputString.lower())"
   ]
  },
  {
   "cell_type": "markdown",
   "metadata": {},
   "source": [
    "#### 15"
   ]
  },
  {
   "cell_type": "code",
   "execution_count": 29,
   "metadata": {},
   "outputs": [
    {
     "name": "stdout",
     "output_type": "stream",
     "text": [
      "<i>Helo Heena</i>\n",
      "<b>Great</b>\n"
     ]
    }
   ],
   "source": [
    "def addHTMLTag(tag,word):\n",
    "    '''The %s operator lets you add a value into a Python string. '''\n",
    "    return \"<%s>%s</%s>\" % (tag, word, tag)\n",
    "\n",
    "\n",
    "print(addHTMLTag('i', 'Helo Heena'))\n",
    "print(addHTMLTag('b', 'Great'))\n"
   ]
  },
  {
   "cell_type": "markdown",
   "metadata": {},
   "source": [
    "#### 16"
   ]
  },
  {
   "cell_type": "code",
   "execution_count": 31,
   "metadata": {},
   "outputs": [
    {
     "name": "stdout",
     "output_type": "stream",
     "text": [
      "enter the 1st string : hello\n",
      "enter second string : goodnight\n",
      "hello  goodnight\n",
      "ENter the string which you want to insert between 1st and 2nd : Arti\n",
      "hello Arti goodnight\n"
     ]
    }
   ],
   "source": [
    "firstString = input('enter the 1st string : ')\n",
    "secongString = input('enter second string : ')\n",
    "\n",
    "print(firstString+ ' ' + ' '+secongString)\n",
    "inputString = input('ENter the string which you want to insert between 1st and 2nd : ')\n",
    "\n",
    "print(firstString +' ' +inputString +' ' +secongString)"
   ]
  },
  {
   "cell_type": "markdown",
   "metadata": {},
   "source": [
    "#### 17"
   ]
  },
  {
   "cell_type": "code",
   "execution_count": 33,
   "metadata": {},
   "outputs": [
    {
     "name": "stdout",
     "output_type": "stream",
     "text": [
      "Enter the string : wowo\n",
      "wowowowo\n"
     ]
    }
   ],
   "source": [
    "def callInsert(ss):\n",
    "    subString = ss[-2:]\n",
    "    return subString * 4\n",
    "\n",
    "print(callInsert(input('Enter the string : ')))"
   ]
  },
  {
   "cell_type": "markdown",
   "metadata": {},
   "source": [
    "#### 18"
   ]
  },
  {
   "cell_type": "code",
   "execution_count": 36,
   "metadata": {},
   "outputs": [
    {
     "name": "stdout",
     "output_type": "stream",
     "text": [
      "Enter the string : glad\n",
      "gla\n"
     ]
    }
   ],
   "source": [
    "def firstThreeFun(inputString):\n",
    "    if len(inputString) < 3:\n",
    "        return inputString\n",
    "    return inputString[:3]\n",
    "    \n",
    "print(firstThreeFun(input('Enter the string : ')))"
   ]
  },
  {
   "cell_type": "markdown",
   "metadata": {},
   "source": [
    "#### 19"
   ]
  },
  {
   "cell_type": "code",
   "execution_count": 40,
   "metadata": {},
   "outputs": [
    {
     "name": "stdout",
     "output_type": "stream",
     "text": [
      "Enter String : good\n",
      "doog\n"
     ]
    }
   ],
   "source": [
    "def reverseString(result):\n",
    "    if len(result) % 4 == 0:\n",
    "        return ''.join(reversed(result))\n",
    "    return result\n",
    "\n",
    "print(reverseString(input('Enter String : ')))"
   ]
  },
  {
   "cell_type": "markdown",
   "metadata": {},
   "source": [
    "#### 22"
   ]
  },
  {
   "cell_type": "code",
   "execution_count": 4,
   "metadata": {},
   "outputs": [
    {
     "name": "stdout",
     "output_type": "stream",
     "text": [
      "Enter the StringWOLFtag\n",
      "WOLFTAG\n"
     ]
    }
   ],
   "source": [
    "#Write a Python function to convert a given string to all uppercase if it contains at least 2 uppercase characters in the first 4 characters.\n",
    "\n",
    "def convertStr(newStr):\n",
    "    count = 0\n",
    "    for l in newStr[:4]:\n",
    "        if l.upper() == l:\n",
    "            count += 1\n",
    "    if count >= 2:\n",
    "        return newStr.upper()\n",
    "    return newStr\n",
    "newStr = input('Enter the String')\n",
    "print(convertStr(newStr))\n"
   ]
  },
  {
   "cell_type": "markdown",
   "metadata": {},
   "source": [
    "#### 23"
   ]
  },
  {
   "cell_type": "code",
   "execution_count": 5,
   "metadata": {},
   "outputs": [
    {
     "name": "stdout",
     "output_type": "stream",
     "text": [
      "Enter the String : hello Arti good to see you\n",
      "Arti\n",
      "good\n",
      "hello\n",
      "see\n",
      "to\n",
      "you\n",
      "None\n"
     ]
    }
   ],
   "source": [
    "#Write a Python program to sort a string lexicographically.\n",
    "\n",
    "def sortting(result):\n",
    "    '''split according to space'''\n",
    "    words = result.split() \n",
    "    \n",
    "    '''sort the string'''\n",
    "    words.sort()\n",
    "    \n",
    "    for i in words:\n",
    "        print(i)\n",
    "\n",
    "print(sortting(input('Enter the String : ')))\n"
   ]
  },
  {
   "cell_type": "markdown",
   "metadata": {},
   "source": [
    "#### 24"
   ]
  },
  {
   "cell_type": "code",
   "execution_count": 7,
   "metadata": {},
   "outputs": [
    {
     "name": "stdout",
     "output_type": "stream",
     "text": [
      "hello coder\n",
      "\n",
      "hello coder\n"
     ]
    }
   ],
   "source": [
    "#Write a Python program to remove a newline in Python.\n",
    "\n",
    "string = 'hello coder\\n'\n",
    "print(string)\n",
    "\n",
    "'''The rstrip() method returns a copy of the string with \n",
    "trailing characters removed'''\n",
    "\n",
    "print(string.rstrip())"
   ]
  },
  {
   "cell_type": "markdown",
   "metadata": {},
   "source": [
    "#### 25"
   ]
  },
  {
   "cell_type": "code",
   "execution_count": 9,
   "metadata": {},
   "outputs": [
    {
     "name": "stdout",
     "output_type": "stream",
     "text": [
      "True\n"
     ]
    }
   ],
   "source": [
    "#Write a Python program to check whether a string starts with specified characters.\n",
    "\n",
    "inputString = 'hii, how are you? '\n",
    "print(inputString.startswith('hii'))\n"
   ]
  },
  {
   "cell_type": "markdown",
   "metadata": {},
   "source": [
    "#### 28"
   ]
  },
  {
   "cell_type": "code",
   "execution_count": 1,
   "metadata": {},
   "outputs": [
    {
     "name": "stdout",
     "output_type": "stream",
     "text": [
      "Cyber security or information technology security are the techniques of protecting computers, networks,\n",
      "programs and data from unauthorized \n",
      "        access or attacks that are aimed for \n",
      "    exploitation.\n",
      "Information security protects information from unauthorized access\n",
      "to avoid identity theft and to protect privacy.\n",
      "\n",
      "Cyber security or information technology security are the techniques of protecting computers, networks,\n",
      "programs and data from unauthorized \n",
      "        access or attacks that are aimed for \n",
      "    exploitation.\n",
      "Information security protects information from unauthorized access\n",
      "to avoid identity theft and to protect privacy.\n",
      "\n"
     ]
    }
   ],
   "source": [
    "#Write a Python program to remove existing indentation from all of the lines in a given text.\n",
    "\n",
    "import textwrap\n",
    "\n",
    "testText = '''Cyber security or information technology security are the techniques of protecting computers, networks,\n",
    "programs and data from unauthorized \n",
    "        access or attacks that are aimed for \n",
    "    exploitation.\n",
    "Information security protects information from unauthorized access\n",
    "to avoid identity theft and to protect privacy.\n",
    "'''\n",
    "\n",
    "print(testText)\n",
    "\n",
    "print(textwrap.dedent(testText))"
   ]
  },
  {
   "cell_type": "markdown",
   "metadata": {},
   "source": [
    "#### 31"
   ]
  },
  {
   "cell_type": "code",
   "execution_count": 13,
   "metadata": {},
   "outputs": [
    {
     "name": "stdout",
     "output_type": "stream",
     "text": [
      "floating numbers upto 2 decimal places : 30.90\n"
     ]
    }
   ],
   "source": [
    "#Write a Python program to print the following floating numbers upto 2 decimal places.\n",
    "\n",
    "\n",
    "num = 30.8973\n",
    "print('floating numbers upto 2 decimal places : '+'{:.2f}'.format(num))\n"
   ]
  },
  {
   "cell_type": "markdown",
   "metadata": {},
   "source": [
    "#### 32"
   ]
  },
  {
   "cell_type": "code",
   "execution_count": 2,
   "metadata": {},
   "outputs": [
    {
     "name": "stdout",
     "output_type": "stream",
     "text": [
      "num :  +78.14\n",
      "num2 : -90.47\n"
     ]
    }
   ],
   "source": [
    "#Write a Python program to print the following floating numbers upto 2 decimal places with a sign.\n",
    "\n",
    "\n",
    "num = 78.143546\n",
    "num2 = -90.4678\n",
    "\n",
    "print('num : '+' {:+.2f}'.format(num))\n",
    "print('num2 : '+'{:+.2f}'.format(num2))"
   ]
  },
  {
   "cell_type": "markdown",
   "metadata": {},
   "source": [
    "#### 33"
   ]
  },
  {
   "cell_type": "code",
   "execution_count": 3,
   "metadata": {},
   "outputs": [
    {
     "name": "stdout",
     "output_type": "stream",
     "text": [
      "num :  +78\n",
      "num2 : -90\n"
     ]
    }
   ],
   "source": [
    "#Write a Python program to print the following floating numbers with no decimal places.\n",
    "\n",
    "\n",
    "num = 78.143546\n",
    "num2 = -90.4678\n",
    "\n",
    "print('num : '+' {:+.0f}'.format(num))\n",
    "print('num2 : '+'{:+.0f}'.format(num2))"
   ]
  },
  {
   "cell_type": "markdown",
   "metadata": {},
   "source": [
    "#### 34"
   ]
  },
  {
   "cell_type": "code",
   "execution_count": 9,
   "metadata": {},
   "outputs": [
    {
     "name": "stdout",
     "output_type": "stream",
     "text": [
      "num :  0078\n",
      "num2 : 00009009\n"
     ]
    }
   ],
   "source": [
    "#Write a Python program to print the following integers with zeros on the left of specified width.\n",
    "\n",
    "num = 78\n",
    "num2 = 9009\n",
    "\n",
    "print('num : '+' {:0>4d}'.format(num))\n",
    "print('num2 : '+'{:0>8d}'.format(num2))"
   ]
  },
  {
   "cell_type": "markdown",
   "metadata": {},
   "source": [
    "#### 35"
   ]
  },
  {
   "cell_type": "code",
   "execution_count": 12,
   "metadata": {},
   "outputs": [
    {
     "name": "stdout",
     "output_type": "stream",
     "text": [
      "num :  78**\n",
      "num2 : 9009****\n"
     ]
    }
   ],
   "source": [
    "#Write a Python program to print the following integers with '*' on the right of specified width.\n",
    "\n",
    "num = 78\n",
    "num2 = 9009\n",
    "\n",
    "print('num : '+' {:*<4d}'.format(num))\n",
    "print('num2 : '+'{:*<8d}'.format(num2))\n"
   ]
  },
  {
   "cell_type": "markdown",
   "metadata": {},
   "source": [
    "#### 36"
   ]
  },
  {
   "cell_type": "code",
   "execution_count": 13,
   "metadata": {},
   "outputs": [
    {
     "name": "stdout",
     "output_type": "stream",
     "text": [
      "num :  78\n",
      "num2 : 9,009\n"
     ]
    }
   ],
   "source": [
    "#Write a Python program to display a number with a comma separator.\n",
    "\n",
    "num = 78\n",
    "num2 = 9009\n",
    "\n",
    "print('num : '+' {:,}'.format(num))\n",
    "print('num2 : '+'{:,}'.format(num2))\n"
   ]
  },
  {
   "cell_type": "markdown",
   "metadata": {},
   "source": [
    "#### 37"
   ]
  },
  {
   "cell_type": "code",
   "execution_count": 17,
   "metadata": {},
   "outputs": [
    {
     "name": "stdout",
     "output_type": "stream",
     "text": [
      "num :  78.00%\n",
      "num2 : 90.00%\n"
     ]
    }
   ],
   "source": [
    "#Write a Python program to format a number with a percentage.\n",
    "\n",
    "num = 0.78\n",
    "num2 = 0.90\n",
    "\n",
    "print('num : '+' {:.2%}'.format(num))\n",
    "print('num2 : '+'{:.2%}'.format(num2))\n"
   ]
  },
  {
   "cell_type": "markdown",
   "metadata": {},
   "source": [
    "#### 38"
   ]
  },
  {
   "cell_type": "code",
   "execution_count": 19,
   "metadata": {},
   "outputs": [
    {
     "name": "stdout",
     "output_type": "stream",
     "text": [
      "num left :   78       \n",
      "num right :         78\n",
      "num center :     78    \n"
     ]
    }
   ],
   "source": [
    "#Write a Python program to display a number in left, right and center aligned of width 10.\n",
    "\n",
    "num = 78\n",
    "\n",
    "\n",
    "print('num left : '+' {:< 10d}'.format(num))\n",
    "print('num right : '+'{:10d}'.format(num))\n",
    "print('num center : '+'{:^10d}'.format(num))\n"
   ]
  },
  {
   "cell_type": "markdown",
   "metadata": {},
   "source": [
    "#### 39"
   ]
  },
  {
   "cell_type": "code",
   "execution_count": 20,
   "metadata": {},
   "outputs": [
    {
     "name": "stdout",
     "output_type": "stream",
     "text": [
      "2\n"
     ]
    }
   ],
   "source": [
    "#Write a Python program to count occurrences of a substring in a string.\n",
    "\n",
    "s1 = 'And miles to go before I sleep, and miles to go before I sleep.'\n",
    "\n",
    "print(s1.count('miles'))"
   ]
  },
  {
   "cell_type": "markdown",
   "metadata": {},
   "source": [
    "#### 40"
   ]
  },
  {
   "cell_type": "code",
   "execution_count": 24,
   "metadata": {},
   "outputs": [
    {
     "name": "stdout",
     "output_type": "stream",
     "text": [
      "em ton m,I\n"
     ]
    }
   ],
   "source": [
    "#Write a Python program to reverse a string.\n",
    "\n",
    "str1 = 'I,m not me'[::-1]\n",
    "''' the slice statement [::-1] means start at the end of the string and \n",
    "    end at position 0, move with the step -1,\n",
    "    negative one, which means one step backwards.'''\n",
    "\n",
    "print(str1)"
   ]
  },
  {
   "cell_type": "markdown",
   "metadata": {},
   "source": [
    "#### 41"
   ]
  },
  {
   "cell_type": "code",
   "execution_count": 29,
   "metadata": {},
   "outputs": [
    {
     "name": "stdout",
     "output_type": "stream",
     "text": [
      "Enter the string : hello bro\n",
      "bro hello\n"
     ]
    }
   ],
   "source": [
    "#Write a Python program to reverse words in a string.\n",
    "def reverseTheString(result):\n",
    "    \n",
    "    ''' split the string into words '''\n",
    "    w = result.split(' ')\n",
    "    \n",
    "    '''reverse the split string list and join using space  '''\n",
    "    reverseW = ' '.join(reversed(w))\n",
    "    \n",
    "    return reverseW\n",
    "\n",
    "\n",
    "\n",
    "result = input('Enter the string : ')\n",
    "print(reverseTheString(result))"
   ]
  },
  {
   "cell_type": "markdown",
   "metadata": {},
   "source": [
    "#### 46"
   ]
  },
  {
   "cell_type": "code",
   "execution_count": 30,
   "metadata": {},
   "outputs": [
    {
     "name": "stdout",
     "output_type": "stream",
     "text": [
      "character :  s  position :  0\n",
      "character :  c  position :  1\n",
      "character :  a  position :  2\n",
      "character :  l  position :  3\n",
      "character :  a  position :  4\n",
      "character :     position :  5\n",
      "character :  i  position :  6\n",
      "character :  s  position :  7\n",
      "character :     position :  8\n",
      "character :  o  position :  9\n",
      "character :  b  position :  10\n",
      "character :  j  position :  11\n",
      "character :  e  position :  12\n",
      "character :  c  position :  13\n",
      "character :  t  position :  14\n",
      "character :     position :  15\n",
      "character :  o  position :  16\n",
      "character :  r  position :  17\n",
      "character :  i  position :  18\n",
      "character :  e  position :  19\n",
      "character :  n  position :  20\n",
      "character :  t  position :  21\n",
      "character :  e  position :  22\n",
      "character :  d  position :  23\n"
     ]
    }
   ],
   "source": [
    "#Write a Python program to print the index of the character in a string.\n",
    "\n",
    "s1 = \"scala is object oriented\"\n",
    "\n",
    "for index, char in enumerate(s1):\n",
    "    print('character : ', char + '  position : ',index)"
   ]
  },
  {
   "cell_type": "markdown",
   "metadata": {},
   "source": [
    "#### 47"
   ]
  },
  {
   "cell_type": "code",
   "execution_count": 32,
   "metadata": {},
   "outputs": [
    {
     "name": "stdout",
     "output_type": "stream",
     "text": [
      "True\n"
     ]
    }
   ],
   "source": [
    "#Write a Python program to check if a string contains all letters of the alphabet.\n",
    "\n",
    "import string\n",
    "\n",
    "allInOne = set(string.ascii_lowercase)\n",
    "s1 = 'The quick brown fox jumps over the lazy dog'\n",
    "print(set(s1.lower()) >= allInOne)"
   ]
  },
  {
   "cell_type": "markdown",
   "metadata": {},
   "source": [
    "#### 48"
   ]
  },
  {
   "cell_type": "code",
   "execution_count": 33,
   "metadata": {},
   "outputs": [
    {
     "name": "stdout",
     "output_type": "stream",
     "text": [
      "['crispello', 'equal', 'sharing']\n"
     ]
    }
   ],
   "source": [
    "#Write a Python program to convert a string in a list.\n",
    "def convert(s1):\n",
    "    list1 = list(s1.split(' '))\n",
    "    return list1\n",
    "\n",
    "s1 = \"crispello equal sharing\"\n",
    "print(convert(s1))"
   ]
  },
  {
   "cell_type": "markdown",
   "metadata": {},
   "source": [
    "#### 49"
   ]
  },
  {
   "cell_type": "code",
   "execution_count": 34,
   "metadata": {},
   "outputs": [
    {
     "name": "stdout",
     "output_type": "stream",
     "text": [
      "hostNG RANGE\n"
     ]
    }
   ],
   "source": [
    "#Write a Python program to lowercase first n characters in a string.\n",
    "\n",
    "s1 = \"HOSTNG RANGE\"\n",
    "print(s1[:4].lower() + s1[4:])"
   ]
  },
  {
   "cell_type": "markdown",
   "metadata": {},
   "source": [
    "#### 57"
   ]
  },
  {
   "cell_type": "code",
   "execution_count": 36,
   "metadata": {},
   "outputs": [
    {
     "name": "stdout",
     "output_type": "stream",
     "text": [
      "Enter the String : ab ca bc ab\n",
      "ab\n"
     ]
    }
   ],
   "source": [
    "#Write a Python program to find the first repeated word in a given string.\n",
    "def find(result):\n",
    "    t1 = set()\n",
    "    for w in result.split():\n",
    "        if w in t1:\n",
    "            return w\n",
    "        else:\n",
    "            t1.add(w)\n",
    "    return 'None'        \n",
    "            \n",
    "\n",
    "print(find(input('Enter the String : ')))"
   ]
  },
  {
   "cell_type": "markdown",
   "metadata": {},
   "source": [
    "#### 59"
   ]
  },
  {
   "cell_type": "code",
   "execution_count": 37,
   "metadata": {},
   "outputs": [
    {
     "name": "stdout",
     "output_type": "stream",
     "text": [
      "Enter the string : hello guys\n",
      "helloguys\n"
     ]
    }
   ],
   "source": [
    "#Write a Python program to remove spaces from a given string.\n",
    "def removeSpace(s1):\n",
    "    s1 = s1.replace(' ','')\n",
    "    return s1\n",
    "\n",
    "print(removeSpace(input('Enter the string : ')))"
   ]
  },
  {
   "cell_type": "markdown",
   "metadata": {},
   "source": [
    "#### 62"
   ]
  },
  {
   "cell_type": "code",
   "execution_count": 39,
   "metadata": {},
   "outputs": [
    {
     "name": "stdout",
     "output_type": "stream",
     "text": [
      "NeW YeaR NeW PossibiliteS\n"
     ]
    }
   ],
   "source": [
    "#Write a Python program to capitalize first and last letters of each word of a given string.\n",
    "\n",
    "\n",
    "def captalize(s1):\n",
    "    s1 = s1.title()\n",
    "    result = \"\"\n",
    "    \n",
    "    for w in s1.split():\n",
    "        result += w[:-1] + w[-1].upper() + \" \"\n",
    "    return result[:-1]\n",
    "\n",
    "print(captalize(\"new year new possibilites\"))"
   ]
  },
  {
   "cell_type": "markdown",
   "metadata": {},
   "source": [
    "#### 64"
   ]
  },
  {
   "cell_type": "code",
   "execution_count": 42,
   "metadata": {},
   "outputs": [
    {
     "name": "stdout",
     "output_type": "stream",
     "text": [
      "17\n"
     ]
    }
   ],
   "source": [
    "#Write a Python program to compute sum of digits of a given string.\n",
    "def sumOfDigit(s1):\n",
    "    sumDigit = 0\n",
    "    for x in s1:\n",
    "        if x.isdigit() == True:\n",
    "            z = int(x)\n",
    "            sumDigit = sumDigit + z\n",
    "    return sumDigit        \n",
    "\n",
    "print(sumOfDigit('G8oP9remium'))"
   ]
  },
  {
   "cell_type": "markdown",
   "metadata": {},
   "source": [
    "#### 65"
   ]
  },
  {
   "cell_type": "code",
   "execution_count": 44,
   "metadata": {},
   "outputs": [
    {
     "name": "stdout",
     "output_type": "stream",
     "text": [
      "127.1.278.18\n"
     ]
    }
   ],
   "source": [
    "import re\n",
    "\n",
    "ip = '127.01.278.018'\n",
    "ipnum = re.sub('\\.[0]*','.',ip)\n",
    "print(ipnum)"
   ]
  },
  {
   "cell_type": "code",
   "execution_count": null,
   "metadata": {},
   "outputs": [],
   "source": []
  }
 ],
 "metadata": {
  "kernelspec": {
   "display_name": "Python 3",
   "language": "python",
   "name": "python3"
  },
  "language_info": {
   "codemirror_mode": {
    "name": "ipython",
    "version": 3
   },
   "file_extension": ".py",
   "mimetype": "text/x-python",
   "name": "python",
   "nbconvert_exporter": "python",
   "pygments_lexer": "ipython3",
   "version": "3.7.6"
  }
 },
 "nbformat": 4,
 "nbformat_minor": 4
}
