{
 "cells": [
  {
   "cell_type": "code",
   "execution_count": 1,
   "metadata": {},
   "outputs": [
    {
     "name": "stdout",
     "output_type": "stream",
     "text": [
      "Enter your test score:90\n"
     ]
    }
   ],
   "source": [
    "score = int(input(\"Enter your test score:\"))\n",
    "passing = 40\n",
    "distinction = 90\n"
   ]
  },
  {
   "cell_type": "code",
   "execution_count": 3,
   "metadata": {},
   "outputs": [
    {
     "name": "stdout",
     "output_type": "stream",
     "text": [
      "You are at top You've earned a distinction!\n"
     ]
    }
   ],
   "source": [
    "if score >= distinction :\n",
    "    print(\"You are at top You've earned a distinction!\")\n",
    "    \n",
    "if score >= passing and score < distinction :\n",
    "    print(\"You have passed! \")\n",
    "    \n",
    "if score < passing :\n",
    "    print(\"You have failed! \")"
   ]
  },
  {
   "cell_type": "code",
   "execution_count": 4,
   "metadata": {},
   "outputs": [
    {
     "name": "stdout",
     "output_type": "stream",
     "text": [
      "distinction\n"
     ]
    }
   ],
   "source": [
    "if score == 100 :\n",
    "    print(\"perfect\")\n",
    "elif 90 <= score < 100 :\n",
    "    print(\"distinction\")\n",
    "elif 65<=score<90:\n",
    "    print(\"First Class\")\n",
    "elif 40<=score<65:\n",
    "    print(\"Second Class\")\n",
    "else:\n",
    "    print(\"Failed\")"
   ]
  },
  {
   "cell_type": "code",
   "execution_count": 5,
   "metadata": {},
   "outputs": [
    {
     "name": "stdout",
     "output_type": "stream",
     "text": [
      "Bad review! \n",
      "This is not a bad review\n"
     ]
    }
   ],
   "source": [
    "statement = \"The coffee is bad\" \n",
    "if 'bad' in statement :\n",
    "    print(\"Bad review! \")\n",
    "    \n",
    "statement2 = \"This phone works great\" \n",
    "if 'great' in statement2:\n",
    "    print(\"This is not a bad review\")"
   ]
  },
  {
   "cell_type": "code",
   "execution_count": 9,
   "metadata": {},
   "outputs": [
    {
     "name": "stdout",
     "output_type": "stream",
     "text": [
      "Enter a number: 24\n",
      "Even\n",
      "divisible by 4\n"
     ]
    }
   ],
   "source": [
    "num = int(input(\"Enter a number: \"))\n",
    "#enter 24\n",
    "if num%2==0:\n",
    "    print(\"Even\")\n",
    "    if num%4==0:\n",
    "        print(\"divisible by 4\")\n",
    "    else:\n",
    "        print(\"Not divisible by 4\")\n",
    "else:\n",
    "    print(\"Odd\")\n",
    "    if num%3==0:\n",
    "        print(\"Divisible by 3\")\n",
    "    else:\n",
    "        print(\"Not divisible by 3\")"
   ]
  },
  {
   "cell_type": "code",
   "execution_count": 10,
   "metadata": {},
   "outputs": [
    {
     "name": "stdout",
     "output_type": "stream",
     "text": [
      "Is False\n"
     ]
    }
   ],
   "source": [
    "if None :\n",
    "    print(\"Is True\")\n",
    "else :\n",
    "    print(\"Is False\")"
   ]
  },
  {
   "cell_type": "code",
   "execution_count": null,
   "metadata": {},
   "outputs": [],
   "source": []
  }
 ],
 "metadata": {
  "kernelspec": {
   "display_name": "Python 3",
   "language": "python",
   "name": "python3"
  },
  "language_info": {
   "codemirror_mode": {
    "name": "ipython",
    "version": 3
   },
   "file_extension": ".py",
   "mimetype": "text/x-python",
   "name": "python",
   "nbconvert_exporter": "python",
   "pygments_lexer": "ipython3",
   "version": "3.7.6"
  }
 },
 "nbformat": 4,
 "nbformat_minor": 4
}
