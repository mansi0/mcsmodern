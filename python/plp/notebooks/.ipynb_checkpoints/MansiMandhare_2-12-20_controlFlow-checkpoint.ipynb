{
 "cells": [
  {
   "cell_type": "markdown",
   "metadata": {},
   "source": [
    "# Name - Mansi Mandhare                                                    Date - 2/12/20\n",
    "\n",
    "# Enrollment no- 2002273\n",
    "\n",
    "## Control Loop Exercises-Python"
   ]
  },
  {
   "cell_type": "markdown",
   "metadata": {},
   "source": [
    "## 1. Write a Python program to find those numbers which are divisible by 7 and multiple of 5, between 1500 and 2700 (both included)."
   ]
  },
  {
   "cell_type": "code",
   "execution_count": 4,
   "metadata": {},
   "outputs": [
    {
     "name": "stdout",
     "output_type": "stream",
     "text": [
      "1505,1540,1575,1610,1645,1680,1715,1750,1785,1820,1855,1890,1925,1960,1995,2030,2065,2100,2135,2170,2205,2240,2275,2310,2345,2380,2415,2450,2485,2520,2555,2590,2625,2660,2695,"
     ]
    }
   ],
   "source": [
    "for x in range(1500,2701) :\n",
    "    if((x % 7 == 0) and(x % 5 == 0)):  #Check number is divisible by 7 and 5\n",
    "        print(x , end=',')"
   ]
  },
  {
   "cell_type": "markdown",
   "metadata": {},
   "source": [
    "## 2. Write a Python program to convert temperatures to and from Celsius, Fahrenheit.\n",
    "### [Formula: c/5 = f-32/9 [ where c = temperature in Celsius and f = temperature in Fahrenheit ]\n",
    "### Expected Output :\n",
    "#### 60°C is 140 in Fahrenheit\n",
    "#### 45°F is 7 in Celsius"
   ]
  },
  {
   "cell_type": "code",
   "execution_count": 20,
   "metadata": {},
   "outputs": [
    {
     "name": "stdout",
     "output_type": "stream",
     "text": [
      "Enter temperature in celcius60\n",
      "60 is 140.0 in Fahrenheit\n",
      "Enter temperature in Fahrenheit45\n",
      "45 is 7.22 in Celsius\n"
     ]
    }
   ],
   "source": [
    "c = int(input('Enter temperature in celcius'))\n",
    "f = 9*(c/5) +32\n",
    "print(c,'is',round(f,2) ,'in Fahrenheit')\n",
    "fh = int(input('Enter temperature in Fahrenheit'))\n",
    "cl = (fh-32)*5/9\n",
    "print(fh,'is',round(cl,2) ,'in Celsius')\n"
   ]
  },
  {
   "cell_type": "markdown",
   "metadata": {},
   "source": [
    "## 3. Write a Python program to guess a number between 1 to 9. Note: User is prompted\n",
    "## to enter a guess. If the user guesses wrong then the prompt appears again until the\n",
    "## guess is correct, on successful guess, user will get a \"Well guessed!\" message, and the\n",
    "## program will exit."
   ]
  },
  {
   "cell_type": "code",
   "execution_count": 23,
   "metadata": {},
   "outputs": [
    {
     "name": "stdout",
     "output_type": "stream",
     "text": [
      "Guess a number betwwen 1 to 9 :56\n",
      "Guess a number betwwen 1 to 9 :45\n",
      "Guess a number betwwen 1 to 9 :34\n",
      "Guess a number betwwen 1 to 9 :-3\n",
      "Guess a number betwwen 1 to 9 :3\n",
      "Well guessed !\n"
     ]
    }
   ],
   "source": [
    "guess = False\n",
    "while guess == False :\n",
    "    a = int(input('Guess a number betwwen 1 to 9 :'))\n",
    "    if a > 0 and a < 10 :\n",
    "        print('Well guessed !')\n",
    "        guess = True"
   ]
  },
  {
   "cell_type": "markdown",
   "metadata": {},
   "source": [
    "## 4. Write a Python program to construct the following pattern, using a nested for loop.\n",
    "\n",
    "#### *\n",
    "#### * *\n",
    "#### * * *\n",
    "#### * * * *\n",
    "#### * * * * *\n",
    "#### * * * *\n",
    "#### * * *\n",
    "#### * *\n",
    "#### *"
   ]
  },
  {
   "cell_type": "code",
   "execution_count": 26,
   "metadata": {},
   "outputs": [
    {
     "name": "stdout",
     "output_type": "stream",
     "text": [
      "* \n",
      "* * \n",
      "* * * \n",
      "* * * * \n",
      "* * * * * \n",
      "* * * * \n",
      "* * * \n",
      "* * \n",
      "* \n"
     ]
    }
   ],
   "source": [
    "rows = 9;\n",
    "str1 = ''\n",
    "for i in range (0,rows) :\n",
    "    if i < 5 :\n",
    "        str1 += '* '     # For upper right angled triangle\n",
    "        print(str1)\n",
    "    elif i > 4 :\n",
    "        str1 = str1[:-2]  # for lower right angled triangle\n",
    "        print(str1)"
   ]
  },
  {
   "cell_type": "markdown",
   "metadata": {},
   "source": [
    "## 5. Write a Python program that accepts a word from the user and reverse it."
   ]
  },
  {
   "cell_type": "code",
   "execution_count": 45,
   "metadata": {},
   "outputs": [
    {
     "data": {
      "text/plain": [
       "'erahdnam isnam'"
      ]
     },
     "execution_count": 45,
     "metadata": {},
     "output_type": "execute_result"
    }
   ],
   "source": [
    "s = 'mansi mandhare'\n",
    "str = \"\" \n",
    "for i in s: \n",
    "    str = i + str\n",
    "str\n"
   ]
  },
  {
   "cell_type": "code",
   "execution_count": 2,
   "metadata": {},
   "outputs": [
    {
     "data": {
      "text/plain": [
       "'erahdnam isnam'"
      ]
     },
     "execution_count": 2,
     "metadata": {},
     "output_type": "execute_result"
    }
   ],
   "source": [
    "s = 'mansi mandhare'\n",
    "string = s[::-1]\n",
    "string"
   ]
  },
  {
   "cell_type": "code",
   "execution_count": 4,
   "metadata": {},
   "outputs": [
    {
     "data": {
      "text/plain": [
       "'erahdnam isnam'"
      ]
     },
     "execution_count": 4,
     "metadata": {},
     "output_type": "execute_result"
    }
   ],
   "source": [
    "def reverse(s): \n",
    "    if len(s) == 0:       #Using recursion\n",
    "        return s \n",
    "    else: \n",
    "        return reverse(s[1:]) + s[0] \n",
    "s = 'mansi mandhare'\n",
    "str=reverse(s);\n",
    "str"
   ]
  },
  {
   "cell_type": "markdown",
   "metadata": {},
   "source": [
    "## 6. Write a Python program to count the number of even and odd numbers from a series of numbers. Sample numbers : numbers = [1, 2, 3, 4, 5, 6, 7, 8, 9]\n",
    "## Expected Output :\n",
    "## Number of even numbers : 5\n",
    "## Number of odd numbers : 4"
   ]
  },
  {
   "cell_type": "code",
   "execution_count": 9,
   "metadata": {},
   "outputs": [
    {
     "name": "stdout",
     "output_type": "stream",
     "text": [
      "Number of even numbers: 4\n",
      "Number of odd numbers: 5\n"
     ]
    }
   ],
   "source": [
    "numbers = [1,2,3,4,5,6,7,8,9]\n",
    "ev=0\n",
    "od=0\n",
    "for i in numbers :\n",
    "    if(i%2 == 0) :\n",
    "        ev += 1\n",
    "    else : od += 1\n",
    "print(\"Number of even numbers:\",ev)\n",
    "print(\"Number of odd numbers:\",od)\n"
   ]
  },
  {
   "cell_type": "markdown",
   "metadata": {},
   "source": [
    "## 7. Write a Python program that prints each item and its corresponding type from the following list.\n",
    "### Sample List : datalist = [1452, 11.23, 1+2j, True, ‘Moderncollege’, (0, -1), [5, 12],{\"class\":'V', \"section\":'A'}]\n",
    "                    "
   ]
  },
  {
   "cell_type": "code",
   "execution_count": 13,
   "metadata": {},
   "outputs": [
    {
     "name": "stdout",
     "output_type": "stream",
     "text": [
      "1452        <class 'int'>\n",
      "11.23        <class 'float'>\n",
      "(1+2j)        <class 'complex'>\n",
      "True        <class 'bool'>\n",
      "Moderncollege        <class 'str'>\n",
      "(0, -1)        <class 'tuple'>\n",
      "[5, 12]        <class 'list'>\n",
      "{'class': 'V', 'section': 'A'}        <class 'dict'>\n"
     ]
    }
   ],
   "source": [
    "datalist = [1452, 11.23, 1+2j, True, 'Moderncollege', (0, -1), [5, 12],{\"class\":'V', \"section\":'A'}]\n",
    "for i in datalist :\n",
    "    print (i ,'      ' ,type(i))"
   ]
  },
  {
   "cell_type": "markdown",
   "metadata": {},
   "source": [
    "## 8. Write a Python program that prints all the numbers from 0 to 6 except 3 and 6.\n",
    "#### Note : Use 'continue' statement.\n",
    "#### Expected Output : 0 1 2 4 5"
   ]
  },
  {
   "cell_type": "code",
   "execution_count": 14,
   "metadata": {},
   "outputs": [
    {
     "name": "stdout",
     "output_type": "stream",
     "text": [
      "0\n",
      "1\n",
      "2\n",
      "4\n",
      "5\n"
     ]
    }
   ],
   "source": [
    "for i in range(0,7) :\n",
    "    if(i == 3 or i == 6) :\n",
    "        continue;\n",
    "    print(i)"
   ]
  },
  {
   "cell_type": "markdown",
   "metadata": {},
   "source": [
    "## 9. Write a Python program to get the Fibonacci series between 0 to 50. \n",
    "#### Note : The Fibonacci Sequence is the series of numbers :\n",
    "#### 0, 1, 1, 2, 3, 5, 8, 13, 21, ....\n",
    "#### Every next number is found by adding up the two numbers before it.\n",
    "#### Expected Output : 1 1 2 3 5 8 13 21 34"
   ]
  },
  {
   "cell_type": "code",
   "execution_count": 18,
   "metadata": {},
   "outputs": [
    {
     "name": "stdout",
     "output_type": "stream",
     "text": [
      "1 1 2 3 5 8 13 21 34 "
     ]
    }
   ],
   "source": [
    "a , b = 0 , 1\n",
    "while b<50:\n",
    "    print(b, end= ' ')\n",
    "    a,b = b,a+b"
   ]
  },
  {
   "cell_type": "markdown",
   "metadata": {},
   "source": [
    "## 10. Write a Python program which iterates the integers from 1 to 50. For multiples of three print \"Fizz\" instead of the number and for the multiples of five print \"Buzz\". For\n",
    "## numbers which are multiples of both three and five print \"FizzBuzz\".\n",
    "#### Sample Output :\n",
    "#### fizzbuzz  1  2  fizz  4  buzz"
   ]
  },
  {
   "cell_type": "code",
   "execution_count": 20,
   "metadata": {},
   "outputs": [
    {
     "name": "stdout",
     "output_type": "stream",
     "text": [
      "1\n",
      "2\n",
      "fizz\n",
      "4\n",
      "buzz\n",
      "fizz\n",
      "7\n",
      "8\n",
      "fizz\n",
      "buzz\n",
      "11\n",
      "fizz\n",
      "13\n",
      "14\n",
      "fizzBuzz\n",
      "16\n",
      "17\n",
      "fizz\n",
      "19\n",
      "buzz\n",
      "fizz\n",
      "22\n",
      "23\n",
      "fizz\n",
      "buzz\n",
      "26\n",
      "fizz\n",
      "28\n",
      "29\n",
      "fizzBuzz\n",
      "31\n",
      "32\n",
      "fizz\n",
      "34\n",
      "buzz\n",
      "fizz\n",
      "37\n",
      "38\n",
      "fizz\n",
      "buzz\n",
      "41\n",
      "fizz\n",
      "43\n",
      "44\n",
      "fizzBuzz\n",
      "46\n",
      "47\n",
      "fizz\n",
      "49\n",
      "buzz\n"
     ]
    }
   ],
   "source": [
    "for i in range(1,51) :\n",
    "    if(i % 3 == 0 and i % 5 ==0) :\n",
    "        print(\"fizzBuzz\")\n",
    "    elif(i % 3 == 0) :\n",
    "        print(\"fizz\")\n",
    "    elif(i % 5 == 0) :\n",
    "        print(\"buzz\")\n",
    "    else :\n",
    "        print(i)"
   ]
  },
  {
   "cell_type": "markdown",
   "metadata": {},
   "source": [
    "## 11. Write a Python program which takes two digits m (row) and n (column) as input and generates a two-dimensional array. The element value in the i-th row and j-th column of\n",
    "## the array should be i*j. \n",
    "#### Note :\n",
    "#### i = 0,1.., m-1\n",
    "#### j = 0,1, n-1.\n",
    "#### Test Data : Rows = 3, Columns = 4\n",
    "#### Expected Result : [[0, 0, 0, 0], [0, 1, 2, 3], [0, 2, 4, 6]]"
   ]
  },
  {
   "cell_type": "code",
   "execution_count": 21,
   "metadata": {},
   "outputs": [
    {
     "name": "stdout",
     "output_type": "stream",
     "text": [
      "Input number of rows: 3\n",
      "Input number of columns: 4\n",
      "[[0, 0, 0, 0], [0, 1, 2, 3], [0, 2, 4, 6]]\n"
     ]
    }
   ],
   "source": [
    "row_num = int(input(\"Input number of rows: \"))\n",
    "col_num = int(input(\"Input number of columns: \"))\n",
    "multi_list = [[0 for col in range(col_num)] for row in range(row_num)]\n",
    "\n",
    "for row in range(row_num):\n",
    "    for col in range(col_num):\n",
    "        multi_list[row][col]= row*col\n",
    "\n",
    "print(multi_list)"
   ]
  },
  {
   "cell_type": "markdown",
   "metadata": {},
   "source": [
    "## 12. Write a Python program that accepts a sequence of lines (blank line to terminate) as input and prints the lines as output (all characters in lower case)."
   ]
  },
  {
   "cell_type": "code",
   "execution_count": 22,
   "metadata": {},
   "outputs": [
    {
     "name": "stdout",
     "output_type": "stream",
     "text": [
      "hbchgGHGjhvjsbHJje\n",
      " hrejhjgfgrv \n",
      "\n",
      "hbchgghgjhvjsbhjje\n",
      " hrejhjgfgrv \n"
     ]
    }
   ],
   "source": [
    "lines = []\n",
    "while True:\n",
    "    l = input()\n",
    "    if l:\n",
    "        lines.append(l.lower())   #Convert string into lower case\n",
    "    else:\n",
    "        break;\n",
    "\n",
    "for l in lines:\n",
    "    print(l)"
   ]
  },
  {
   "cell_type": "markdown",
   "metadata": {},
   "source": [
    "## 13. Write a Python program which accepts a sequence of comma separated 4 digit binary numbers as its input and print the numbers that are divisible by 5 in a comma separated sequence.\n",
    "##### Sample Data: 0100,0011,1010,1001,1100,1001\n",
    "##### Expected Output : 1010"
   ]
  },
  {
   "cell_type": "code",
   "execution_count": 32,
   "metadata": {},
   "outputs": [
    {
     "name": "stdout",
     "output_type": "stream",
     "text": [
      "0100,0011,1010,1001,1100,1001,0101\n",
      "1010,0101\n"
     ]
    }
   ],
   "source": [
    "items = []\n",
    "num = [x for x in input().split(',')]\n",
    "for p in num:\n",
    "    x = int(p, 2)      # it converts binary no into decimal\n",
    "    if x%5 == 0:\n",
    "        items.append(p)\n",
    "print(','.join(items))   #Join all items by given separator(,)"
   ]
  },
  {
   "cell_type": "markdown",
   "metadata": {},
   "source": [
    "## 14. Write a Python program that accepts a string and calculate the number of digits and letters.\n",
    "#### Sample Data : Python 3.2\n",
    "#### Expected Output :\n",
    "#### Letters 6\n",
    "#### Digits 2"
   ]
  },
  {
   "cell_type": "code",
   "execution_count": 36,
   "metadata": {},
   "outputs": [
    {
     "name": "stdout",
     "output_type": "stream",
     "text": [
      "Enter a string : python 3.2\n",
      "Letters: 6\n",
      "Digits: 2\n"
     ]
    }
   ],
   "source": [
    "s=input(\"Enter a string : \")\n",
    "d=0\n",
    "l=0\n",
    "for i in s :\n",
    "    if i.isdigit() :   #check character is digit or not\n",
    "        d+=1\n",
    "    if i.isalpha() :   #check character is letter or not\n",
    "        l+=1\n",
    "print(\"Letters:\",l)\n",
    "print(\"Digits:\",d)"
   ]
  },
  {
   "cell_type": "markdown",
   "metadata": {},
   "source": [
    "## 15. Write a Python program to check the validity of password input by users. Validation:\n",
    "#### • At least 1 letter between [a-z] and 1 letter between [A-Z].\n",
    "#### • At least 1 number between [0-9].\n",
    "#### • At least 1 character from [$#@].\n",
    "#### • Minimum length 6 characters.\n",
    "#### • Maximum length 16 characters."
   ]
  },
  {
   "cell_type": "code",
   "execution_count": 57,
   "metadata": {},
   "outputs": [
    {
     "name": "stdout",
     "output_type": "stream",
     "text": [
      "Enter a valid passwordsMansi$2000\n",
      "It's fine\n"
     ]
    }
   ],
   "source": [
    "password = input (\"Enter a valid passwords\")\n",
    "SpecialSymbol=['$','@','#']\n",
    "while True :\n",
    "    if len(password) < 6 or len(password) >16 :          \n",
    "        print(\"length of password is not as defined\")\n",
    "        break\n",
    "    elif not any(char.isdigit() for char in password):  \n",
    "        print(\"password should contain at least 1 digit\")\n",
    "        break\n",
    "    elif not any(char.isupper() for char in password) :\n",
    "        print(\"1 letter should be in upper case\")\n",
    "        break\n",
    "    elif not any(char.islower() for char in password):\n",
    "        print(\"1 letter should be in lower case\")\n",
    "        break\n",
    "    elif not any(char in SpecialSymbol for char in password) :\n",
    "        print(\"password should contain $#@\")\n",
    "        break\n",
    "    else :\n",
    "        print(\"It's fine\")\n",
    "        break"
   ]
  },
  {
   "cell_type": "code",
   "execution_count": 58,
   "metadata": {},
   "outputs": [
    {
     "name": "stdout",
     "output_type": "stream",
     "text": [
      "Input your passwordMansi@3\n",
      "Valid Password\n"
     ]
    }
   ],
   "source": [
    "import re                 # This model is used for regular expression\n",
    "p= input(\"Input your password\")\n",
    "x = True\n",
    "while x:  \n",
    "    if (len(p)<6 or len(p)>12):\n",
    "        break\n",
    "    elif not re.search(\"[a-z]\",p):\n",
    "        break\n",
    "    elif not re.search(\"[0-9]\",p):\n",
    "        break\n",
    "    elif not re.search(\"[A-Z]\",p):\n",
    "        break\n",
    "    elif not re.search(\"[$#@]\",p):\n",
    "        break\n",
    "    elif re.search(\"\\s\",p):\n",
    "        break\n",
    "    else:\n",
    "        print(\"Valid Password\")\n",
    "        x=False\n",
    "        break\n",
    "\n",
    "if x:\n",
    "    print(\"Not a Valid Password\")"
   ]
  },
  {
   "cell_type": "markdown",
   "metadata": {},
   "source": [
    "## 16. Write a Python program to find numbers between 100 and 400 (both included) where each digit of a number is an even number. The numbers obtained should be printed in a comma-separated sequence."
   ]
  },
  {
   "cell_type": "code",
   "execution_count": 74,
   "metadata": {},
   "outputs": [
    {
     "name": "stdout",
     "output_type": "stream",
     "text": [
      "200,202,204,206,208,220,222,224,226,228,240,242,244,246,248,260,262,264,266,268,280,282,284,286,288,400\n"
     ]
    }
   ],
   "source": [
    "items = []\n",
    "for i in range(100,401) :\n",
    "    n = \"%s\"%i     # typecast int into string\n",
    "    x = True\n",
    "    while i > 0 :\n",
    "        rm = int(i % 10)   #Get last digit of number\n",
    "        i = i / 10\n",
    "        if not rm % 2 == 0 :  #check whether single digit is even or not\n",
    "            x = False\n",
    "            break\n",
    "    if x == True :\n",
    "        items.append(n)\n",
    "print(','.join(items))    # display list separated by comma\n",
    "        \n",
    "        \n",
    "        "
   ]
  },
  {
   "cell_type": "code",
   "execution_count": 76,
   "metadata": {},
   "outputs": [
    {
     "name": "stdout",
     "output_type": "stream",
     "text": [
      "200,202,204,206,208,220,222,224,226,228,240,242,244,246,248,260,262,264,266,268,280,282,284,286,288,400\n"
     ]
    }
   ],
   "source": [
    "items = []\n",
    "for i in range(100, 401):\n",
    "    s = \"%s\"%i\n",
    "    if (int(s[0])%2==0) and (int(s[1])%2==0) and (int(s[2])%2==0):\n",
    "        items.append(s)\n",
    "print( \",\".join(items))    # display list separated by comma\n"
   ]
  },
  {
   "cell_type": "markdown",
   "metadata": {},
   "source": [
    "## 17.Write a Python program to print alphabet pattern 'A'."
   ]
  },
  {
   "cell_type": "code",
   "execution_count": 82,
   "metadata": {},
   "outputs": [
    {
     "name": "stdout",
     "output_type": "stream",
     "text": [
      " ***\n",
      "*   *\n",
      "*   *\n",
      "*****\n",
      "*   *\n",
      "*   *\n",
      "*   *\n"
     ]
    }
   ],
   "source": [
    "for i in range(0,7):\n",
    "\n",
    "    if i==0: \n",
    "        print(\" ***\")\n",
    "    elif i==3:\n",
    "        print(\"*\"*5)\n",
    "    else:\n",
    "        print(\"*   *\")"
   ]
  },
  {
   "cell_type": "code",
   "execution_count": 81,
   "metadata": {},
   "outputs": [
    {
     "name": "stdout",
     "output_type": "stream",
     "text": [
      "  ***  \n",
      " *   * \n",
      " *   * \n",
      " ***** \n",
      " *   * \n",
      " *   * \n",
      " *   * \n",
      "\n"
     ]
    }
   ],
   "source": [
    "resultString = \"\";\n",
    "for row in range(0,7):\n",
    "    for column in range(0,7):\n",
    "        if(((column == 1 or column == 5) and row != 0)\n",
    "           or ((row == 0 or row == 3) and (column > 1 and column < 5))):  # This condition tells position of stars\n",
    "            resultString = resultString+\"*\"\n",
    "        else:\n",
    "            resultString = resultString+\" \"          # Else it print blank space\n",
    "    resultString = resultString+\"\\n\"\n",
    "print(resultString);"
   ]
  },
  {
   "cell_type": "markdown",
   "metadata": {},
   "source": [
    "## 18. Write a Python program to print alphabet pattern 'D'.\n"
   ]
  },
  {
   "cell_type": "code",
   "execution_count": 67,
   "metadata": {},
   "outputs": [
    {
     "name": "stdout",
     "output_type": "stream",
     "text": [
      "****\n",
      "*  *\n",
      "*  *\n",
      "*  *\n",
      "*  *\n",
      "*  *\n",
      "****\n",
      "\n"
     ]
    }
   ],
   "source": [
    "resultString = \"\";\n",
    "for row in range(0,7) :\n",
    "    for column in range(0,4) :\n",
    "        if((row == 0 or row == 6) or ( (column == 0 or column == 3) and (row > 0 and row <6))) :\n",
    "           resultString = resultString+\"*\" \n",
    "        else :\n",
    "           resultString = resultString + \" \"\n",
    "    resultString = resultString + \"\\n\"\n",
    "print(resultString)"
   ]
  },
  {
   "cell_type": "code",
   "execution_count": 70,
   "metadata": {},
   "outputs": [
    {
     "name": "stdout",
     "output_type": "stream",
     "text": [
      "****\n",
      "*   *\n",
      "*   *\n",
      "*   *\n",
      "*   *\n",
      "*   *\n",
      "****\n"
     ]
    }
   ],
   "source": [
    "for i in range(0,7):\n",
    "\n",
    "    if i==0 or i==6: \n",
    "        print(\"****\")\n",
    "    else:\n",
    "        print(\"*   *\")"
   ]
  },
  {
   "cell_type": "markdown",
   "metadata": {},
   "source": [
    "### 19. Write a Python program to print alphabet pattern 'E'.\n"
   ]
  },
  {
   "cell_type": "code",
   "execution_count": 96,
   "metadata": {},
   "outputs": [
    {
     "name": "stdout",
     "output_type": "stream",
     "text": [
      " ***** \n",
      " *     \n",
      " *     \n",
      " ****  \n",
      " *     \n",
      " *     \n",
      " ***** \n",
      "\n"
     ]
    }
   ],
   "source": [
    "result_str=\"\";    \n",
    "for row in range(0,7):    \n",
    "    for column in range(0,7):     \n",
    "        if (column == 1 or ((row == 0 or row == 6) and (column > 1 and column < 6)) or (row == 3 and column > 1 and column < 5)):  \n",
    "            result_str=result_str+\"*\"    \n",
    "        else:      \n",
    "            result_str=result_str+\" \"    \n",
    "    result_str=result_str+\"\\n\"    \n",
    "print(result_str);"
   ]
  },
  {
   "cell_type": "code",
   "execution_count": 74,
   "metadata": {},
   "outputs": [
    {
     "name": "stdout",
     "output_type": "stream",
     "text": [
      "*****\n",
      "*\n",
      "*\n",
      "*****\n",
      "*\n",
      "*\n",
      "*****\n"
     ]
    }
   ],
   "source": [
    "for i in range(0,7):\n",
    "\n",
    "    if i==0 or i==3 or i==6: \n",
    "        print(\"*****\")\n",
    "    else:\n",
    "        print(\"*\")"
   ]
  },
  {
   "cell_type": "markdown",
   "metadata": {},
   "source": [
    "### 20. Write a Python program to print alphabet pattern 'G'."
   ]
  },
  {
   "cell_type": "code",
   "execution_count": 97,
   "metadata": {},
   "outputs": [
    {
     "name": "stdout",
     "output_type": "stream",
     "text": [
      "  ***  \n",
      " *   * \n",
      " *     \n",
      " * *** \n",
      " *   * \n",
      " *   * \n",
      "  ***  \n",
      "\n"
     ]
    }
   ],
   "source": [
    "result_str=\"\";    \n",
    "for row in range(0,7):    \n",
    "    for column in range(0,7):     \n",
    "        if ((column == 1 and row != 0 and row != 6) or ((row == 0 or row == 6) and column > 1 and column < 5) or (row == 3 and column > 2 and column < 6) or (column == 5 and row != 0 and row != 2 and row != 6)):  \n",
    "            result_str=result_str+\"*\"    \n",
    "        else:      \n",
    "            result_str=result_str+\" \"    \n",
    "    result_str=result_str+\"\\n\"    \n",
    "print(result_str);"
   ]
  },
  {
   "cell_type": "code",
   "execution_count": 75,
   "metadata": {},
   "outputs": [
    {
     "name": "stdout",
     "output_type": "stream",
     "text": [
      " ***\n",
      "*  *\n",
      "*\n",
      "* ***\n",
      "*  *\n",
      "*  *\n",
      " ***\n"
     ]
    }
   ],
   "source": [
    "for i in range(0,7):\n",
    "\n",
    "    if i==0 or i==6: \n",
    "        print(\" ***\")\n",
    "    elif i == 3 :\n",
    "        print(\"* ***\")\n",
    "    elif i == 2 :\n",
    "        print(\"*\")\n",
    "    else:\n",
    "        print(\"*  *\")"
   ]
  },
  {
   "cell_type": "markdown",
   "metadata": {},
   "source": [
    "### 21. Write a Python program to print alphabet pattern 'L'."
   ]
  },
  {
   "cell_type": "code",
   "execution_count": 76,
   "metadata": {},
   "outputs": [
    {
     "name": "stdout",
     "output_type": "stream",
     "text": [
      "*\n",
      "*\n",
      "*\n",
      "*\n",
      "*\n",
      "*\n",
      "*****\n"
     ]
    }
   ],
   "source": [
    "for i in range(0,7):\n",
    "\n",
    "    if i==6: \n",
    "        print(\"*****\")\n",
    "    else:\n",
    "        print(\"*\")"
   ]
  },
  {
   "cell_type": "markdown",
   "metadata": {},
   "source": [
    "### 22. Write a Python program to print alphabet pattern 'M'.\n"
   ]
  },
  {
   "cell_type": "code",
   "execution_count": 79,
   "metadata": {},
   "outputs": [
    {
     "name": "stdout",
     "output_type": "stream",
     "text": [
      "*   *\n",
      "*   *\n",
      "** **\n",
      "* * *\n",
      "*   *\n",
      "*   *\n",
      "*   *\n"
     ]
    }
   ],
   "source": [
    "for i in range(0,7):\n",
    "\n",
    "    if i==2: \n",
    "        print(\"** **\")\n",
    "    elif i==3 :\n",
    "        print(\"* * *\")\n",
    "    else:\n",
    "        print(\"*   *\")"
   ]
  },
  {
   "cell_type": "markdown",
   "metadata": {},
   "source": [
    "### 23. Write a Python program to print alphabet pattern 'O'. "
   ]
  },
  {
   "cell_type": "code",
   "execution_count": 80,
   "metadata": {},
   "outputs": [
    {
     "name": "stdout",
     "output_type": "stream",
     "text": [
      "***\n",
      "* *\n",
      "* *\n",
      "* *\n",
      "* *\n",
      "* *\n",
      "***\n"
     ]
    }
   ],
   "source": [
    "for i in range(0,7):\n",
    "\n",
    "    if i==0 or i==6: \n",
    "        print(\"***\")\n",
    "    else:\n",
    "        print(\"* *\")"
   ]
  },
  {
   "cell_type": "markdown",
   "metadata": {},
   "source": [
    "### 24. Write a Python program to print alphabet pattern 'P'."
   ]
  },
  {
   "cell_type": "code",
   "execution_count": 82,
   "metadata": {},
   "outputs": [
    {
     "name": "stdout",
     "output_type": "stream",
     "text": [
      "****\n",
      "*  *\n",
      "*  *\n",
      "****\n",
      "*\n",
      "*\n",
      "*\n"
     ]
    }
   ],
   "source": [
    "for i in range(0,7):\n",
    "\n",
    "    if i==0 or i==3: \n",
    "        print(\"****\")\n",
    "    elif i == 1 or i==2 :\n",
    "        print(\"*  *\")\n",
    "    else:\n",
    "        print(\"*\")"
   ]
  },
  {
   "cell_type": "markdown",
   "metadata": {},
   "source": [
    "### 25. Write a Python program to print alphabet pattern 'R'. Expected Output:\n"
   ]
  },
  {
   "cell_type": "code",
   "execution_count": 98,
   "metadata": {},
   "outputs": [
    {
     "name": "stdout",
     "output_type": "stream",
     "text": [
      " ****  \n",
      " *   * \n",
      " *   * \n",
      " ****  \n",
      " * *   \n",
      " *  *  \n",
      " *   * \n",
      "\n"
     ]
    }
   ],
   "source": [
    "result_str=\"\";    \n",
    "for row in range(0,7):    \n",
    "    for column in range(0,7):     \n",
    "        if (column == 1 or ((row == 0 or row == 3) and column > 1 and column < 5) \n",
    "            or (column == 5 and row != 0 and row < 3) or (column == row - 1 and row > 2)):  \n",
    "            result_str=result_str+\"*\"    \n",
    "        else:      \n",
    "            result_str=result_str+\" \"    \n",
    "    result_str=result_str+\"\\n\"    \n",
    "print(result_str);"
   ]
  },
  {
   "cell_type": "markdown",
   "metadata": {},
   "source": [
    "### 26. Write a Python program to print the following patterns.\n"
   ]
  },
  {
   "cell_type": "code",
   "execution_count": 83,
   "metadata": {},
   "outputs": [
    {
     "name": "stdout",
     "output_type": "stream",
     "text": [
      "****\n",
      "*\n",
      "*\n",
      "****\n",
      "   *\n",
      "   *\n",
      "****\n"
     ]
    }
   ],
   "source": [
    "for i in range(0,7):\n",
    "\n",
    "    if i==0 or i==3 or i==6: \n",
    "        print(\"****\")\n",
    "    elif i == 1 or i==2:\n",
    "        print(\"*\")\n",
    "    else :\n",
    "        print(\"   *\")"
   ]
  },
  {
   "cell_type": "code",
   "execution_count": 87,
   "metadata": {},
   "outputs": [
    {
     "name": "stdout",
     "output_type": "stream",
     "text": [
      "ooooooooooooooooo\n",
      "ooooooooooooooooo\n",
      "ooooooooooooooooo\n",
      "oooo\n",
      "oooo\n",
      "oooo\n",
      "ooooooooooooooooo\n",
      "ooooooooooooooooo\n",
      "ooooooooooooooooo\n",
      "      oooo\n",
      "      oooo\n",
      "      oooo\n",
      "ooooooooooooooooo\n",
      "ooooooooooooooooo\n",
      "ooooooooooooooooo\n"
     ]
    }
   ],
   "source": [
    "for i in range(0,15):\n",
    "\n",
    "    if i==3 or i==4 or i==5 : \n",
    "        print(\"oooo\")\n",
    "    elif i == 9 or i==10 or i==11:\n",
    "        print(\"      oooo\")\n",
    "    else :\n",
    "        print(\"ooooooooooooooooo\")"
   ]
  },
  {
   "cell_type": "markdown",
   "metadata": {},
   "source": [
    "### 27. Write a Python program to print alphabet pattern 'T'."
   ]
  },
  {
   "cell_type": "code",
   "execution_count": 88,
   "metadata": {},
   "outputs": [
    {
     "name": "stdout",
     "output_type": "stream",
     "text": [
      "*****\n",
      "  *\n",
      "  *\n",
      "  *\n",
      "  *\n",
      "  *\n",
      "  *\n"
     ]
    }
   ],
   "source": [
    "for i in range(0,7):\n",
    "\n",
    "    if i==0 :\n",
    "        print(\"*****\")\n",
    "    else :\n",
    "        print(\"  *\")"
   ]
  },
  {
   "cell_type": "markdown",
   "metadata": {},
   "source": [
    "### 28. Write a Python program to print alphabet pattern 'U'.\n"
   ]
  },
  {
   "cell_type": "code",
   "execution_count": 89,
   "metadata": {},
   "outputs": [
    {
     "name": "stdout",
     "output_type": "stream",
     "text": [
      "* *\n",
      "* *\n",
      "* *\n",
      "* *\n",
      "* *\n",
      "* *\n",
      "***\n"
     ]
    }
   ],
   "source": [
    "for i in range(0,7):\n",
    "\n",
    "    if  i==6: \n",
    "        print(\"***\")\n",
    "    \n",
    "    else :\n",
    "        print(\"* *\")"
   ]
  },
  {
   "cell_type": "markdown",
   "metadata": {},
   "source": [
    "### 29. Write a Python program to print alphabet pattern 'X'. Expected Output:"
   ]
  },
  {
   "cell_type": "code",
   "execution_count": 91,
   "metadata": {},
   "outputs": [
    {
     "name": "stdout",
     "output_type": "stream",
     "text": [
      "*   *\n",
      "*   *\n",
      " * *\n",
      "  *\n",
      " * *\n",
      "*   *\n",
      "*   *\n"
     ]
    }
   ],
   "source": [
    "for i in range(0,7):\n",
    "\n",
    "    if i==2 or i==4: \n",
    "        print(\" * *\")\n",
    "    elif i == 3:\n",
    "        print(\"  *\")\n",
    "    else :\n",
    "        print(\"*   *\")"
   ]
  },
  {
   "cell_type": "markdown",
   "metadata": {},
   "source": [
    "### 30`. Write a Python program to print alphabet pattern 'Z'. Expected Output:"
   ]
  },
  {
   "cell_type": "code",
   "execution_count": 92,
   "metadata": {},
   "outputs": [
    {
     "name": "stdout",
     "output_type": "stream",
     "text": [
      "*******\n",
      "     * \n",
      "    *  \n",
      "   *   \n",
      "  *    \n",
      " *     \n",
      "*******\n",
      "\n"
     ]
    }
   ],
   "source": [
    "result_str=\"\";    \n",
    "for row in range(0,7):    \n",
    "    for column in range(0,7):     \n",
    "        if (((row == 0 or row == 6) and column >= 0 and column <= 6) or row+column==6):  \n",
    "            result_str=result_str+\"*\"    \n",
    "        else:      \n",
    "            result_str=result_str+\" \"    \n",
    "    result_str=result_str+\"\\n\"    \n",
    "print(result_str);"
   ]
  },
  {
   "cell_type": "markdown",
   "metadata": {},
   "source": [
    "## 31. Write a Python program to calculate a dog's age in dog's years. Note: For the first two years, a dog year is equal to 10.5 human years. After that, each dog year equals 4 human years.\n",
    "#### Expected Output:\n",
    "#### Input a dog's age in human years: 15\n",
    "#### The dog's age in dog's years is 73"
   ]
  },
  {
   "cell_type": "code",
   "execution_count": 2,
   "metadata": {},
   "outputs": [
    {
     "name": "stdout",
     "output_type": "stream",
     "text": [
      "Enter dog's age in human years:15\n",
      "The dog's age in dog's year is : 73.0\n"
     ]
    }
   ],
   "source": [
    "y = int(input(\"Enter dog's age in human years:\"))\n",
    "d = 0\n",
    "if y <= 2 : \n",
    "    if y == 0 :\n",
    "        exit()\n",
    "    else :\n",
    "        d = y*10.5 \n",
    "else :\n",
    "    d= (2 * 10.5) + ((y-2) * 4)\n",
    "print(\"The dog's age in dog's year is :\",d)"
   ]
  },
  {
   "cell_type": "markdown",
   "metadata": {},
   "source": [
    "## 32. Write a Python program to check whether an alphabet is a vowel or consonant.\n",
    "#### Expected Output:\n",
    "#### Input a letter of the alphabet: k\n",
    "#### k is a consonant."
   ]
  },
  {
   "cell_type": "code",
   "execution_count": 6,
   "metadata": {},
   "outputs": [
    {
     "name": "stdout",
     "output_type": "stream",
     "text": [
      "Input a letter of the alphabet: k\n",
      "k is a Consonant\n"
     ]
    }
   ],
   "source": [
    "ch = input(\"Input a letter of the alphabet: \")\n",
    "\n",
    "if ch in ('a', 'e', 'i', 'o', 'u'):\n",
    "    print(ch, \"is a Vowel\")\n",
    "else:\n",
    "    print(ch, \"is a Consonant\")"
   ]
  },
  {
   "cell_type": "code",
   "execution_count": 8,
   "metadata": {},
   "outputs": [
    {
     "name": "stdout",
     "output_type": "stream",
     "text": [
      "Enter a character: e\n",
      "e is a Vowel\n"
     ]
    }
   ],
   "source": [
    "ch = input(\"Enter a character: \")\n",
    "\n",
    "if(ch=='A' or ch=='a' or ch=='E' or ch =='e' or ch=='I'\n",
    " or ch=='i' or ch=='O' or ch=='o' or ch=='U' or ch=='u'):\n",
    "    print(ch, \"is a Vowel\")\n",
    "else:\n",
    "    print(ch, \"is a Consonant\")"
   ]
  },
  {
   "cell_type": "markdown",
   "metadata": {},
   "source": [
    "## 33. Write a Python program to convert month name to a number of days. \n",
    "#### Expected Output:\n",
    "#### List of months: January, February, March, April, May, June, July, August , September, October, November, December\n",
    "#### Input the name of Month: February\n",
    "#### No. of days: 28/29 days"
   ]
  },
  {
   "cell_type": "code",
   "execution_count": 11,
   "metadata": {},
   "outputs": [
    {
     "name": "stdout",
     "output_type": "stream",
     "text": [
      "List of months: January, February, March, April, May, June, July, August, September, October, November, December\n",
      "Input the name of Month: February\n",
      "No. of days: 28/29 days\n"
     ]
    }
   ],
   "source": [
    "print(\"List of months: January, February, March, April, May, June, July, August, September, October, November, December\")\n",
    "month_name = input(\"Input the name of Month: \")\n",
    "\n",
    "if month_name == \"February\":\n",
    "    print(\"No. of days: 28/29 days\")\n",
    "elif month_name in (\"April\", \"June\", \"September\", \"November\"):\n",
    "    print(\"No. of days: 30 days\")\n",
    "elif month_name in (\"January\", \"March\", \"May\", \"July\", \"August\", \"October\", \"December\"):\n",
    "    print(\"No. of days: 31 day\")\n"
   ]
  },
  {
   "cell_type": "markdown",
   "metadata": {},
   "source": [
    "## 34. Write a Python program to sum of two given integers. However, if the sum is between 15 to 20 it will return 20."
   ]
  },
  {
   "cell_type": "code",
   "execution_count": 18,
   "metadata": {},
   "outputs": [
    {
     "name": "stdout",
     "output_type": "stream",
     "text": [
      "Enter 1st no10\n",
      "Enter 2nd no5\n",
      "sum =  20\n"
     ]
    }
   ],
   "source": [
    "a = int(input(\"Enter 1st no\"))\n",
    "b = int(input(\"Enter 2nd no\"))\n",
    "sum = a + b;\n",
    "if(sum >= 15 and sum <=20) :\n",
    "    sum = 20\n",
    "print(\"sum = \",sum)\n"
   ]
  },
  {
   "cell_type": "markdown",
   "metadata": {},
   "source": [
    "## 35. Write a Python program to check a string represent an integer or not.\n",
    "#### Expected Output:\n",
    "#### Input a string: Python\n",
    "#### The string is not an integer."
   ]
  },
  {
   "cell_type": "code",
   "execution_count": 25,
   "metadata": {},
   "outputs": [
    {
     "name": "stdout",
     "output_type": "stream",
     "text": [
      "Input a string: python\n",
      "The string is not an integer.\n"
     ]
    }
   ],
   "source": [
    "text = input(\"Input a string: \")\n",
    "if len(text) < 1:\n",
    "    print(\"Input a valid text\")\n",
    "else:\n",
    "    if all(text[i] in \"0123456789\" for i in range(len(text))):\n",
    "        print(\"The string is an integer.\")\n",
    "    else:\n",
    "        print(\"The string is not an integer.\") "
   ]
  },
  {
   "cell_type": "markdown",
   "metadata": {},
   "source": [
    "## 36. Write a Python program to check a triangle is equilateral, isosceles or scalene.\n",
    "#### Note : An equilateral triangle is a triangle in which all three sides are equal. A scalene triangle is a triangle that has three unequal sides. An isosceles triangle is a triangle with (at least) two equal sides."
   ]
  },
  {
   "cell_type": "code",
   "execution_count": 31,
   "metadata": {},
   "outputs": [
    {
     "name": "stdout",
     "output_type": "stream",
     "text": [
      "Enter 1st side of triangle : 2\n",
      "Enter 2nd side of triangle : 3\n",
      "Enter 3rd side of triangle : 2\n",
      "It is isosceles triangle\n"
     ]
    }
   ],
   "source": [
    "a = int(input(\"Enter 1st side of triangle : \"))\n",
    "b = int(input(\"Enter 2nd side of triangle : \"))\n",
    "c = int(input(\"Enter 3rd side of triangle : \"))\n",
    "if (a == b == c):\n",
    "    print(\"It is equilateral triangle\")\n",
    "elif( a==b or b==c or a==c) :\n",
    "    print(\"It is isosceles triangle\")\n",
    "else :\n",
    "    print(\"It is scalene triangle\")"
   ]
  },
  {
   "cell_type": "markdown",
   "metadata": {},
   "source": [
    "## 37. Write a Python program that reads two integers representing a month and day andprints the season for that month and day. \n",
    "#### Expected Output: Input the month (e.g. January, February etc.): july Input the day: 31 Season is autumn"
   ]
  },
  {
   "cell_type": "code",
   "execution_count": 66,
   "metadata": {},
   "outputs": [
    {
     "name": "stdout",
     "output_type": "stream",
     "text": [
      "Enter Month in Integer : 7\n",
      "Enter Day : 31\n",
      "input the month(e.g. January, February etc) : July\n",
      "input the day : 31\n",
      "Season is Monsoon\n"
     ]
    }
   ],
   "source": [
    "mon = int(input(\"Enter Month in Integer : \"))\n",
    "day = int(input(\"Enter Day : \"))\n",
    "if mon == 1:\n",
    "    print(\"input the month(e.g. January, February etc,) : January\")\n",
    "elif mon == 2:\n",
    "    print(\"input the month(e.g. January, February etc,) : February\")\n",
    "elif mon == 3:\n",
    "    print(\"input the month(e.g. January, February etc) : March\")\n",
    "elif mon == 4:\n",
    "    print(\"input the month(e.g. January, February etc) : April\")\n",
    "elif mon == 5:\n",
    "    print(\"input the month(e.g. January, February etc) : May\")\n",
    "elif mon == 6:\n",
    "    print(\"input the month(e.g. January, February etc) : June\")\n",
    "elif mon == 7:\n",
    "    print(\"input the month(e.g. January, February etc) : July\")\n",
    "elif mon == 8:\n",
    "    print(\"input the month(e.g. January, February etc) : August\")\n",
    "elif mon == 9:\n",
    "    print(\"input the month(e.g. January, February etc) : September\")\n",
    "elif mon == 10:\n",
    "    print(\"input the month(e.g. January, February etc) : October\")\n",
    "elif mon == 11:\n",
    "    print(\"input the month(e.g. January, February etc) : November\")\n",
    "elif mon == 12:\n",
    "    print(\"input the month(e.g. January, February etc) : December\")\n",
    "else:\n",
    "    print(\"Invalid Month\")\n",
    "    \n",
    "print(\"input the day :\",day)\n",
    "\n",
    "if mon >= 2 and mon <= 3:\n",
    "    print(\"Season is Spring\")\n",
    "elif mon >= 4 and mon <= 6:\n",
    "    print(\"Season is Summer\")\n",
    "elif mon >= 7 and mon <= 8:\n",
    "    print(\"Season is Monsoon\")\n",
    "elif mon >= 9 and mon <=10:\n",
    "    print(\"Season is Autumn\")\n",
    "else:\n",
    "    print(\"Season is Winter\")"
   ]
  },
  {
   "cell_type": "markdown",
   "metadata": {},
   "source": [
    "## 38. Write a Python program to display astrological sign for given date of birth. Expected\n",
    "#### Output:\n",
    "#### Input birthday: 15\n",
    "#### Input month of birth (e.g. march, july etc): may\n",
    "#### Your Astrological sign is : Taurus"
   ]
  },
  {
   "cell_type": "code",
   "execution_count": 35,
   "metadata": {},
   "outputs": [
    {
     "name": "stdout",
     "output_type": "stream",
     "text": [
      "Input birthday: 12\n",
      "Input month of birth (e.g. march, july etc): may\n",
      "Your Astrological sign is : Taurus\n"
     ]
    }
   ],
   "source": [
    "day = int(input(\"Input birthday: \"))\n",
    "month = input(\"Input month of birth (e.g. march, july etc): \")\n",
    "if month == 'december':\n",
    "    astro_sign = 'Sagittarius' if (day < 22) else 'capricorn'\n",
    "elif month == 'january':\n",
    "    astro_sign = 'Capricorn' if (day < 20) else 'aquarius'\n",
    "elif month == 'february':\n",
    "    astro_sign = 'Aquarius' if (day < 19) else 'pisces'\n",
    "elif month == 'march':\n",
    "    astro_sign = 'Pisces' if (day < 21) else 'aries'\n",
    "elif month == 'april':\n",
    "    astro_sign = 'Aries' if (day < 20) else 'taurus'\n",
    "elif month == 'may':\n",
    "    astro_sign = 'Taurus' if (day < 21) else 'gemini'\n",
    "elif month == 'june':\n",
    "    astro_sign = 'Gemini' if (day < 21) else 'cancer'\n",
    "elif month == 'july':\n",
    "    astro_sign = 'Cancer' if (day < 23) else 'leo'\n",
    "elif month == 'august':\n",
    "    astro_sign = 'Leo' if (day < 23) else 'virgo'\n",
    "elif month == 'september':\n",
    "    astro_sign = 'Virgo' if (day < 23) else 'libra'\n",
    "elif month == 'october':\n",
    "    astro_sign = 'Libra' if (day < 23) else 'scorpio'\n",
    "elif month == 'november':\n",
    "    astro_sign = 'scorpio' if (day < 22) else 'sagittarius'\n",
    "print(\"Your Astrological sign is :\",astro_sign)"
   ]
  },
  {
   "cell_type": "markdown",
   "metadata": {},
   "source": [
    "## 39. Write a Python program to display the sign of the Chinese Zodiac for given year in which you were born.\n",
    "#### Expected Output:\n",
    "#### Input your birth year: 1973\n",
    "#### Your Zodiac sign : Ox"
   ]
  },
  {
   "cell_type": "code",
   "execution_count": 36,
   "metadata": {},
   "outputs": [
    {
     "name": "stdout",
     "output_type": "stream",
     "text": [
      "Input your birth year: 1973\n",
      "Your Zodiac sign : Ox\n"
     ]
    }
   ],
   "source": [
    "year = int(input(\"Input your birth year: \"))\n",
    "if (year - 1975) % 12 == 0:\n",
    "    sign = 'Rabbit'\n",
    "elif (year - 1975) % 12 == 1:\n",
    "    sign = 'Dragon'\n",
    "elif (year - 1975) % 12 == 2:\n",
    "    sign = 'Snake'\n",
    "elif (year - 1975) % 12 == 3:\n",
    "    sign = 'Horse' \n",
    "elif (year - 1975) % 12 == 4:\n",
    "    sign = 'Goat'\n",
    "elif (year - 1975) % 12 == 5:\n",
    "    sign = 'Monkey'\n",
    "elif (year - 1975) % 12 == 6:\n",
    "    sign = 'Rooster'\n",
    "elif (year - 1975) % 12 == 7:\n",
    "    sign = 'Dog'\n",
    "elif (year - 1975) % 12 == 8:\n",
    "    sign = 'Pig'\n",
    "elif (year - 1975) % 12 == 8:\n",
    "    sign = 'Rat'\n",
    "elif (year - 1975) % 12 == 10:\n",
    "    sign = 'Ox'\n",
    "else:\n",
    "    sign = 'Tiger'\n",
    "\n",
    "print(\"Your Zodiac sign :\",sign)"
   ]
  },
  {
   "cell_type": "markdown",
   "metadata": {},
   "source": [
    "## 40. Write a Python program to find the median of three values.\n",
    "#### Expected Output:\n",
    "#### Input first number: 15\n",
    "#### Input second number: 26\n",
    "#### Input third number: 29\n",
    "#### The median is 26.0"
   ]
  },
  {
   "cell_type": "code",
   "execution_count": 42,
   "metadata": {},
   "outputs": [
    {
     "name": "stdout",
     "output_type": "stream",
     "text": [
      "Enter 1st no : 15\n",
      "Enter 2nd no : 26\n",
      "Enter 3rd no : 29\n",
      "The median is 26\n"
     ]
    }
   ],
   "source": [
    "a = int(input(\"Enter 1st no : \"))\n",
    "b = int(input(\"Enter 2nd no : \"))\n",
    "c = int(input(\"Enter 3rd no : \"))\n",
    "if a > b:\n",
    "    if a < c:\n",
    "        median = a\n",
    "    elif b > c:\n",
    "        median = b\n",
    "    else:\n",
    "        median = c\n",
    "else:\n",
    "    if a > c:\n",
    "        median = a\n",
    "    elif b < c:\n",
    "        median = b\n",
    "    else:\n",
    "        median = c\n",
    "\n",
    "print(\"The median is\", median)"
   ]
  },
  {
   "cell_type": "markdown",
   "metadata": {},
   "source": [
    "## 41. Write a Python program to get next day of a given date.\n",
    "### Expected Output:\n",
    "### Input a year: 2016\n",
    "### Input a month [1-12]: 08\n",
    "### Input a day [1-31]: 23\n",
    "### The next date is [yyyy-mm-dd] 2016-8-24"
   ]
  },
  {
   "cell_type": "code",
   "execution_count": 46,
   "metadata": {},
   "outputs": [
    {
     "name": "stdout",
     "output_type": "stream",
     "text": [
      "Input a year: 2016\n",
      "Input a month [1-12]: 12\n",
      "Input a day [1-31]: 16\n",
      "The next date is [yyyy-mm-dd] 2016-12-17.\n"
     ]
    }
   ],
   "source": [
    "year = int(input(\"Input a year: \"))\n",
    "\n",
    "if (year % 400 == 0):     #Check whether it is leap year\n",
    "    leap_year = True\n",
    "elif (year % 100 == 0):\n",
    "    leap_year = False\n",
    "elif (year % 4 == 0):\n",
    "    leap_year = True\n",
    "else:\n",
    "    leap_year = False\n",
    "\n",
    "month = int(input(\"Input a month [1-12]: \"))\n",
    "\n",
    "if month in (1, 3, 5, 7, 8, 10, 12):\n",
    "    month_length = 31\n",
    "elif month == 2:\n",
    "    if leap_year:\n",
    "        month_length = 29\n",
    "    else:\n",
    "        month_length = 28\n",
    "else:\n",
    "    month_length = 30\n",
    "\n",
    "\n",
    "day = int(input(\"Input a day [1-31]: \"))\n",
    "\n",
    "if day < month_length:\n",
    "    day += 1\n",
    "else:\n",
    "    day = 1\n",
    "    if month == 12:\n",
    "        month = 1\n",
    "        year += 1\n",
    "    else:\n",
    "        month += 1\n",
    "print(\"The next date is [yyyy-mm-dd] %d-%d-%d.\" % (year, month, day))"
   ]
  },
  {
   "cell_type": "markdown",
   "metadata": {},
   "source": [
    "## 42. Write a Python program to calculate the sum and average of n integer numbers\n",
    "#### (input from the user). Input 0 to finish."
   ]
  },
  {
   "cell_type": "code",
   "execution_count": 47,
   "metadata": {},
   "outputs": [
    {
     "name": "stdout",
     "output_type": "stream",
     "text": [
      "Enter no :2\n",
      "Enter no :3\n",
      "Enter no :4\n",
      "Enter no :0\n",
      "sum =  9 average =  3.0\n"
     ]
    }
   ],
   "source": [
    "sum=0\n",
    "i=0\n",
    "while True :\n",
    "    n = int(input(\"Enter no :\"))\n",
    "    if(n == 0) :\n",
    "        break\n",
    "    else :\n",
    "        sum += n\n",
    "        i += 1\n",
    "print(\"sum = \",sum,\"average = \",sum/i)"
   ]
  },
  {
   "cell_type": "markdown",
   "metadata": {},
   "source": [
    "## 43. Write a Python program to create the multiplication table (from 1 to 10) of a number.\n",
    "#### Expected Output:\n",
    "###### Input a number: 6\n",
    "###### 6 x 1 = 6\n",
    "###### 6 x 2 = 12\n",
    "###### 6 x 3 = 18\n",
    "###### 6 x 4 = 24\n",
    "###### 6 x 5 = 30\n",
    "###### 6 x 6 = 36\n",
    "###### 6 x 7 = 42\n",
    "###### 6 x 8 = 48\n",
    "###### 6 x 9 = 54\n",
    "###### 6 x 10 = 60"
   ]
  },
  {
   "cell_type": "code",
   "execution_count": 48,
   "metadata": {},
   "outputs": [
    {
     "name": "stdout",
     "output_type": "stream",
     "text": [
      "Enter a number : 6\n",
      "6 * 1 = 6\n",
      "6 * 2 = 12\n",
      "6 * 3 = 18\n",
      "6 * 4 = 24\n",
      "6 * 5 = 30\n",
      "6 * 6 = 36\n",
      "6 * 7 = 42\n",
      "6 * 8 = 48\n",
      "6 * 9 = 54\n",
      "6 * 10 = 60\n"
     ]
    }
   ],
   "source": [
    "n = int(input(\"Enter a number : \"))\n",
    "for i in range(1,11) :\n",
    "    print(n,\"*\",i,\"=\",n*i)"
   ]
  },
  {
   "cell_type": "markdown",
   "metadata": {},
   "source": [
    "### 44. Write a Python program to construct the following pattern, using a nested loop number. \n",
    "#### Expected Output:\n",
    "#### 1\n",
    "#### 22\n",
    "#### 333\n",
    "#### 4444\n",
    "#### 55555\n",
    "#### 666666\n",
    "#### 7777777\n",
    "#### 88888888\n",
    "#### 999999999"
   ]
  },
  {
   "cell_type": "code",
   "execution_count": 58,
   "metadata": {},
   "outputs": [
    {
     "name": "stdout",
     "output_type": "stream",
     "text": [
      "1\n",
      "\n",
      "22\n",
      "\n",
      "333\n",
      "\n",
      "4444\n",
      "\n",
      "55555\n",
      "\n",
      "666666\n",
      "\n",
      "7777777\n",
      "\n",
      "88888888\n",
      "\n",
      "999999999\n",
      "\n"
     ]
    }
   ],
   "source": [
    "for i in range(1,10) :\n",
    "    for j in range (1,(i*1)+1) :\n",
    "        print(i,end = \"\")\n",
    "    print(\"\\n\")\n",
    "    "
   ]
  },
  {
   "cell_type": "code",
   "execution_count": 54,
   "metadata": {},
   "outputs": [
    {
     "name": "stdout",
     "output_type": "stream",
     "text": [
      "\n",
      "1\n",
      "22\n",
      "333\n",
      "4444\n",
      "55555\n",
      "666666\n",
      "7777777\n",
      "88888888\n",
      "999999999\n"
     ]
    }
   ],
   "source": [
    "for i in range(10):\n",
    "    print(str(i) * i)"
   ]
  },
  {
   "cell_type": "code",
   "execution_count": 65,
   "metadata": {},
   "outputs": [
    {
     "name": "stdout",
     "output_type": "stream",
     "text": [
      "1\n",
      "22\n",
      "333\n",
      "4444\n",
      "55555\n",
      "666666\n",
      "7777777\n",
      "88888888\n",
      "999999999\n"
     ]
    }
   ],
   "source": [
    "for i in range(1,10) :\n",
    "    print(i*(((pow(10,i)-1) // 9)))"
   ]
  },
  {
   "cell_type": "code",
   "execution_count": null,
   "metadata": {},
   "outputs": [],
   "source": []
  }
 ],
 "metadata": {
  "kernelspec": {
   "display_name": "Python 3",
   "language": "python",
   "name": "python3"
  },
  "language_info": {
   "codemirror_mode": {
    "name": "ipython",
    "version": 3
   },
   "file_extension": ".py",
   "mimetype": "text/x-python",
   "name": "python",
   "nbconvert_exporter": "python",
   "pygments_lexer": "ipython3",
   "version": "3.7.6"
  }
 },
 "nbformat": 4,
 "nbformat_minor": 4
}
