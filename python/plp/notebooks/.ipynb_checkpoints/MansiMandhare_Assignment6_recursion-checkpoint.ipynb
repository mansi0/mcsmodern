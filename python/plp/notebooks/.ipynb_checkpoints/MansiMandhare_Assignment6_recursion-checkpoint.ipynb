{
 "cells": [
  {
   "cell_type": "markdown",
   "metadata": {},
   "source": [
    "## 1. Python Program to Determine Whether a Given Number is Even or Odd Recursively\n",
    "\n",
    "\n",
    "\n",
    "\n",
    "\n",
    "\n",
    "\n",
    "\n",
    "\n",
    "\n",
    "\n",
    "\n",
    "\n",
    "\n",
    "\n",
    "\n",
    "\n",
    "\n",
    "\n",
    "\n",
    "\n"
   ]
  },
  {
   "cell_type": "code",
   "execution_count": 1,
   "metadata": {},
   "outputs": [
    {
     "name": "stdout",
     "output_type": "stream",
     "text": [
      "Enter number:3\n",
      "Number is odd!\n"
     ]
    }
   ],
   "source": [
    "def check(n):\n",
    "    if (n < 2):\n",
    "        return (n % 2 == 0)\n",
    "    return (check(n - 2))\n",
    "n=int(input(\"Enter number:\"))\n",
    "if(check(n)==True):\n",
    "      print(\"Number is even!\")\n",
    "else:\n",
    "      print(\"Number is odd!\")"
   ]
  },
  {
   "cell_type": "markdown",
   "metadata": {},
   "source": [
    "## 2. Python Program to Determine How Many Times a Given Letter Occurs in a String Recursively"
   ]
  },
  {
   "cell_type": "code",
   "execution_count": 3,
   "metadata": {},
   "outputs": [
    {
     "name": "stdout",
     "output_type": "stream",
     "text": [
      "Enter string:manasi\n",
      "Enter character to check:a\n",
      "Count is:\n",
      "2\n"
     ]
    }
   ],
   "source": [
    "def check(string,ch):\n",
    "      if not string:\n",
    "        return 0\n",
    "      elif string[0]==ch:\n",
    "            return 1+check(string[1:],ch)\n",
    "      else:\n",
    "            return check(string[1:],ch)\n",
    "string=input(\"Enter string:\")\n",
    "ch=input(\"Enter character to check:\")\n",
    "print(\"Count is:\")\n",
    "print(check(string,ch))"
   ]
  },
  {
   "cell_type": "markdown",
   "metadata": {},
   "source": [
    "## 3. Python Program to Find the Fibonacci Series Using Recursion"
   ]
  },
  {
   "cell_type": "code",
   "execution_count": 4,
   "metadata": {},
   "outputs": [
    {
     "name": "stdout",
     "output_type": "stream",
     "text": [
      "Fibonacci sequence:\n",
      "0\n",
      "1\n",
      "1\n",
      "2\n",
      "3\n",
      "5\n",
      "8\n",
      "13\n",
      "21\n",
      "34\n"
     ]
    }
   ],
   "source": [
    "def recur_fibo(n):\n",
    "   if n <= 1:\n",
    "       return n\n",
    "   else:\n",
    "       return(recur_fibo(n-1) + recur_fibo(n-2))\n",
    "\n",
    "nterms = 10\n",
    "\n",
    "# check if the number of terms is valid\n",
    "if nterms <= 0:\n",
    "   print(\"Plese enter a positive integer\")\n",
    "else:\n",
    "   print(\"Fibonacci sequence:\")\n",
    "   for i in range(nterms):\n",
    "       print(recur_fibo(i))"
   ]
  },
  {
   "cell_type": "markdown",
   "metadata": {},
   "source": [
    "## 4. Python Program to Find the Factorial of a Number Using Recursion"
   ]
  },
  {
   "cell_type": "code",
   "execution_count": 6,
   "metadata": {},
   "outputs": [
    {
     "name": "stdout",
     "output_type": "stream",
     "text": [
      "Enter no: 7\n",
      "The factorial of 7 is 5040\n"
     ]
    }
   ],
   "source": [
    "def recur_factorial(n):\n",
    "   if n == 1:\n",
    "       return n\n",
    "   else:\n",
    "       return n*recur_factorial(n-1)\n",
    "\n",
    "num = int(input(\"Enter no: \"))\n",
    "\n",
    "# check if the number is negative\n",
    "if num < 0:\n",
    "   print(\"Sorry, factorial does not exist for negative numbers\")\n",
    "elif num == 0:\n",
    "   print(\"The factorial of 0 is 1\")\n",
    "else:\n",
    "   print(\"The factorial of\", num, \"is\", recur_factorial(num))"
   ]
  },
  {
   "cell_type": "markdown",
   "metadata": {},
   "source": [
    "## 5. Python Program to Find the Sum of Elements in a List Recursively"
   ]
  },
  {
   "cell_type": "code",
   "execution_count": 7,
   "metadata": {},
   "outputs": [
    {
     "name": "stdout",
     "output_type": "stream",
     "text": [
      "Enter the number of elements for list:7\n",
      "Enter element:1\n",
      "Enter element:2\n",
      "Enter element:3\n",
      "Enter element:4\n",
      "Enter element:5\n",
      "Enter element:6\n",
      "Enter element:7\n",
      "The list is:\n",
      "[1, 2, 3, 4, 5, 6, 7]\n",
      "Sum of items in list:\n"
     ]
    }
   ],
   "source": [
    "def sum_arr(arr,size):\n",
    "   if (size == 0):\n",
    "     return 0\n",
    "   else:\n",
    "     return arr[size-1] + sum_arr(arr,size-1)\n",
    "n=int(input(\"Enter the number of elements for list:\"))\n",
    "a=[]\n",
    "for i in range(0,n):\n",
    "    element=int(input(\"Enter element:\"))\n",
    "    a.append(element)\n",
    "print(\"The list is:\")\n",
    "print(a)\n",
    "print(\"Sum of items in list:\")"
   ]
  },
  {
   "cell_type": "markdown",
   "metadata": {},
   "source": [
    "## 6. Python Program to Find the Binary Equivalent of a Number Recursively"
   ]
  },
  {
   "cell_type": "code",
   "execution_count": 9,
   "metadata": {},
   "outputs": [
    {
     "name": "stdout",
     "output_type": "stream",
     "text": [
      "Enter a number: 4\n",
      "Binary equivalent:\n",
      "1\n",
      "0\n",
      "0\n"
     ]
    }
   ],
   "source": [
    "l=[]\n",
    "def convert(b):\n",
    "    if(b==0):\n",
    "        return l\n",
    "    dig=b%2\n",
    "    l.append(dig)\n",
    "    convert(b//2)\n",
    "a=int(input(\"Enter a number: \"))\n",
    "convert(a)\n",
    "l.reverse()\n",
    "print(\"Binary equivalent:\")\n",
    "for i in l:\n",
    "    print(i)"
   ]
  },
  {
   "cell_type": "markdown",
   "metadata": {},
   "source": [
    "## 7. Python Program to Find the Sum of the Digits of the Number Recursively"
   ]
  },
  {
   "cell_type": "code",
   "execution_count": 10,
   "metadata": {},
   "outputs": [
    {
     "name": "stdout",
     "output_type": "stream",
     "text": [
      "Enter a number: 123\n",
      "6\n"
     ]
    }
   ],
   "source": [
    "l=[]\n",
    "def sum_digits(b):\n",
    "    if(b==0):\n",
    "        return l\n",
    "    dig=b%10\n",
    "    l.append(dig)\n",
    "    sum_digits(b//10)\n",
    "n=int(input(\"Enter a number: \"))\n",
    "sum_digits(n)\n",
    "print(sum(l))"
   ]
  },
  {
   "cell_type": "markdown",
   "metadata": {},
   "source": [
    "## 8. Python Program to Find the LCM of Two Numbers Using Recursion"
   ]
  },
  {
   "cell_type": "code",
   "execution_count": 13,
   "metadata": {},
   "outputs": [
    {
     "name": "stdout",
     "output_type": "stream",
     "text": [
      "Enter first number:40\n",
      "Enter second number:20\n",
      "40\n"
     ]
    }
   ],
   "source": [
    "def lcm(a,b):\n",
    "    lcm.multiple=lcm.multiple+b\n",
    "    if((lcm.multiple % a == 0) and (lcm.multiple % b == 0)):\n",
    "        return lcm.multiple;\n",
    "    else:\n",
    "        lcm(a, b)\n",
    "    return lcm.multiple\n",
    "lcm.multiple=0\n",
    "a=int(input(\"Enter first number:\"))\n",
    "b=int(input(\"Enter second number:\"))\n",
    "if(a>b):\n",
    "    LCM=lcm(b,a)\n",
    "else:\n",
    "    LCM=lcm(a,b)\n",
    "print(LCM)"
   ]
  },
  {
   "cell_type": "markdown",
   "metadata": {},
   "source": [
    "## 9. Python Program to Find the GCD of Two Numbers Using Recursion"
   ]
  },
  {
   "cell_type": "code",
   "execution_count": 14,
   "metadata": {},
   "outputs": [
    {
     "name": "stdout",
     "output_type": "stream",
     "text": [
      "Enter first number:3\n",
      "Enter second number:6\n",
      "GCD is: \n",
      "3\n"
     ]
    }
   ],
   "source": [
    "def gcd(a,b):\n",
    "    if(b==0):\n",
    "        return a\n",
    "    else:\n",
    "        return gcd(b,a%b)\n",
    "a=int(input(\"Enter first number:\"))\n",
    "b=int(input(\"Enter second number:\"))\n",
    "GCD=gcd(a,b)\n",
    "print(\"GCD is: \")\n",
    "print(GCD)"
   ]
  },
  {
   "cell_type": "markdown",
   "metadata": {},
   "source": [
    "## 10.Python Program to Find if a Number is Prime or Not Prime Using Recursion"
   ]
  },
  {
   "cell_type": "code",
   "execution_count": 16,
   "metadata": {},
   "outputs": [
    {
     "name": "stdout",
     "output_type": "stream",
     "text": [
      "Enter number: 4\n",
      "Number not prime\n"
     ]
    },
    {
     "data": {
      "text/plain": [
       "False"
      ]
     },
     "execution_count": 16,
     "metadata": {},
     "output_type": "execute_result"
    }
   ],
   "source": [
    "def check(n, div = None):\n",
    "    if div is None:\n",
    "        div = n - 1\n",
    "    while div >= 2:\n",
    "        if n % div == 0:\n",
    "            print(\"Number not prime\")\n",
    "            return False\n",
    "        else:\n",
    "            return check(n, div-1)\n",
    "    else:\n",
    "        print(\"Number is prime\")\n",
    "        return 'True'\n",
    "n=int(input(\"Enter number: \"))\n",
    "check(n)"
   ]
  },
  {
   "cell_type": "markdown",
   "metadata": {},
   "source": [
    "## 11.Python Program to Find the Product of two Numbers Using Recursion"
   ]
  },
  {
   "cell_type": "code",
   "execution_count": 17,
   "metadata": {},
   "outputs": [
    {
     "name": "stdout",
     "output_type": "stream",
     "text": [
      "Enter first number: 20\n",
      "Enter second number: 2\n",
      "product is:  40\n"
     ]
    }
   ],
   "source": [
    "def product(num1,num2):\n",
    "    if(num1<num2):\n",
    "        return product(num2,num1)\n",
    "    elif(num2!=0):\n",
    "         return(num1+product(num1,num2-1))\n",
    "    else:\n",
    "         return 0\n",
    "num1=int(input(\"Enter first number: \"))\n",
    "num2=int(input(\"Enter second number: \"))\n",
    "print(\"product is: \",product(num1,num2))"
   ]
  },
  {
   "cell_type": "markdown",
   "metadata": {},
   "source": [
    "## 12.Python Program to Find the Power of a Number Using Recursion\n",
    "\n"
   ]
  },
  {
   "cell_type": "code",
   "execution_count": 19,
   "metadata": {},
   "outputs": [
    {
     "name": "stdout",
     "output_type": "stream",
     "text": [
      "Enter base: 2\n",
      "Enter exponential value: 3\n",
      "Result: 8\n"
     ]
    }
   ],
   "source": [
    "def power(base,exp):\n",
    "    if(exp==1):\n",
    "        return(base)\n",
    "    if(exp!=1):\n",
    "        return(base*power(base,exp-1))\n",
    "base=int(input(\"Enter base: \"))\n",
    "exp=int(input(\"Enter exponential value: \"))\n",
    "print(\"Result:\",power(base,exp))"
   ]
  },
  {
   "cell_type": "markdown",
   "metadata": {},
   "source": [
    "## 13.Python Program to Check Whether a String is a Palindrome or not Using Recursion\n"
   ]
  },
  {
   "cell_type": "code",
   "execution_count": 20,
   "metadata": {},
   "outputs": [
    {
     "name": "stdout",
     "output_type": "stream",
     "text": [
      "Enter string:madam\n",
      "String is a palindrome!\n"
     ]
    }
   ],
   "source": [
    "def is_palindrome(s):\n",
    "    if len(s) < 1:\n",
    "        return True\n",
    "    else:\n",
    "        if s[0] == s[-1]:\n",
    "            return is_palindrome(s[1:-1])\n",
    "        else:\n",
    "            return False\n",
    "a=str(input(\"Enter string:\"))\n",
    "if(is_palindrome(a)==True):\n",
    "    print(\"String is a palindrome!\")\n",
    "else:\n",
    "    print(\"String isn't a palindrome!\")"
   ]
  },
  {
   "cell_type": "markdown",
   "metadata": {},
   "source": [
    "##  14.Python Program to Reverse a String Using Recursion\n",
    "\n"
   ]
  },
  {
   "cell_type": "code",
   "execution_count": 21,
   "metadata": {},
   "outputs": [
    {
     "name": "stdout",
     "output_type": "stream",
     "text": [
      "Enter the string to be reversed: mansi\n",
      "isnam\n"
     ]
    }
   ],
   "source": [
    "def reverse(string):\n",
    "    if len(string) == 0:\n",
    "        return string\n",
    "    else:\n",
    "        return reverse(string[1:]) + string[0]\n",
    "a = str(input(\"Enter the string to be reversed: \"))\n",
    "print(reverse(a))"
   ]
  },
  {
   "cell_type": "markdown",
   "metadata": {},
   "source": [
    "## 15.Python Program to Flatten a Nested List using Recursion\n",
    "\n"
   ]
  },
  {
   "cell_type": "code",
   "execution_count": 22,
   "metadata": {},
   "outputs": [
    {
     "name": "stdout",
     "output_type": "stream",
     "text": [
      "Flattened list is:  [1, 2, 3, 4]\n"
     ]
    }
   ],
   "source": [
    "def flatten(S):\n",
    "    if S == []:\n",
    "        return S\n",
    "    if isinstance(S[0], list):\n",
    "        return flatten(S[0]) + flatten(S[1:])\n",
    "    return S[:1] + flatten(S[1:])\n",
    "s=[[1,2],[3,4]]\n",
    "print(\"Flattened list is: \",flatten(s))"
   ]
  },
  {
   "cell_type": "markdown",
   "metadata": {},
   "source": [
    "## 16.Python Program to Find the Total Sum of a Nested List Using Recursion\n",
    "\n"
   ]
  },
  {
   "cell_type": "code",
   "execution_count": 23,
   "metadata": {},
   "outputs": [
    {
     "name": "stdout",
     "output_type": "stream",
     "text": [
      "Sum is: 10\n"
     ]
    }
   ],
   "source": [
    "def sum1(lst):\n",
    "    total = 0\n",
    "    for element in lst:\n",
    "        if (type(element) == type([])):\n",
    "            total = total + sum1(element)\n",
    "        else:\n",
    "            total = total + element\n",
    "    return total\n",
    "print( \"Sum is:\",sum1([[1,2],[3,4]]))"
   ]
  },
  {
   "cell_type": "markdown",
   "metadata": {},
   "source": [
    "## 17.Python Program to Find the Length of a List Using Recursion"
   ]
  },
  {
   "cell_type": "code",
   "execution_count": 24,
   "metadata": {},
   "outputs": [
    {
     "name": "stdout",
     "output_type": "stream",
     "text": [
      "Length of the string is: \n",
      "[1, 2, 3]\n"
     ]
    }
   ],
   "source": [
    "def length(lst):\n",
    "    if not lst:\n",
    "        return 0\n",
    "    return 1 + length(lst[1::2]) + length(lst[2::2])\n",
    "a=[1,2,3]\n",
    "print(\"Length of the string is: \")\n",
    "print(a)"
   ]
  },
  {
   "cell_type": "code",
   "execution_count": null,
   "metadata": {},
   "outputs": [],
   "source": []
  }
 ],
 "metadata": {
  "kernelspec": {
   "display_name": "Python 3",
   "language": "python",
   "name": "python3"
  },
  "language_info": {
   "codemirror_mode": {
    "name": "ipython",
    "version": 3
   },
   "file_extension": ".py",
   "mimetype": "text/x-python",
   "name": "python",
   "nbconvert_exporter": "python",
   "pygments_lexer": "ipython3",
   "version": "3.7.6"
  }
 },
 "nbformat": 4,
 "nbformat_minor": 4
}
