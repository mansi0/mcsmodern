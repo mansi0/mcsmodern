{
 "cells": [
  {
   "cell_type": "markdown",
   "metadata": {},
   "source": [
    "## 9. New Year Chaos\n"
   ]
  },
  {
   "cell_type": "code",
   "execution_count": 2,
   "metadata": {},
   "outputs": [
    {
     "name": "stdout",
     "output_type": "stream",
     "text": [
      "Enter the no of test cases :\n",
      "2\n",
      "Enter the no of elements :\n",
      "5\n",
      "Enter Elements :\n",
      "2 1 5 3 4\n",
      "count : 3\n",
      "Enter the no of elements :\n",
      "5\n",
      "Enter Elements :\n",
      "2 5 1 3 4\n",
      "Too chaotic\n"
     ]
    }
   ],
   "source": [
    "def minimumBribes(q) :\n",
    "    counter = 0\n",
    "    for i in range(len(q)) :\n",
    "        if q[i]-(i+1) > 2 :\n",
    "            print(\"Too chaotic\")\n",
    "            return\n",
    "        \n",
    "        for j in range(max(0,q[i]-2),i) :\n",
    "            if q[j]>q[i] :\n",
    "                counter += 1\n",
    "    print(\"count :\",counter)\n",
    "if __name__ == '__main__' :\n",
    "    print(\"Enter the no of test cases :\")\n",
    "    t = int(input())\n",
    "    \n",
    "    for t_itr in range(t) :\n",
    "        print(\"Enter the no of elements :\")\n",
    "        n = int(input())\n",
    "        \n",
    "        print(\"Enter Elements :\")\n",
    "        q = list(map(int,input().rstrip().split()))\n",
    "        minimumBribes(q)"
   ]
  },
  {
   "cell_type": "markdown",
   "metadata": {},
   "source": [
    "# 8.Repeated String\n",
    "### Lilah has a string, s, of lowercase English letters that she repeated infinitely many times.\n",
    "### Given an integer, n, find and print the number of letter a's in the first n letters of Lilah's infinite string.\n",
    "### Input Format\n",
    "### The first line contains a single string, s.\n",
    "### The second line contains an integer, n.\n",
    "### Constraints\n",
    "### 1 ≤ | s | ≤ 100\n",
    "### 1 ≤ n ≤ 10^2\n",
    "### For 25% of the test cases, n ≤ 10^6.\n",
    "### Output Format\n",
    "### Print a single integer denoting the number of letter a's in the first n letters of the infinite string created by\n",
    "### repeating s infinitely many times.\n",
    "### Sample Input 0\n",
    "### aba\n",
    "### 10\n",
    "### Sample Output 0\n",
    "### 7\n",
    "### Explanation 0\n",
    "### The first n=0 letters of the infinite string are abaabaabaa . Because there are 7 a's, we print 7 on a\n",
    "### new line.\n",
    "### Sample Input 1\n",
    "### a\n",
    "### 1000000000000\n",
    "### Sample Output 1\n",
    "### 1000000000000\n",
    "### Explanation 1\n",
    "### Because all of the first n=1000000000000 letters of the infinite string are a , we print 1000000000000\n",
    "### on a new line"
   ]
  },
  {
   "cell_type": "code",
   "execution_count": 1,
   "metadata": {},
   "outputs": [
    {
     "name": "stdout",
     "output_type": "stream",
     "text": [
      "Enter String : aba\n",
      "Enter n : 10\n",
      "\n",
      "Occurance of 'a' = 7 times\n"
     ]
    }
   ],
   "source": [
    "import sys\n",
    "s = input(\"Enter String : \")\n",
    "\n",
    "if len(s) < 1 and len(s) >100 :\n",
    "    print(\"Length of string must be in range of 1-100\")\n",
    "    sys.exit(-1)\n",
    "\n",
    "n = int(input(\"Enter n : \"))\n",
    "if n<1 and n>10**12:\n",
    "    print(\"Value of n must be in range of 1-10^12\")\n",
    "    sys.exit(-1)    \n",
    "\n",
    "cnt = i = 0\n",
    "str1 = \"\"\n",
    "if len(s) == 1:\n",
    "    if s[0]=='a':\n",
    "        cnt = n\n",
    "    else:\n",
    "        cnt = 0\n",
    "else:\n",
    "    while(True):\n",
    "        if len(str1) == n:\n",
    "            break\n",
    "        str1 += s[i]\n",
    "        \n",
    "        if s[i] == 'a':\n",
    "            cnt += 1\n",
    "        i+=1\n",
    "        if i == len(s):\n",
    "            i = 0\n",
    "\n",
    "print(\"\\nOccurance of 'a' =\",cnt,\"times\")      "
   ]
  },
  {
   "cell_type": "markdown",
   "metadata": {},
   "source": [
    "## 7.Mark and Toys\n",
    "#### Input Format\n",
    "#### The first line contains two integers, n and ,k the number of priced toys and the amount Mark has tospend. The next line contains  space-separated integers prices[i]\n",
    "#### Output Format\n",
    "#### An integer that denotes the maximum number of toys Mark can buy for his son.\n",
    "#### Sample Input7 50\n",
    "#### 1 12 5 111 200 1000 10\n",
    "#### Sample Output\n",
    "#### 4\n",
    "#### Explanation\n",
    "#### He can buy only  toys at most. These toys have the following prices: .1 12 5 10"
   ]
  },
  {
   "cell_type": "code",
   "execution_count": 3,
   "metadata": {},
   "outputs": [
    {
     "name": "stdout",
     "output_type": "stream",
     "text": [
      "Enter number of priced toys :7\n",
      "Enter the amount Mark has to spend :50\n",
      "space-separated integers prices[i] :1 12 5 111 200 1000 10\n",
      "4\n"
     ]
    }
   ],
   "source": [
    "def maximumToys(prices,k) :\n",
    "    prices.sort()\n",
    "    sum = 0\n",
    "    count = 0\n",
    "    for i in prices :\n",
    "        sum += i\n",
    "        if sum < k :\n",
    "            count += 1\n",
    "        else :\n",
    "            return count\n",
    "    \n",
    "\n",
    "n = int(input(\"Enter number of priced toys :\"))\n",
    "k = int(input(\"Enter the amount Mark has to spend :\"))\n",
    "prices_string= input(\"space-separated integers prices[i] :\")\n",
    "prices = [int(i) for i in prices_string.split(\" \")]\n",
    "print(maximumToys(prices,k))"
   ]
  },
  {
   "cell_type": "markdown",
   "metadata": {},
   "source": [
    "### 6.Diagonal Difference\n",
    "#### Given a square matrix of size , calculate the absolute difference between the sums of itsdiagonals."
   ]
  },
  {
   "cell_type": "code",
   "execution_count": 18,
   "metadata": {},
   "outputs": [
    {
     "name": "stdout",
     "output_type": "stream",
     "text": [
      "Enter size of matrix : 3\n",
      "Enter the entries rowwise:\n",
      "11\n",
      "2\n",
      "4\n",
      "4\n",
      "5\n",
      "6\n",
      "10\n",
      "8\n",
      "-12\n",
      "Difference = 15\n"
     ]
    }
   ],
   "source": [
    "n = int(input(\"Enter size of matrix : \"))\n",
    "# Initialize matrix \n",
    "matrix = [] \n",
    "print(\"Enter the entries rowwise:\") \n",
    "  \n",
    "# For user input \n",
    "for i in range(n):          \n",
    "    a =[] \n",
    "    for j in range(n):      \n",
    "         a.append(int(input())) \n",
    "    matrix.append(a) \n",
    "\n",
    "primary_diagonal_sum = 0\n",
    "for i in range(n) :\n",
    "    primary_diagonal_sum += matrix[i][i]\n",
    "    \n",
    "secondary_diagonal_sum = 0\n",
    "for i in range(n) :\n",
    "    secondary_diagonal_sum += matrix[i][n-(i+1)]\n",
    "    \n",
    "print(\"Difference =\",abs(primary_diagonal_sum-secondary_diagonal_sum))"
   ]
  },
  {
   "cell_type": "markdown",
   "metadata": {},
   "source": [
    "## 5.BirthdayCakeCandles\n",
    "#### You are in charge of the cake for a child's birthday. You have decided the cake will have one candle for each year oftheir total age. They will only be able to blow out the tallest of the candles. Count how many candles are tallest.\n",
    "#### Example\n",
    "#### candles = [4,4,1,3]\n",
    "#### The maximum height candles are 4 units high. There are 2 of them, so return 2.\n",
    "\n",
    "#### FunctionDescription\n",
    "#### Complete the function birthdayCakeCandles in the editor below.birthdayCakeCandles has the following parameter(s):\n",
    "#### intcandles[n]: the candle heights\n",
    "#### Returns int: the number of candles that are tallest"
   ]
  },
  {
   "cell_type": "code",
   "execution_count": 9,
   "metadata": {},
   "outputs": [
    {
     "name": "stdout",
     "output_type": "stream",
     "text": [
      "Enter no of candles:5\n",
      "Enter height of candles in space separated format:4 3 2 4 5\n",
      "1\n"
     ]
    }
   ],
   "source": [
    "def birthdayCakeCandles(n,candles) :\n",
    "    max_height=0\n",
    "    for i in candles :\n",
    "        if i > max_height :                  #Find out the maximum height from all candles\n",
    "            max_height = i\n",
    "    \n",
    "    count = candles.count(max_height)        # Count the candles having maximum height\n",
    "    print(count)    \n",
    "\n",
    "    \n",
    "n = int(input(\"Enter no of candles:\"))\n",
    "candles_s = input(\"Enter height of candles in space separated format:\")\n",
    "candles = [int(i) for i in candles_s.split(\" \")]    #convert space separated string into list of integers\n",
    "birthdayCakeCandles(n,candles)"
   ]
  },
  {
   "cell_type": "markdown",
   "metadata": {},
   "source": [
    "## 4.Staircase"
   ]
  },
  {
   "cell_type": "code",
   "execution_count": 21,
   "metadata": {},
   "outputs": [
    {
     "name": "stdout",
     "output_type": "stream",
     "text": [
      "Enter no of steps:6\n",
      "     #\n",
      "    ##\n",
      "   ###\n",
      "  ####\n",
      " #####\n",
      "######\n"
     ]
    }
   ],
   "source": [
    "def staircase(num_stairs):\n",
    "    for stairs in range(1, num_stairs+1):\n",
    "        print(' ' * (num_stairs - stairs) + '#' * stairs)\n",
    "n = int(input(\"Enter no of steps:\"))\n",
    "staircase(n)"
   ]
  },
  {
   "cell_type": "markdown",
   "metadata": {},
   "source": [
    "## 3.Compare the Triplets\n",
    "Alice and Bob each created one problem for HackerRank. A reviewer rates the two challenges, awardingpoints on a scale from  to  for three categories: problem clarity, originality, and difficulty.We define the rating for Alice's challenge to be the triplet , and the rating for Bob'schallenge to be the triplet .Your task is to find their comparison points by comparing  with ,  with , and  with .If , then Alice is awarded  point.If , then Bob is awarded  point.If , then neither person receives a point.Comparison points is the total points a person earned.Given  and , determine their respective comparison points.For example,  and . For elements , Bob is awarded a point because .For the equal elements  and , no points are earned. Finally, for elements ,  so Alicereceives a point. Your return array would be  with Alice's score first and Bob's second.Function DescriptionComplete the function compareTriplets in the editor below. It must return an array of two integers, thefirst being Alice's score and the second being Bob's.compareTriplets has the following parameter(s):a: an array of integers representing Alice's challenge ratingb: an array of integers representing Bob's challenge ratingInput FormatThe first line contains  space-separated integers, , , and , describing the respective values intriplet . The second line contains  space-separated integers, , , and , describing the respective valuesin triplet .ConstraintsOutput FormatReturn an array of two integers denoting the respective comparison points earned by Alice and Bob.Sample \n",
    "\n",
    "Input 5 6 7\n",
    "    3 6 10\n",
    "Sample Output 01 1"
   ]
  },
  {
   "cell_type": "code",
   "execution_count": 18,
   "metadata": {},
   "outputs": [
    {
     "name": "stdout",
     "output_type": "stream",
     "text": [
      "Enter 3 integers separated by space :5 6 7\n",
      "Enter 3 integers separated by space :3 6 10\n",
      "1   1\n"
     ]
    }
   ],
   "source": [
    "def compareTriplets(a,b) :\n",
    "    alice , bob = 0 , 0\n",
    "    for i in range(0,3) :\n",
    "        if a[i] > b[i] :\n",
    "            alice += 1\n",
    "        if a[i] < b[i] :\n",
    "            bob += 1\n",
    "    print(alice,\" \", bob)\n",
    "    \n",
    "    \n",
    "a = input(\"Enter 3 integers separated by space :\")\n",
    "b = input(\"Enter 3 integers separated by space :\")\n",
    "a_list = [int(i) for i in a.split(\" \") if int(i) >=1 and int(i) <=100 ]  # converting string into list and adding constraints \n",
    "b_list = [int(i) for i in b.split(\" \") if int(i) >=1 and int(i) <=100 ]\n",
    "compareTriplets(a_list,b_list)\n"
   ]
  },
  {
   "cell_type": "markdown",
   "metadata": {},
   "source": [
    "# 2.Counting Valleys\n",
    "Gary is an avid hiker. He tracks his hikes meticulously, paying close attention to small details liketopography. During his last hike, he took exactly  steps. For every step he took, he noted if it was an uphillor a downhill step. Gary's hikes start and end at sea level. We define the following terms:A mountain is a non-empty sequence of consecutive steps above sea level, starting with a step up fromsea level and ending with a step down to sea level.A valley is a non-empty sequence of consecutive steps below sea level, starting with a step down fromsea level and ending with a step up to sea level.Given Gary's sequence of up and down steps during his last hike, find and print the number of valleys hewalked through.\n",
    "\n",
    "Input Format\n",
    "The first line contains an integer, , denoting the number of steps in Gary's hike. The second line contains a single string of  characters. Each character is  (where U indicates astep up and D indicates a step down), and the  character in the string describes Gary's  step during thehike.ConstraintsOutput FormatPrint a single integer denoting the number of valleys Gary walked through during his hike.\n",
    "\n",
    "Sample Input\n",
    "8\n",
    "UDDDUDUU\n",
    "\n",
    "Sample Output\n",
    "1"
   ]
  },
  {
   "cell_type": "code",
   "execution_count": 1,
   "metadata": {},
   "outputs": [
    {
     "name": "stdout",
     "output_type": "stream",
     "text": [
      "Enter no of steps in Gary's hike :4\n",
      "Enter Gary's steps during hike(U=up,D= down) :UUDD\n",
      "Number of Valleys Gary walked through during his hike : 0\n"
     ]
    }
   ],
   "source": [
    "n=int(input(\"Enter no of steps in Gary's hike :\"))\n",
    "steps = input(\"Enter Gary's steps during hike(U=up,D= down) :\")\n",
    "count_step = 0\n",
    "count_valley = 0\n",
    "for i in steps :\n",
    "    if i == 'U' :\n",
    "        count_step += 1\n",
    "        if(count_step == 0) :\n",
    "            count_valley += 1\n",
    "    elif i == 'D' :\n",
    "        count_step -= 1\n",
    "        \n",
    "print(\"Number of Valleys Gary walked through during his hike :\",count_valley)\n",
    "    "
   ]
  },
  {
   "cell_type": "markdown",
   "metadata": {},
   "source": [
    "## 1.Alex works at a clothing store. There is a large pile of socks that must be paired by color for sale. Given an array of integers representing the color of each sock, determine how many pairs of socks with matching colors there are.\n",
    "\n",
    "For example, there are  socks with colors . There is one pair of color  and one of color . There are three odd socks left, one of each color. The number of pairs is .\n",
    "\n",
    "Function Description\n",
    "\n",
    "Complete the sockMerchant function in the editor below. It must return an integer representing the number of matching pairs of socks that are available.\n",
    "\n",
    "sockMerchant has the following parameter(s):\n",
    "\n",
    "n: the number of socks in the pile\n",
    "ar: the colors of each sock\n",
    "Input Format\n",
    "\n",
    "The first line contains an integer , the number of socks represented in .\n",
    "The second line contains  space-separated integers describing the colors  of the socks in the pile.\n",
    "\n",
    "Constraints\n",
    "\n",
    " where \n",
    "Output Format\n",
    "\n",
    "Return the total number of matching pairs of socks that Alex can sell.\n",
    "\n",
    "Sample Input\n",
    "\n",
    "9\n",
    "10 20 20 10 10 30 50 10 20\n",
    "Sample Output\n",
    "\n",
    "3"
   ]
  },
  {
   "cell_type": "code",
   "execution_count": 25,
   "metadata": {},
   "outputs": [
    {
     "name": "stdout",
     "output_type": "stream",
     "text": [
      "Enter colors of socks in format space separated integers10 20 20 10 10 30 50 10 20\n",
      "3\n"
     ]
    }
   ],
   "source": [
    "def sockMerchant(socks) :\n",
    "    ar = []\n",
    "    count = 0\n",
    "    for i in socks :\n",
    "        if i not in ar :\n",
    "            ar.append(i)\n",
    "        else :\n",
    "            count += 1\n",
    "            ar.remove(i)\n",
    "            \n",
    "    return count\n",
    "            \n",
    "s = input(\"Enter colors of socks in format space separated integers\")\n",
    "socks = s.split(' ')                       # Convert the string into list\n",
    "socks = [int(i) for i in socks]            # Typecast all elements into int\n",
    "print(sockMerchant(socks))                 # Call function\n"
   ]
  },
  {
   "cell_type": "code",
   "execution_count": null,
   "metadata": {},
   "outputs": [],
   "source": []
  }
 ],
 "metadata": {
  "kernelspec": {
   "display_name": "Python 3",
   "language": "python",
   "name": "python3"
  },
  "language_info": {
   "codemirror_mode": {
    "name": "ipython",
    "version": 3
   },
   "file_extension": ".py",
   "mimetype": "text/x-python",
   "name": "python",
   "nbconvert_exporter": "python",
   "pygments_lexer": "ipython3",
   "version": "3.7.6"
  }
 },
 "nbformat": 4,
 "nbformat_minor": 4
}
