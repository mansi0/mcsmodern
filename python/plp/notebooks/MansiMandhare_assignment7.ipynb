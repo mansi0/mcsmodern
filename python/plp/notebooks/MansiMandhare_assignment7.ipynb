{
 "cells": [
  {
   "cell_type": "markdown",
   "metadata": {},
   "source": [
    "## 1. Write a program GetGA.py that uses the GettheAddresses.txt to grab a text file containing the Gettysburg Address. Have the program write this to a file named ga.txt.\n",
    "\n",
    "\n",
    "\n",
    "\n",
    "\n"
   ]
  },
  {
   "cell_type": "code",
   "execution_count": 24,
   "metadata": {},
   "outputs": [],
   "source": [
    "with open('GettheAdresses.txt') as f:\n",
    "    with open(\"ga.txt\", \"w\") as f1:\n",
    "        for line in f:\n",
    "            f1.write(line)\n",
    "\n"
   ]
  },
  {
   "cell_type": "markdown",
   "metadata": {},
   "source": [
    "## 2. Write a program WordLineCounts.py that counts the number of lines and words in ga.txt, printing the resulting counts to the terminal. Annotate the output so that it is understandable:\n",
    "\n",
    "#### Count statistics in file ga.txt\n",
    "\n",
    "#### The number of words is ###.\n",
    "\n",
    "#### The number of lines is ###."
   ]
  },
  {
   "cell_type": "code",
   "execution_count": 8,
   "metadata": {},
   "outputs": [
    {
     "name": "stdout",
     "output_type": "stream",
     "text": [
      "This is the number of lines and words in the file\n",
      "24 278\n"
     ]
    }
   ],
   "source": [
    "file = open(\"ga.txt\",\"r\") \n",
    "lineCounter = 0\n",
    "wordCounter = 0\n",
    "  \n",
    "# Reading from file \n",
    "Content = file.read() \n",
    "CoList = Content.split(\"\\n\") \n",
    "\n",
    "for i in CoList: \n",
    "    if i: \n",
    "        lineCounter += 1\n",
    "        coWord = i.split(\" \")\n",
    "        for j in coWord :\n",
    "            if j :\n",
    "                wordCounter += 1\n",
    "        \n",
    "          \n",
    "print(\"This is the number of lines and words in the file\") \n",
    "print(lineCounter,wordCounter) "
   ]
  },
  {
   "cell_type": "markdown",
   "metadata": {},
   "source": [
    "## 3. Write a program VowelCounts.py that reads in ga.txt and counts the number of each kind of vowel, printing the results for each vowel to the terminal. Annotate the output so that it is understandable.\n"
   ]
  },
  {
   "cell_type": "code",
   "execution_count": 9,
   "metadata": {},
   "outputs": [
    {
     "name": "stdout",
     "output_type": "stream",
     "text": [
      "This is the number of vowels in file\n",
      "449\n"
     ]
    }
   ],
   "source": [
    "file = open(\"ga.txt\",\"r\") \n",
    "vowelCounter = 0\n",
    "\n",
    "Content = file.read() \n",
    "\n",
    "for i in Content :\n",
    "    if i in ('a','e','i','o','u','A','E','I','O','U') :\n",
    "        vowelCounter += 1\n",
    "print(\"This is the number of vowels in file\") \n",
    "print(vowelCounter)"
   ]
  },
  {
   "cell_type": "markdown",
   "metadata": {},
   "source": [
    "## 4. Write a program SortFile.py that reads in and alphabetically sorts the lines (not individual words) in ga.txt and outputs those lines to a new file ga_sorted.txt.\n"
   ]
  },
  {
   "cell_type": "code",
   "execution_count": 17,
   "metadata": {},
   "outputs": [],
   "source": [
    "file1 = open(\"ga.txt\",\"r\")\n",
    "sort1 = open(\"ga_sorted.txt\",\"w\")\n",
    "data=sorted(file1)\n",
    "for line in data:\n",
    "    sort1.write(line)\n",
    "file1.close()\n",
    "sort1.close()"
   ]
  },
  {
   "cell_type": "markdown",
   "metadata": {},
   "source": [
    "## 5. Iterate a chaotic one-dimensional map: Write a program OneDMapIterate.py that iterates the function f(x) = 4.0 x ( 1 - x ). First, set the initial condition x = 0.3. Then apply f(x) repeatedly to each new x. Iterate for 100 steps, printing on each line the iteration number and the successive x values to file onedmap.txt.\n"
   ]
  },
  {
   "cell_type": "code",
   "execution_count": 25,
   "metadata": {},
   "outputs": [],
   "source": [
    "file1 = open(\"onedmap.txt\",\"w\")\n",
    "x=0.3\n",
    "for i in range(1,101):\n",
    "    x=4.0*(1-x)\n",
    "    file1.write(\"Value of X at {} iteration is {}\".format(i,x))\n",
    "    file1.write(\"\\n\")\n",
    "file1.close()\n"
   ]
  },
  {
   "cell_type": "markdown",
   "metadata": {},
   "source": [
    "## 6. Analyze a chaotic one-dimensional map: Write a program OneDMapAnalyze.py that reads the data in onedmap.txt. Calculate the mean value of the iterates, printing the result to the terminal; again annotate the output so that it is understandable. Determine the fraction of iterates that have x > 0.5. Also, print out that result."
   ]
  },
  {
   "cell_type": "code",
   "execution_count": 1,
   "metadata": {},
   "outputs": [
    {
     "name": "stdout",
     "output_type": "stream",
     "text": [
      "\n",
      "Values of the fraction of iterates that have x > 0.5 are : \n",
      "\n",
      "2.8\n",
      "32.8\n",
      "512.8\n",
      "8192.8\n",
      "131072.8\n",
      "2097152.8\n",
      "33554432.8\n",
      "536870912.8\n",
      "8589934592.8\n",
      "137438953472.8\n",
      "2199023255552.8\n",
      "35184372088832.8\n",
      "562949953421312.8\n",
      "9007199254740992.0\n",
      "1.4411518807585586e+17\n",
      "2.3058430092136937e+18\n",
      "3.68934881474191e+19\n",
      "5.902958103587056e+20\n",
      "9.444732965739289e+21\n",
      "1.5111572745182863e+23\n",
      "2.417851639229258e+24\n",
      "3.868562622766813e+25\n",
      "6.189700196426901e+26\n",
      "9.903520314283041e+27\n",
      "1.5845632502852866e+29\n",
      "2.5353012004564585e+30\n",
      "4.0564819207303336e+31\n",
      "6.490371073168534e+32\n",
      "1.0384593717069654e+34\n",
      "1.6615349947311447e+35\n",
      "2.6584559915698315e+36\n",
      "4.2535295865117303e+37\n",
      "6.8056473384187685e+38\n",
      "1.088903574147003e+40\n",
      "1.7422457186352047e+41\n",
      "2.7875931498163276e+42\n",
      "4.460149039706124e+43\n",
      "7.136238463529799e+44\n",
      "1.1417981541647678e+46\n",
      "1.8268770466636284e+47\n",
      "2.9230032746618055e+48\n",
      "4.676805239458889e+49\n",
      "7.482888383134222e+50\n",
      "1.1972621413014755e+52\n",
      "1.9156194260823609e+53\n",
      "3.0649910817317774e+54\n",
      "4.903985730770844e+55\n",
      "7.84637716923335e+56\n",
      "1.255420347077336e+58\n",
      "2.0086725553237376e+59\n",
      "\n",
      "Mean of all the Iterates :  -6.427752177035961e+57\n"
     ]
    }
   ],
   "source": [
    "with open(\"onedmap.txt\") as x:\n",
    "    l1 = x.readlines()\n",
    "sum1=0 \n",
    "\n",
    "print(\"\\nValues of the fraction of iterates that have x > 0.5 are : \\n\")\n",
    "for i in l1:\n",
    "    x=i.split()\n",
    "    sum1 += float(x[-1])\n",
    "    if float(x[-1]) > 0.5:\n",
    "        print(x[-1],end=\"\\n\")\n",
    "print(\"\\nMean of all the Iterates : \",(sum1/len(l1)))"
   ]
  },
  {
   "cell_type": "code",
   "execution_count": null,
   "metadata": {},
   "outputs": [],
   "source": []
  }
 ],
 "metadata": {
  "kernelspec": {
   "display_name": "Python 3",
   "language": "python",
   "name": "python3"
  },
  "language_info": {
   "codemirror_mode": {
    "name": "ipython",
    "version": 3
   },
   "file_extension": ".py",
   "mimetype": "text/x-python",
   "name": "python",
   "nbconvert_exporter": "python",
   "pygments_lexer": "ipython3",
   "version": "3.7.6"
  }
 },
 "nbformat": 4,
 "nbformat_minor": 4
}
