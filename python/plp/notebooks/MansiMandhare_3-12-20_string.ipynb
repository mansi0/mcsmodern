{
 "cells": [
  {
   "cell_type": "markdown",
   "metadata": {},
   "source": [
    "## 1. Write a Python program to calculate the length of a string."
   ]
  },
  {
   "cell_type": "code",
   "execution_count": 18,
   "metadata": {},
   "outputs": [
    {
     "name": "stdout",
     "output_type": "stream",
     "text": [
      "Enter String:mansi\n",
      "5\n"
     ]
    }
   ],
   "source": [
    "s = input(\"Enter String:\")\n",
    "print(len(s))    #Build in function"
   ]
  },
  {
   "cell_type": "code",
   "execution_count": 17,
   "metadata": {},
   "outputs": [
    {
     "name": "stdout",
     "output_type": "stream",
     "text": [
      "Enter String:mansi\n",
      "5\n"
     ]
    }
   ],
   "source": [
    "s = input(\"Enter String:\")\n",
    "l = 0\n",
    "for i in s :\n",
    "    l += 1\n",
    "print(l)"
   ]
  },
  {
   "cell_type": "code",
   "execution_count": 16,
   "metadata": {},
   "outputs": [
    {
     "name": "stdout",
     "output_type": "stream",
     "text": [
      "Enter String:mansi\n",
      "5\n"
     ]
    }
   ],
   "source": [
    "s = input(\"Enter String:\")\n",
    "l = 0\n",
    "while s[l:] :\n",
    "    l+= 1\n",
    "print(l)"
   ]
  },
  {
   "cell_type": "markdown",
   "metadata": {},
   "source": [
    "## 2. Check if given string is palindrome."
   ]
  },
  {
   "cell_type": "code",
   "execution_count": 19,
   "metadata": {},
   "outputs": [
    {
     "name": "stdout",
     "output_type": "stream",
     "text": [
      "Enter String:madam\n",
      "String is palindrome\n"
     ]
    }
   ],
   "source": [
    "s = input(\"Enter String:\")\n",
    "str = \"\" \n",
    "for i in s: \n",
    "    str = i + str               #reverse string\n",
    "if s == rev :                   #compare original string and reverse string\n",
    "    print(\"String is palindrome\")\n",
    "else :\n",
    "    print(\"String is not palindrome\")"
   ]
  },
  {
   "cell_type": "code",
   "execution_count": 20,
   "metadata": {},
   "outputs": [
    {
     "name": "stdout",
     "output_type": "stream",
     "text": [
      "Enter String:madam\n",
      "String is palindrome\n"
     ]
    }
   ],
   "source": [
    "s = input(\"Enter String:\")\n",
    "rev = s[::-1]                   #reverse string\n",
    "if s == rev :                   #compare original string and reverse string\n",
    "    print(\"String is palindrome\")\n",
    "else :\n",
    "    print(\"String is not palindrome\")"
   ]
  },
  {
   "cell_type": "code",
   "execution_count": 5,
   "metadata": {},
   "outputs": [
    {
     "name": "stdout",
     "output_type": "stream",
     "text": [
      "Enter String:abcd\n",
      "String is not palindrome\n"
     ]
    }
   ],
   "source": [
    "s = input(\"Enter String:\")\n",
    "def palindrome(s):\n",
    "    for i in range(0 ,int(len(s)/2)) :        #Traverse string upto len/2\n",
    "        if s[i] != s[len(s)-(i+1)] :          #compare start letter with last letter and so on...\n",
    "            return False\n",
    "        else :\n",
    "            return True\n",
    "        \n",
    "ans = palindrome(s)\n",
    "if ans :\n",
    "    print(\"String is palindrome\")\n",
    "else :\n",
    "    print(\"String is not palindrome\")"
   ]
  },
  {
   "cell_type": "markdown",
   "metadata": {},
   "source": [
    "## 3. Write a Python program to get a string made of the first 2 and the last 2 chars from agiven a string. If the string length is less than 2, return instead of the empty string.\n",
    "#### Sample String : ‘Learning Python’\n",
    "#### Expected Result : ‘Leon’\n",
    "#### Sample String : 'Pi'\n",
    "#### Expected Result : 'PiPi'\n",
    "#### Sample String : ' S'\n",
    "#### Expected Result : Empty String"
   ]
  },
  {
   "cell_type": "code",
   "execution_count": 17,
   "metadata": {},
   "outputs": [
    {
     "name": "stdout",
     "output_type": "stream",
     "text": [
      "Enter String:mansi mandhare\n",
      "mare\n"
     ]
    }
   ],
   "source": [
    "s = input(\"Enter String:\")\n",
    "if len(s) < 2 :\n",
    "    print(\"\")\n",
    "else :\n",
    "    print(s[0:2]+s[len(s)-2 :len(s)])"
   ]
  },
  {
   "cell_type": "code",
   "execution_count": 16,
   "metadata": {},
   "outputs": [
    {
     "name": "stdout",
     "output_type": "stream",
     "text": [
      "Enter String:pipi\n",
      "pipi"
     ]
    }
   ],
   "source": [
    "s = input(\"Enter String:\")\n",
    "if len(s) >1 :\n",
    "    for i in range(0,2) :\n",
    "        print(s[i],end=\"\")\n",
    "    for i in range(len(s)-2,len(s)) :\n",
    "        print(s[i],end=\"\")"
   ]
  },
  {
   "cell_type": "markdown",
   "metadata": {},
   "source": [
    "## 4. Write a Python program to get a string from a given string where all occurrences of its first char have been changed to \" Dollar sign \", except the first char itself.\n",
    "#### Sample String : 'restart'\n",
    "#### Expected Result : 'resta$t'"
   ]
  },
  {
   "cell_type": "code",
   "execution_count": 22,
   "metadata": {},
   "outputs": [
    {
     "name": "stdout",
     "output_type": "stream",
     "text": [
      "Enter String:restart\n",
      "resta$t\n"
     ]
    }
   ],
   "source": [
    "s = input(\"Enter String:\")\n",
    "first = s[0]                       #save first letter into variable\n",
    "for i in range(1 , len(s)) :       # traverse the string\n",
    "    if s[i] == first :\n",
    "        s = s[:i] + '$' + s[i+1:]  # Replace all occurances in string by $\n",
    "print(s)"
   ]
  },
  {
   "cell_type": "code",
   "execution_count": 23,
   "metadata": {},
   "outputs": [
    {
     "name": "stdout",
     "output_type": "stream",
     "text": [
      "Enter String:restart\n",
      "resta$t\n"
     ]
    }
   ],
   "source": [
    "def change_char(str1):\n",
    "  char = str1[0]\n",
    "  str1 = str1.replace(char, '$')   # replace all occurances of 1st char into $ including 1st character\n",
    "  str1 = char + str1[1:]           # Delete first $ sign from string ; Append first character \n",
    "                                   # which saved in another variable\n",
    "\n",
    "  return str1\n",
    "\n",
    "s = input(\"Enter String:\")\n",
    "print(change_char(s))"
   ]
  },
  {
   "cell_type": "markdown",
   "metadata": {},
   "source": [
    "### Write a Python program to get a single string from two given strings, separated by a space and swap the first two characters of each string. \n",
    "#### Sample String : 'abc', 'xyz'\n",
    "#### Expected Result : 'xyc abz'"
   ]
  },
  {
   "cell_type": "code",
   "execution_count": 26,
   "metadata": {},
   "outputs": [
    {
     "name": "stdout",
     "output_type": "stream",
     "text": [
      "Enter 1st String:abc\n",
      "Enter 2nd String:xyz\n",
      "xyc abz\n"
     ]
    }
   ],
   "source": [
    "s1 = input(\"Enter 1st String:\")\n",
    "s2 = input(\"Enter 2nd String:\")\n",
    "s3 = s2[:2] + s1[2:] + \" \" + s1[:2] + s2[2:]\n",
    "print(s3)"
   ]
  },
  {
   "cell_type": "markdown",
   "metadata": {},
   "source": [
    "### 6. Write a Python program to add 'ing' at the end of a given string (length should be at least 3). If the given string already ends with 'ing' then add 'ly' instead. If the string length of the given string is less than 3, leave it unchanged.\n",
    "#### Sample String : 'abc'\n",
    "#### Expected Result : 'abcing'\n",
    "#### Sample String : 'string'\n",
    "#### Expected Result : 'stringly'"
   ]
  },
  {
   "cell_type": "code",
   "execution_count": 31,
   "metadata": {},
   "outputs": [
    {
     "name": "stdout",
     "output_type": "stream",
     "text": [
      "Enter String:string\n",
      "stringly\n"
     ]
    }
   ],
   "source": [
    "s = input(\"Enter String:\")\n",
    "if len(s) > 2 :\n",
    "    if(s[-3 :] == 'ing') :             # check given string already ends with ing \n",
    "        s = s + \"ly\"                   # if yes append ly\n",
    "    else :\n",
    "        s = s + \"ing\"                  # append ing to string having length at least 3\n",
    "print(s)\n",
    "    "
   ]
  },
  {
   "cell_type": "code",
   "execution_count": null,
   "metadata": {},
   "outputs": [],
   "source": [
    "7. Write a Python program to find the first appearance of the substring 'not' and 'poor' from\n",
    "a given string, if 'bad' follows the 'poor', replace the whole 'not'...'poor' substring with\n",
    "'good'. Return the resulting string.\n",
    "Sample String : 'The music is not that poor!'\n",
    "Expected Result : 'The music is good!'"
   ]
  },
  {
   "cell_type": "code",
   "execution_count": null,
   "metadata": {},
   "outputs": [],
   "source": []
  }
 ],
 "metadata": {
  "kernelspec": {
   "display_name": "Python 3",
   "language": "python",
   "name": "python3"
  },
  "language_info": {
   "codemirror_mode": {
    "name": "ipython",
    "version": 3
   },
   "file_extension": ".py",
   "mimetype": "text/x-python",
   "name": "python",
   "nbconvert_exporter": "python",
   "pygments_lexer": "ipython3",
   "version": "3.7.6"
  }
 },
 "nbformat": 4,
 "nbformat_minor": 4
}
